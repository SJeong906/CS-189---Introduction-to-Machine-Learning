{
  "cells": [
    {
      "cell_type": "code",
      "execution_count": null,
      "id": "0e00d10f",
      "metadata": {
        "id": "0e00d10f"
      },
      "outputs": [],
      "source": [
        "## IMPORTANT: On Colab, we expect your homework to be in the cs189 folder\n",
        "## Please contact staff if you encounter any problems with installing dependencies\n",
        "import sys\n",
        "IS_COLAB = 'google.colab' in sys.modules\n",
        "if IS_COLAB:\n",
        "    from google.colab import drive\n",
        "    drive.mount('/content/drive')\n",
        "    %cd /content/drive/MyDrive/cs189/hw/hw2\n",
        "    %pip install -r ./requirements.txt\n",
        "    !pip install -U kaleido plotly\n",
        "    import kaleido\n",
        "    kaleido.get_chrome_sync()\n",
        "\n",
        "import plotly.io as pio\n",
        "pio.renderers.default = pio.renderers.default + \"+png\""
      ]
    },
    {
      "cell_type": "code",
      "execution_count": null,
      "id": "2e25c9e0",
      "metadata": {
        "deletable": false,
        "editable": false,
        "id": "2e25c9e0"
      },
      "outputs": [],
      "source": [
        "# Initialize Otter\n",
        "import otter\n",
        "grader = otter.Notebook(\"arena_style_control.ipynb\")"
      ]
    },
    {
      "cell_type": "markdown",
      "id": "ab40ce34",
      "metadata": {
        "id": "ab40ce34"
      },
      "source": [
        "<link rel=\"stylesheet\" href=\"berkeley.css\">\n",
        "\n",
        "<h1 class=\"cal cal-h1\">Homework 02 – Welcome to the Arena (Style Control)</h1>\n",
        "\n",
        "CS 189, Fall 2025\n",
        "\n",
        "In this homework you will get more experience with logistic regression to create model leaderboards.\n",
        "\n",
        "We will be taking real data from [LMArena](https://lmarena.ai/), a popular platform for crowdsourcing evaluations of large language models and recreating their leaderboards, with a few fun extra steps along the way.\n",
        "\n",
        "The chats can be viewed interactively by accessing [ChatBot-Arena-Viewer](https://huggingface.co/spaces/BerkeleyML/Chatbot-Arena-Viewer) through hugging face. Much of the first half of this homework was first written by Prof Gonzalez back when his students first started the project, and now LMArena is a standard evaluation for large language models and turned into a company! Don't let anyone tell you logistic regression isn't valuable, it's worth at least $600 Million.\n",
        "    \n",
        "---\n",
        "\n",
        "\n",
        "## Due Date: Friday, October 17, 11:59 PM\n",
        "\n",
        "This assignment is due on **Friday, October 17, 11:59 PM**. You must submit your work to Gradescope by this deadline. Please refer to the syllabus for the [Slip Day policy](https://eecs189.org/fa25/syllabus/#slip-days). No late submissions will be accepted beyond the details outlined in the Slip Day policy.\n",
        "\n",
        "### Submission Tips\n",
        "- **Plan ahead**: We strongly encourage you to submit your work several hours before the deadline. This will give you ample time to address any submission issues.\n",
        "- **Reach out for help early**: If you encounter difficulties, contact course staff well before the deadline. While we are happy to assist with submission issues, we cannot guarantee responses to last-minute requests.\n",
        "      \n",
        "<!-- --- -->\n",
        "\n",
        "### Key Learning Objectives\n",
        "\n",
        "In this homework you will build on the previous warmup section, implementing the Bradley-Terry ranking used in the actual Arena and taking account of style controls for model rank. In particular, you will:\n",
        "1. Apply the Bradley–Terry model to build leaderboards\n",
        "2. Practice analyzing conversational data and extracting stylistic features  \n",
        "3. Build custom features (length, punctuation, phrase presence, etc.) and integrate them into ranking models  \n",
        "4. Explore confounding stylistic variables in LLM evaluation (style vs. content)  \n",
        "5. Apply pairwise evaluation methods to understand how style affects outcomes  \n",
        "  \n",
        "---\n",
        "\n",
        "### Collaboration Policy\n",
        "You are encouraged to discuss high-level concepts with your peers. However:\n",
        "- All submitted work must be written in your own words and code.\n",
        "- Do not share or copy solutions directly.\n",
        "- List any collaborators (students you worked with) in the line below:\n",
        "\n",
        "**Your Collaborators**: **I don't have a collaborator**\n",
        "\n",
        "### AI Tools Usage Disclosure\n",
        "We allow the use of AI tools (e.g., ChatGPT, Copilot) **only as support**, not as a replacement for your own reasoning. To ensure transparency, you must acknowledge any use of AI tools.\n",
        "\n",
        "Please complete one of the following:\n",
        "- **A) I did not use any AI tools for this homework.**\n",
        "- **B) I used AI tools in the following way(s):**  \n",
        "  (describe briefly, e.g., “Used ChatGPT to get hints for debugging a NumPy indexing error”)\n",
        "\n",
        "\n",
        "**Your Answer**: **I did not use any AI tools for this homework.**\n",
        "    \n",
        "---\n",
        "\n",
        "### Grading Breakdown\n",
        "\n",
        "| Question | Manual Grading? | Points |\n",
        "|----------|-----------------|--------|\n",
        "| q4a      | No              | 2      |\n",
        "| q4b      | No              | 2      |\n",
        "| q4c      | Yes             | 2      |\n",
        "| q5a      | No              | 2      |\n",
        "| q5b      | No              | 2      |\n",
        "| q7a      | No              | 2      |\n",
        "| q7b      | No              | 2      |\n",
        "| q8a      | No              | 2      |\n",
        "| q8afrq   | Yes             | 2      |\n",
        "| q8b      | No              | 2      |\n",
        "| q8c      | No              | 2      |\n",
        "| q9a      | No              | 2      |\n",
        "| q9b      | Yes             | 4      |\n",
        "| q9c      | Yes             | 6      |\n",
        "| **Total**|                 | **34** |\n"
      ]
    },
    {
      "cell_type": "code",
      "execution_count": null,
      "id": "7bbcb4e3",
      "metadata": {
        "id": "7bbcb4e3"
      },
      "outputs": [],
      "source": [
        "import numpy as np\n",
        "import pandas as pd\n",
        "import plotly.express as px\n",
        "import plotly.graph_objects as go\n",
        "from plotting_utils import plot_rank_heatmap, plot_style_features\n",
        "#set fixed seed of 189\n",
        "np.random.seed(189)"
      ]
    },
    {
      "cell_type": "code",
      "execution_count": null,
      "id": "1377be9b",
      "metadata": {
        "id": "1377be9b",
        "colab": {
          "base_uri": "https://localhost:8080/",
          "height": 358,
          "referenced_widgets": [
            "ed1e4f32d470475a860a5e328a412c96",
            "2bdc0448c9ee4b19a03354c470fa68e5",
            "353889d853374d91b3c17033b72e59cb",
            "6e986d7b70df48c0bdf9d2cb34b9b545",
            "847151797b32475eb22590cd6667f71a",
            "659e86ce04764ca49d2432d7857dcdb4",
            "4ffeaea82965452a9714bb3f0abeed89",
            "b779db6f610a46bf9d8bac5ae5255990",
            "0147996c54b941c4a6d49f796cd182eb",
            "3a837fcb721944f1a5ba4cba66eb859d",
            "469f6aba5dac4dd390cf750bf82f906a",
            "3bb060826f04483baa75ce4e4785a963",
            "e972de679ae74de59631f4fddef50352",
            "201b733ca4984efa8bc01c7a7dac10fc",
            "7f99d64ca3f74895a8dd0690fd88a90a",
            "7e875575cf674c7b98a22f329c8e6e01",
            "1bf2a99ed5a04c199758a3ee2ea57051"
          ]
        },
        "outputId": "84322088-0304-48a5-d462-e89f7f063344"
      },
      "outputs": [
        {
          "output_type": "stream",
          "name": "stdout",
          "text": [
            "Requirement already satisfied: ipywidgets in /usr/local/lib/python3.12/dist-packages (8.1.7)\n",
            "Requirement already satisfied: comm>=0.1.3 in /usr/local/lib/python3.12/dist-packages (from ipywidgets) (0.2.3)\n",
            "Requirement already satisfied: ipython>=6.1.0 in /usr/local/lib/python3.12/dist-packages (from ipywidgets) (7.34.0)\n",
            "Requirement already satisfied: traitlets>=4.3.1 in /usr/local/lib/python3.12/dist-packages (from ipywidgets) (5.7.1)\n",
            "Requirement already satisfied: widgetsnbextension~=4.0.14 in /usr/local/lib/python3.12/dist-packages (from ipywidgets) (4.0.14)\n",
            "Requirement already satisfied: jupyterlab_widgets~=3.0.15 in /usr/local/lib/python3.12/dist-packages (from ipywidgets) (3.0.15)\n",
            "Requirement already satisfied: setuptools>=18.5 in /usr/local/lib/python3.12/dist-packages (from ipython>=6.1.0->ipywidgets) (75.2.0)\n",
            "Requirement already satisfied: jedi>=0.16 in /usr/local/lib/python3.12/dist-packages (from ipython>=6.1.0->ipywidgets) (0.19.2)\n",
            "Requirement already satisfied: decorator in /usr/local/lib/python3.12/dist-packages (from ipython>=6.1.0->ipywidgets) (4.4.2)\n",
            "Requirement already satisfied: pickleshare in /usr/local/lib/python3.12/dist-packages (from ipython>=6.1.0->ipywidgets) (0.7.5)\n",
            "Requirement already satisfied: prompt-toolkit!=3.0.0,!=3.0.1,<3.1.0,>=2.0.0 in /usr/local/lib/python3.12/dist-packages (from ipython>=6.1.0->ipywidgets) (3.0.52)\n",
            "Requirement already satisfied: pygments in /usr/local/lib/python3.12/dist-packages (from ipython>=6.1.0->ipywidgets) (2.19.2)\n",
            "Requirement already satisfied: backcall in /usr/local/lib/python3.12/dist-packages (from ipython>=6.1.0->ipywidgets) (0.2.0)\n",
            "Requirement already satisfied: matplotlib-inline in /usr/local/lib/python3.12/dist-packages (from ipython>=6.1.0->ipywidgets) (0.1.7)\n",
            "Requirement already satisfied: pexpect>4.3 in /usr/local/lib/python3.12/dist-packages (from ipython>=6.1.0->ipywidgets) (4.9.0)\n",
            "Requirement already satisfied: parso<0.9.0,>=0.8.4 in /usr/local/lib/python3.12/dist-packages (from jedi>=0.16->ipython>=6.1.0->ipywidgets) (0.8.5)\n",
            "Requirement already satisfied: ptyprocess>=0.5 in /usr/local/lib/python3.12/dist-packages (from pexpect>4.3->ipython>=6.1.0->ipywidgets) (0.7.0)\n",
            "Requirement already satisfied: wcwidth in /usr/local/lib/python3.12/dist-packages (from prompt-toolkit!=3.0.0,!=3.0.1,<3.1.0,>=2.0.0->ipython>=6.1.0->ipywidgets) (0.2.14)\n"
          ]
        },
        {
          "output_type": "display_data",
          "data": {
            "text/plain": [
              "VBox(children=(HTML(value='<center> <img\\nsrc=https://huggingface.co/front/assets/huggingface_logo-noborder.sv…"
            ],
            "application/vnd.jupyter.widget-view+json": {
              "version_major": 2,
              "version_minor": 0,
              "model_id": "ed1e4f32d470475a860a5e328a412c96"
            }
          },
          "metadata": {}
        }
      ],
      "source": [
        "! pip install ipywidgets\n",
        "from huggingface_hub import notebook_login\n",
        "notebook_login()"
      ]
    },
    {
      "cell_type": "code",
      "execution_count": null,
      "id": "856324d2",
      "metadata": {
        "id": "856324d2",
        "colab": {
          "base_uri": "https://localhost:8080/",
          "height": 180,
          "referenced_widgets": [
            "1e56e526f43049e6afb61d97fd1c1ba3",
            "27d8a89f2b47482f9c216f0066079ef7",
            "502f092854424f2187fb848af3124416",
            "b8d9fb829da743458b9b26173e2bdc9e",
            "3b9edfb936ff46d1ae0adf96f24ec6e8",
            "7486f1d73a6541ea9c02bf574c1a0abe",
            "b048641a57f941239b3d2c53d15d71fc",
            "b798c72d403640a1baaf87ab0bc7e54a",
            "53096429a66841489ae9dff9894b3682",
            "4351a26be5024ab3aaa4ab3866ef8a46",
            "d6640ca71c2448e6b8f453fc96f53982",
            "14febdd44ce040bc8244c0b53b7f8148",
            "c4503992582e414aabee01eb0b860438",
            "efc925c9bb354950bc210ebd35d8f2fe",
            "fe683b04c86645b088acb10790af9276",
            "eda92fb8d5344cbbbbc313a618b9e421",
            "448457a5279840e4b0dc136e30cf38bb",
            "1bb9ec618d714904b5e235e2d5096387",
            "d774e7355f0547b3a29cf363ec0180b8",
            "6ad6d335c0144579919111838f917efa",
            "6f7cd63d5bc34269b322e4ce3a0c789a",
            "f9e4da55df1740a2b6bc30874a87b3a6",
            "e617edd27d0641579e6fa9c8ad611a71",
            "c9afd0675c6d4cf3a5155f9d78405f8d",
            "dec17b5a999a4d6abcb2f57494823728",
            "eb3d01c109a54d59a5f701cd4eda9227",
            "ecc8e20ec42144238d8c07442289c732",
            "a1e0086910514b2d9bff74b125792d44",
            "9608ba10d7c74993a53abb1467328a44",
            "24d0a641832e4e97a2338a137f3a5776",
            "ecba8344cfd94cbe9f02df4803733757",
            "9db4089e990e4be5b36be384097eb847",
            "4b3f6beb2315424280e3b7a1f571d05c"
          ]
        },
        "outputId": "d23706c9-70d5-468d-df08-890722502dc8"
      },
      "outputs": [
        {
          "output_type": "stream",
          "name": "stderr",
          "text": [
            "/usr/local/lib/python3.12/dist-packages/huggingface_hub/utils/_auth.py:94: UserWarning:\n",
            "\n",
            "\n",
            "The secret `HF_TOKEN` does not exist in your Colab secrets.\n",
            "To authenticate with the Hugging Face Hub, create a token in your settings tab (https://huggingface.co/settings/tokens), set it as secret in your Google Colab and restart your session.\n",
            "You will be able to reuse this secret in all of your notebooks.\n",
            "Please note that authentication is recommended but still optional to access public models or datasets.\n",
            "\n"
          ]
        },
        {
          "output_type": "display_data",
          "data": {
            "text/plain": [
              "README.md: 0.00B [00:00, ?B/s]"
            ],
            "application/vnd.jupyter.widget-view+json": {
              "version_major": 2,
              "version_minor": 0,
              "model_id": "1e56e526f43049e6afb61d97fd1c1ba3"
            }
          },
          "metadata": {}
        },
        {
          "output_type": "display_data",
          "data": {
            "text/plain": [
              "data/arena-explorer-preference-100k.parq(…):   0%|          | 0.00/380M [00:00<?, ?B/s]"
            ],
            "application/vnd.jupyter.widget-view+json": {
              "version_major": 2,
              "version_minor": 0,
              "model_id": "14febdd44ce040bc8244c0b53b7f8148"
            }
          },
          "metadata": {}
        },
        {
          "output_type": "display_data",
          "data": {
            "text/plain": [
              "Generating train split:   0%|          | 0/106134 [00:00<?, ? examples/s]"
            ],
            "application/vnd.jupyter.widget-view+json": {
              "version_major": 2,
              "version_minor": 0,
              "model_id": "e617edd27d0641579e6fa9c8ad611a71"
            }
          },
          "metadata": {}
        }
      ],
      "source": [
        "from datasets import load_dataset\n",
        "# Login using e.g. `huggingface-cli login` to access this dataset (this will take a few minutes to download)\n",
        "ds = load_dataset(\"lmarena-ai/arena-human-preference-100k\")\n",
        "battles = ds['train'].to_pandas()"
      ]
    },
    {
      "cell_type": "markdown",
      "id": "c11eff00",
      "metadata": {
        "id": "c11eff00"
      },
      "source": [
        "## Initialize with HW2 Warmup\n",
        "\n",
        "Fill in the cells in this section with your implementations from part 1 of the homework."
      ]
    },
    {
      "cell_type": "markdown",
      "id": "ea669ad2",
      "metadata": {
        "id": "ea669ad2"
      },
      "source": [
        "#### FILL IN: HW2 Part 1 Question 1B Block"
      ]
    },
    {
      "cell_type": "code",
      "execution_count": null,
      "id": "924da4f3",
      "metadata": {
        "id": "924da4f3"
      },
      "outputs": [],
      "source": [
        "# #TODO: FILL IN from your solution for Question 1B\n",
        "models = pd.concat([battles[\"model_a\"], battles[\"model_b\"]])\n",
        "selected_models = models.value_counts().head(20).index.to_list()\n",
        "selected_battles = battles[(battles.model_a.isin(selected_models)) & (battles.model_b.isin(selected_models))]\n",
        "selected_battles_no_ties = selected_battles[(selected_battles.winner != 'tie') & (selected_battles.winner != 'tie (bothbad)')]"
      ]
    },
    {
      "cell_type": "code",
      "execution_count": null,
      "id": "ed40b6fa",
      "metadata": {
        "id": "ed40b6fa",
        "colab": {
          "base_uri": "https://localhost:8080/"
        },
        "outputId": "c230c1cf-ddf1-4cfd-974a-10e936fa7f0f"
      },
      "outputs": [
        {
          "output_type": "stream",
          "name": "stdout",
          "text": [
            "Before dedup:  26154\n",
            "After dedup:  25533\n"
          ]
        }
      ],
      "source": [
        "print(\"Before dedup: \", len(selected_battles_no_ties))\n",
        "selected_battles_no_ties = selected_battles_no_ties[selected_battles_no_ties[\"dedup_tag\"].apply(lambda x: x.get(\"sampled\", False))]\n",
        "print(\"After dedup: \", len(selected_battles_no_ties))"
      ]
    },
    {
      "cell_type": "markdown",
      "id": "8bc068f2",
      "metadata": {
        "id": "8bc068f2"
      },
      "source": [
        "##  **Question 4: Model Strengths**"
      ]
    },
    {
      "cell_type": "markdown",
      "id": "b7cef763",
      "metadata": {
        "id": "b7cef763"
      },
      "source": [
        "In the earlier part of the homework, we calculated the Average Model Win-Rate.\n",
        "\n",
        "However, this method is not ideal for our use case where battle counts per model are not equal. For instance, if ChatGPT-4o-latest battled more often with weaker models, it would have a high win rate without being an actually stronger model. Now let's explore how we can instead *learn* these model strengths.\n",
        "\n",
        "**To recap,** we want to construct a leaderboard by assigning a strength score $S_m$ to each model $m \\in \\{1,...,M\\}$, such that:\n",
        "- The ranking reflects the probability of one model winning against another.\n",
        "- For any pair of models A and B, the probability that A beats B, should depend on the *difference* in their strengths: $S_A - S_B$. Why the difference? Since we are measuring pairwise preference, there is no absolute measure of strength but rather a model's strength *relative* to other models.\n",
        "\n",
        "**Formally, we want a function $f$ such that**\n",
        "- For models A and B with scores $S_A$ and $S_B$, we want:\n",
        "  $$ P(\\text{A beats B}) = f(S_A - S_B) $$\n",
        "- The function $f$ should be increasing (bigger skill gap, higher win chance), and always output a probability between 0 and 1.\n",
        "\n",
        "At this point, a natural question is: what should we choose for the function $f$? A standard and effective choice is the logistic (sigmoid) function:\n",
        "\n",
        "$$ P(\\text{A beats B}) = \\sigma(S_A - S_B) = \\frac{1}{1 + e^{-(S_A - S_B)}} $$\n",
        "\n",
        "Notice that this is exactly the same form as logistic regression, where the model scores are the parameters to be learned. In other words, learning model strengths from pairwise outcomes is equivalent to fitting a logistic regression model to the data.\n",
        "\n",
        "So, we can use logistic regression to learn the model strengths that best explain the observed battle outcomes. The higher a model's score, the more likely it is to win against others. The methodology is called the [Bradley-Terry](https://en.wikipedia.org/wiki/Bradley%E2%80%93Terry_model) model and is the underlying theory to other common scoring systems like ELO ratings."
      ]
    },
    {
      "cell_type": "markdown",
      "id": "19a5e966",
      "metadata": {
        "id": "19a5e966"
      },
      "source": [
        "#### Step 1: Understanding the formulation of the problem as features\n",
        "\n",
        "To learn these model strengths, we need to prepare our data in a form suitable for logistic regression. Recall that each battle involves two models: A and B. One of them wins (for simplicity we still start by removing any battles that end in ties).\n",
        "\n",
        "We want to convert this into:\n",
        "\n",
        "1. A feature vector indicating which two models were involved.\n",
        "2. A label representing the winner.\n",
        "\n",
        "Each row produces two training examples:\n",
        "\n",
        "1. One with model A as +1 and model B as –1, and a label denoting if model A wins\n",
        "2. Another with model B as +1 and model A as –1, and a label denoting if model B wins\n",
        "\n",
        "Let's take a look an example:\n",
        "\n",
        "`row = {'model_a': 'gpt-4o-2024-05-13', 'model_b': 'claude-3-opus-20240229', 'winner': 'model_a'}`\n",
        "\n",
        "This generates two features, which are...\n",
        "\n",
        "**Feature 1:** [1, -1]\n",
        "* +1 at index 0 (gpt-4o)\n",
        "* –1 at index 1 (claude-3-opus)\n",
        "* Label: 1 because model A (gpt-4o) won\n",
        "\n",
        "**Feature 2:** [-1, 1]\n",
        "* -1 at index 0 (gpt-4o)\n",
        "* +1 at index 1 (claude-3-opus)\n",
        "* Label: 0 because model B (claude-3-opus) lost\n",
        "\n",
        "Why do we have to do this?\n",
        "This lets the model take account for both ways:\n",
        "\n",
        "\n",
        "$$ P(\\text{GPT-4o beats Claude-3-opus}) = \\sigma(S_{\\text{GPT-4o}}  - S_{\\text{Claude}})$$\n",
        "\n",
        "\n",
        "\n",
        "$$ P(\\text{Claude-3-opus beats GPT-4o}) = \\sigma(S_{\\text{Claude}} - S_{\\text{GPT-4o}}  )$$\n",
        "\n",
        "\n",
        "**Think:** When we have more than two models, how should we handle the models that were not involved in the battle?"
      ]
    },
    {
      "cell_type": "markdown",
      "id": "2fada783",
      "metadata": {
        "id": "2fada783"
      },
      "source": [
        "---\n",
        "\n",
        "#### Step 2: Constructing generalized features and labels\n",
        "\n",
        "Cool, now we want to generalize this formulation to the pair of not only GPT-4o and Claude-3-opus, but all the models.\n",
        "\n",
        "Once we have turned all battle outcomes into feature vectors, we can organize them into a **feature matrix** $\\mathbf{X}$ and a **label vector** $\\mathbf{y}$.\n",
        "\n",
        "We have the model strengths we want to learn:\n",
        "\\begin{bmatrix}\n",
        "S_A \\\\\n",
        "S_B \\\\\n",
        "S_C\n",
        "\\end{bmatrix}\n",
        "\n",
        "And we want our model to predict:\n",
        "\n",
        "\\begin{bmatrix}\n",
        "\\sigma(S_A - S_C) \\\\\n",
        "\\sigma(S_B - S_A) \\\\\n",
        "\\sigma(S_B - S_C)\n",
        "\\end{bmatrix}\n",
        "\n",
        "\n",
        "\n",
        "As a recap...\n",
        "\n",
        "- $\\mathbf{X}$ encodes **who played whom** and in what direction.\n",
        "- $\\mathbf{S}$ are the model strengths we are trying to learn.\n",
        "- $\\mathbf{y} = \\sigma(\\mathbf{X} \\cdot \\mathbf{S})$ gives us the predicted win probabilities."
      ]
    },
    {
      "cell_type": "markdown",
      "id": "0400a7e6",
      "metadata": {
        "id": "0400a7e6"
      },
      "source": [
        "Now let's try to actually featurize these battles and labels!"
      ]
    },
    {
      "cell_type": "markdown",
      "id": "4cfd87a2",
      "metadata": {
        "deletable": false,
        "editable": false,
        "id": "4cfd87a2"
      },
      "source": [
        "## **Question 4a**"
      ]
    },
    {
      "cell_type": "markdown",
      "id": "d58f63f4",
      "metadata": {
        "deletable": false,
        "editable": false,
        "id": "d58f63f4"
      },
      "source": [
        "In order to train our model, we should first featurize our battles as discussed before.\n",
        "\n",
        "**Task:** Implement the function below to transform `selected_battles_no_ties` and `selected_models` into feature vectors and labels. This will allow us to represent each battle as input-output pairs for training."
      ]
    },
    {
      "cell_type": "code",
      "execution_count": null,
      "id": "32130eee",
      "metadata": {
        "tags": [
          "otter_answer_cell"
        ],
        "id": "32130eee",
        "colab": {
          "base_uri": "https://localhost:8080/"
        },
        "outputId": "41e55581-ce3b-477e-85c6-0b4321a2378f"
      },
      "outputs": [
        {
          "output_type": "execute_result",
          "data": {
            "text/plain": [
              "((51066, 20), (51066,))"
            ]
          },
          "metadata": {},
          "execution_count": 8
        }
      ],
      "source": [
        "def turn_into_features(df, models):\n",
        "    '''\n",
        "    Convert pairwise battle results into feature matrix X and label vector y\n",
        "    suitable for logistic regression based on the Bradley-Terry model\n",
        "    '''\n",
        "    # TODO:\n",
        "    # 1. Iterate through each row in the DataFrame.\n",
        "    # 2. For each battle, create a feature vector:\n",
        "    #    - Assign +1 to the column corresponding to 'model_a'.\n",
        "    #    - Assign -1 to the column corresponding to 'model_b'.\n",
        "    #    - All other columns should be 0.\n",
        "    # 3. Append the label:\n",
        "    #    - 1 if 'model_a' is the winner.\n",
        "    #    - 0 if 'model_b' is the winner.\n",
        "    # 4. Return the feature matrix X and label vector y as numpy arrays.\n",
        "    model_a = np.array(df.model_a)\n",
        "    model_b = np.array(df.model_b)\n",
        "    win = np.array(df.winner)\n",
        "    X = []\n",
        "    y = []\n",
        "    for i in range(len(model_a)):\n",
        "      vec_1 = np.zeros(20)\n",
        "      vec_2 = np.zeros(20)\n",
        "      a_index = np.where(np.array(models) == model_a[i])[0][0]\n",
        "      b_index = np.where(np.array(models) == model_b[i])[0][0]\n",
        "\n",
        "      vec_1[a_index] = 1.0\n",
        "      vec_1[b_index] = -1.0\n",
        "      vec_2[a_index] = -1.0\n",
        "      vec_2[b_index] = 1.0\n",
        "\n",
        "      if win[i] == \"model_a\":\n",
        "        y += [1, 0]\n",
        "      else:\n",
        "        y += [0, 1]\n",
        "\n",
        "      X += [vec_1, vec_2]\n",
        "\n",
        "    return np.array(X), np.array(y)\n",
        "\n",
        "X, y = turn_into_features(selected_battles_no_ties, selected_models)\n",
        "X.shape, y.shape"
      ]
    },
    {
      "cell_type": "code",
      "execution_count": null,
      "id": "9c1744de",
      "metadata": {
        "deletable": false,
        "editable": false,
        "id": "9c1744de",
        "colab": {
          "base_uri": "https://localhost:8080/",
          "height": 47
        },
        "outputId": "bed64ee1-4a9e-49cc-d9be-ec6abf16e3ac"
      },
      "outputs": [
        {
          "output_type": "execute_result",
          "data": {
            "text/plain": [
              "q4a results: All test cases passed!"
            ],
            "text/html": [
              "<p><strong><pre style='display: inline;'>q4a</pre></strong> passed! 🍀</p>"
            ]
          },
          "metadata": {},
          "execution_count": 9
        }
      ],
      "source": [
        "grader.check(\"q4a\")"
      ]
    },
    {
      "cell_type": "markdown",
      "id": "47245a53",
      "metadata": {
        "deletable": false,
        "editable": false,
        "id": "47245a53"
      },
      "source": [
        "## **Question 4b**\n",
        "Now that we have extracted out the features from the previous question, let's now dive into actually building the model. Note that for Bradley-Terry logistic regression, we do *not* want an intercept in your model.\n",
        "\n",
        "**Task:**\n",
        "Train the model with the features and labels created in Question 4a, and store the strengths, sorted in the order of scores in `results_df`."
      ]
    },
    {
      "cell_type": "code",
      "execution_count": null,
      "id": "5908f89b",
      "metadata": {
        "tags": [
          "otter_answer_cell"
        ],
        "id": "5908f89b",
        "colab": {
          "base_uri": "https://localhost:8080/",
          "height": 677
        },
        "outputId": "184621af-b3c9-4186-fc5a-52b6d7afb0dd"
      },
      "outputs": [
        {
          "output_type": "execute_result",
          "data": {
            "text/plain": [
              "                         Model     Score\n",
              "0            chatgpt-4o-latest  0.762696\n",
              "1      gemini-1.5-pro-exp-0801  0.567295\n",
              "2            gpt-4o-2024-05-13  0.423263\n",
              "3       gpt-4o-mini-2024-07-18  0.394791\n",
              "4            gpt-4o-2024-08-06  0.326973\n",
              "5      llama-3.1-405b-instruct  0.310571\n",
              "6   claude-3-5-sonnet-20240620  0.295533\n",
              "7       llama-3.1-70b-instruct  0.190089\n",
              "8      gemini-1.5-pro-api-0514  0.181034\n",
              "9       gpt-4-turbo-2024-04-09  0.175324\n",
              "10      claude-3-opus-20240229  0.041758\n",
              "11   gemini-1.5-flash-api-0514 -0.100369\n",
              "12              gemma-2-27b-it -0.182542\n",
              "13        deepseek-v2-api-0628 -0.190759\n",
              "14        llama-3-70b-instruct -0.310529\n",
              "15          qwen2-72b-instruct -0.464260\n",
              "16               gemma-2-9b-it -0.464927\n",
              "17     claude-3-haiku-20240307 -0.557080\n",
              "18       llama-3.1-8b-instruct -0.587517\n",
              "19         llama-3-8b-instruct -0.811345"
            ],
            "text/html": [
              "\n",
              "  <div id=\"df-7fc1378a-5599-4d4c-a321-a1c576e62ea4\" class=\"colab-df-container\">\n",
              "    <div>\n",
              "<style scoped>\n",
              "    .dataframe tbody tr th:only-of-type {\n",
              "        vertical-align: middle;\n",
              "    }\n",
              "\n",
              "    .dataframe tbody tr th {\n",
              "        vertical-align: top;\n",
              "    }\n",
              "\n",
              "    .dataframe thead th {\n",
              "        text-align: right;\n",
              "    }\n",
              "</style>\n",
              "<table border=\"1\" class=\"dataframe\">\n",
              "  <thead>\n",
              "    <tr style=\"text-align: right;\">\n",
              "      <th></th>\n",
              "      <th>Model</th>\n",
              "      <th>Score</th>\n",
              "    </tr>\n",
              "  </thead>\n",
              "  <tbody>\n",
              "    <tr>\n",
              "      <th>0</th>\n",
              "      <td>chatgpt-4o-latest</td>\n",
              "      <td>0.762696</td>\n",
              "    </tr>\n",
              "    <tr>\n",
              "      <th>1</th>\n",
              "      <td>gemini-1.5-pro-exp-0801</td>\n",
              "      <td>0.567295</td>\n",
              "    </tr>\n",
              "    <tr>\n",
              "      <th>2</th>\n",
              "      <td>gpt-4o-2024-05-13</td>\n",
              "      <td>0.423263</td>\n",
              "    </tr>\n",
              "    <tr>\n",
              "      <th>3</th>\n",
              "      <td>gpt-4o-mini-2024-07-18</td>\n",
              "      <td>0.394791</td>\n",
              "    </tr>\n",
              "    <tr>\n",
              "      <th>4</th>\n",
              "      <td>gpt-4o-2024-08-06</td>\n",
              "      <td>0.326973</td>\n",
              "    </tr>\n",
              "    <tr>\n",
              "      <th>5</th>\n",
              "      <td>llama-3.1-405b-instruct</td>\n",
              "      <td>0.310571</td>\n",
              "    </tr>\n",
              "    <tr>\n",
              "      <th>6</th>\n",
              "      <td>claude-3-5-sonnet-20240620</td>\n",
              "      <td>0.295533</td>\n",
              "    </tr>\n",
              "    <tr>\n",
              "      <th>7</th>\n",
              "      <td>llama-3.1-70b-instruct</td>\n",
              "      <td>0.190089</td>\n",
              "    </tr>\n",
              "    <tr>\n",
              "      <th>8</th>\n",
              "      <td>gemini-1.5-pro-api-0514</td>\n",
              "      <td>0.181034</td>\n",
              "    </tr>\n",
              "    <tr>\n",
              "      <th>9</th>\n",
              "      <td>gpt-4-turbo-2024-04-09</td>\n",
              "      <td>0.175324</td>\n",
              "    </tr>\n",
              "    <tr>\n",
              "      <th>10</th>\n",
              "      <td>claude-3-opus-20240229</td>\n",
              "      <td>0.041758</td>\n",
              "    </tr>\n",
              "    <tr>\n",
              "      <th>11</th>\n",
              "      <td>gemini-1.5-flash-api-0514</td>\n",
              "      <td>-0.100369</td>\n",
              "    </tr>\n",
              "    <tr>\n",
              "      <th>12</th>\n",
              "      <td>gemma-2-27b-it</td>\n",
              "      <td>-0.182542</td>\n",
              "    </tr>\n",
              "    <tr>\n",
              "      <th>13</th>\n",
              "      <td>deepseek-v2-api-0628</td>\n",
              "      <td>-0.190759</td>\n",
              "    </tr>\n",
              "    <tr>\n",
              "      <th>14</th>\n",
              "      <td>llama-3-70b-instruct</td>\n",
              "      <td>-0.310529</td>\n",
              "    </tr>\n",
              "    <tr>\n",
              "      <th>15</th>\n",
              "      <td>qwen2-72b-instruct</td>\n",
              "      <td>-0.464260</td>\n",
              "    </tr>\n",
              "    <tr>\n",
              "      <th>16</th>\n",
              "      <td>gemma-2-9b-it</td>\n",
              "      <td>-0.464927</td>\n",
              "    </tr>\n",
              "    <tr>\n",
              "      <th>17</th>\n",
              "      <td>claude-3-haiku-20240307</td>\n",
              "      <td>-0.557080</td>\n",
              "    </tr>\n",
              "    <tr>\n",
              "      <th>18</th>\n",
              "      <td>llama-3.1-8b-instruct</td>\n",
              "      <td>-0.587517</td>\n",
              "    </tr>\n",
              "    <tr>\n",
              "      <th>19</th>\n",
              "      <td>llama-3-8b-instruct</td>\n",
              "      <td>-0.811345</td>\n",
              "    </tr>\n",
              "  </tbody>\n",
              "</table>\n",
              "</div>\n",
              "    <div class=\"colab-df-buttons\">\n",
              "\n",
              "  <div class=\"colab-df-container\">\n",
              "    <button class=\"colab-df-convert\" onclick=\"convertToInteractive('df-7fc1378a-5599-4d4c-a321-a1c576e62ea4')\"\n",
              "            title=\"Convert this dataframe to an interactive table.\"\n",
              "            style=\"display:none;\">\n",
              "\n",
              "  <svg xmlns=\"http://www.w3.org/2000/svg\" height=\"24px\" viewBox=\"0 -960 960 960\">\n",
              "    <path d=\"M120-120v-720h720v720H120Zm60-500h600v-160H180v160Zm220 220h160v-160H400v160Zm0 220h160v-160H400v160ZM180-400h160v-160H180v160Zm440 0h160v-160H620v160ZM180-180h160v-160H180v160Zm440 0h160v-160H620v160Z\"/>\n",
              "  </svg>\n",
              "    </button>\n",
              "\n",
              "  <style>\n",
              "    .colab-df-container {\n",
              "      display:flex;\n",
              "      gap: 12px;\n",
              "    }\n",
              "\n",
              "    .colab-df-convert {\n",
              "      background-color: #E8F0FE;\n",
              "      border: none;\n",
              "      border-radius: 50%;\n",
              "      cursor: pointer;\n",
              "      display: none;\n",
              "      fill: #1967D2;\n",
              "      height: 32px;\n",
              "      padding: 0 0 0 0;\n",
              "      width: 32px;\n",
              "    }\n",
              "\n",
              "    .colab-df-convert:hover {\n",
              "      background-color: #E2EBFA;\n",
              "      box-shadow: 0px 1px 2px rgba(60, 64, 67, 0.3), 0px 1px 3px 1px rgba(60, 64, 67, 0.15);\n",
              "      fill: #174EA6;\n",
              "    }\n",
              "\n",
              "    .colab-df-buttons div {\n",
              "      margin-bottom: 4px;\n",
              "    }\n",
              "\n",
              "    [theme=dark] .colab-df-convert {\n",
              "      background-color: #3B4455;\n",
              "      fill: #D2E3FC;\n",
              "    }\n",
              "\n",
              "    [theme=dark] .colab-df-convert:hover {\n",
              "      background-color: #434B5C;\n",
              "      box-shadow: 0px 1px 3px 1px rgba(0, 0, 0, 0.15);\n",
              "      filter: drop-shadow(0px 1px 2px rgba(0, 0, 0, 0.3));\n",
              "      fill: #FFFFFF;\n",
              "    }\n",
              "  </style>\n",
              "\n",
              "    <script>\n",
              "      const buttonEl =\n",
              "        document.querySelector('#df-7fc1378a-5599-4d4c-a321-a1c576e62ea4 button.colab-df-convert');\n",
              "      buttonEl.style.display =\n",
              "        google.colab.kernel.accessAllowed ? 'block' : 'none';\n",
              "\n",
              "      async function convertToInteractive(key) {\n",
              "        const element = document.querySelector('#df-7fc1378a-5599-4d4c-a321-a1c576e62ea4');\n",
              "        const dataTable =\n",
              "          await google.colab.kernel.invokeFunction('convertToInteractive',\n",
              "                                                    [key], {});\n",
              "        if (!dataTable) return;\n",
              "\n",
              "        const docLinkHtml = 'Like what you see? Visit the ' +\n",
              "          '<a target=\"_blank\" href=https://colab.research.google.com/notebooks/data_table.ipynb>data table notebook</a>'\n",
              "          + ' to learn more about interactive tables.';\n",
              "        element.innerHTML = '';\n",
              "        dataTable['output_type'] = 'display_data';\n",
              "        await google.colab.output.renderOutput(dataTable, element);\n",
              "        const docLink = document.createElement('div');\n",
              "        docLink.innerHTML = docLinkHtml;\n",
              "        element.appendChild(docLink);\n",
              "      }\n",
              "    </script>\n",
              "  </div>\n",
              "\n",
              "\n",
              "    <div id=\"df-566c0824-5f24-490b-a0d0-a450c3610b0f\">\n",
              "      <button class=\"colab-df-quickchart\" onclick=\"quickchart('df-566c0824-5f24-490b-a0d0-a450c3610b0f')\"\n",
              "                title=\"Suggest charts\"\n",
              "                style=\"display:none;\">\n",
              "\n",
              "<svg xmlns=\"http://www.w3.org/2000/svg\" height=\"24px\"viewBox=\"0 0 24 24\"\n",
              "     width=\"24px\">\n",
              "    <g>\n",
              "        <path d=\"M19 3H5c-1.1 0-2 .9-2 2v14c0 1.1.9 2 2 2h14c1.1 0 2-.9 2-2V5c0-1.1-.9-2-2-2zM9 17H7v-7h2v7zm4 0h-2V7h2v10zm4 0h-2v-4h2v4z\"/>\n",
              "    </g>\n",
              "</svg>\n",
              "      </button>\n",
              "\n",
              "<style>\n",
              "  .colab-df-quickchart {\n",
              "      --bg-color: #E8F0FE;\n",
              "      --fill-color: #1967D2;\n",
              "      --hover-bg-color: #E2EBFA;\n",
              "      --hover-fill-color: #174EA6;\n",
              "      --disabled-fill-color: #AAA;\n",
              "      --disabled-bg-color: #DDD;\n",
              "  }\n",
              "\n",
              "  [theme=dark] .colab-df-quickchart {\n",
              "      --bg-color: #3B4455;\n",
              "      --fill-color: #D2E3FC;\n",
              "      --hover-bg-color: #434B5C;\n",
              "      --hover-fill-color: #FFFFFF;\n",
              "      --disabled-bg-color: #3B4455;\n",
              "      --disabled-fill-color: #666;\n",
              "  }\n",
              "\n",
              "  .colab-df-quickchart {\n",
              "    background-color: var(--bg-color);\n",
              "    border: none;\n",
              "    border-radius: 50%;\n",
              "    cursor: pointer;\n",
              "    display: none;\n",
              "    fill: var(--fill-color);\n",
              "    height: 32px;\n",
              "    padding: 0;\n",
              "    width: 32px;\n",
              "  }\n",
              "\n",
              "  .colab-df-quickchart:hover {\n",
              "    background-color: var(--hover-bg-color);\n",
              "    box-shadow: 0 1px 2px rgba(60, 64, 67, 0.3), 0 1px 3px 1px rgba(60, 64, 67, 0.15);\n",
              "    fill: var(--button-hover-fill-color);\n",
              "  }\n",
              "\n",
              "  .colab-df-quickchart-complete:disabled,\n",
              "  .colab-df-quickchart-complete:disabled:hover {\n",
              "    background-color: var(--disabled-bg-color);\n",
              "    fill: var(--disabled-fill-color);\n",
              "    box-shadow: none;\n",
              "  }\n",
              "\n",
              "  .colab-df-spinner {\n",
              "    border: 2px solid var(--fill-color);\n",
              "    border-color: transparent;\n",
              "    border-bottom-color: var(--fill-color);\n",
              "    animation:\n",
              "      spin 1s steps(1) infinite;\n",
              "  }\n",
              "\n",
              "  @keyframes spin {\n",
              "    0% {\n",
              "      border-color: transparent;\n",
              "      border-bottom-color: var(--fill-color);\n",
              "      border-left-color: var(--fill-color);\n",
              "    }\n",
              "    20% {\n",
              "      border-color: transparent;\n",
              "      border-left-color: var(--fill-color);\n",
              "      border-top-color: var(--fill-color);\n",
              "    }\n",
              "    30% {\n",
              "      border-color: transparent;\n",
              "      border-left-color: var(--fill-color);\n",
              "      border-top-color: var(--fill-color);\n",
              "      border-right-color: var(--fill-color);\n",
              "    }\n",
              "    40% {\n",
              "      border-color: transparent;\n",
              "      border-right-color: var(--fill-color);\n",
              "      border-top-color: var(--fill-color);\n",
              "    }\n",
              "    60% {\n",
              "      border-color: transparent;\n",
              "      border-right-color: var(--fill-color);\n",
              "    }\n",
              "    80% {\n",
              "      border-color: transparent;\n",
              "      border-right-color: var(--fill-color);\n",
              "      border-bottom-color: var(--fill-color);\n",
              "    }\n",
              "    90% {\n",
              "      border-color: transparent;\n",
              "      border-bottom-color: var(--fill-color);\n",
              "    }\n",
              "  }\n",
              "</style>\n",
              "\n",
              "      <script>\n",
              "        async function quickchart(key) {\n",
              "          const quickchartButtonEl =\n",
              "            document.querySelector('#' + key + ' button');\n",
              "          quickchartButtonEl.disabled = true;  // To prevent multiple clicks.\n",
              "          quickchartButtonEl.classList.add('colab-df-spinner');\n",
              "          try {\n",
              "            const charts = await google.colab.kernel.invokeFunction(\n",
              "                'suggestCharts', [key], {});\n",
              "          } catch (error) {\n",
              "            console.error('Error during call to suggestCharts:', error);\n",
              "          }\n",
              "          quickchartButtonEl.classList.remove('colab-df-spinner');\n",
              "          quickchartButtonEl.classList.add('colab-df-quickchart-complete');\n",
              "        }\n",
              "        (() => {\n",
              "          let quickchartButtonEl =\n",
              "            document.querySelector('#df-566c0824-5f24-490b-a0d0-a450c3610b0f button');\n",
              "          quickchartButtonEl.style.display =\n",
              "            google.colab.kernel.accessAllowed ? 'block' : 'none';\n",
              "        })();\n",
              "      </script>\n",
              "    </div>\n",
              "\n",
              "  <div id=\"id_d340812d-9375-4b89-901d-ee17a7a1b597\">\n",
              "    <style>\n",
              "      .colab-df-generate {\n",
              "        background-color: #E8F0FE;\n",
              "        border: none;\n",
              "        border-radius: 50%;\n",
              "        cursor: pointer;\n",
              "        display: none;\n",
              "        fill: #1967D2;\n",
              "        height: 32px;\n",
              "        padding: 0 0 0 0;\n",
              "        width: 32px;\n",
              "      }\n",
              "\n",
              "      .colab-df-generate:hover {\n",
              "        background-color: #E2EBFA;\n",
              "        box-shadow: 0px 1px 2px rgba(60, 64, 67, 0.3), 0px 1px 3px 1px rgba(60, 64, 67, 0.15);\n",
              "        fill: #174EA6;\n",
              "      }\n",
              "\n",
              "      [theme=dark] .colab-df-generate {\n",
              "        background-color: #3B4455;\n",
              "        fill: #D2E3FC;\n",
              "      }\n",
              "\n",
              "      [theme=dark] .colab-df-generate:hover {\n",
              "        background-color: #434B5C;\n",
              "        box-shadow: 0px 1px 3px 1px rgba(0, 0, 0, 0.15);\n",
              "        filter: drop-shadow(0px 1px 2px rgba(0, 0, 0, 0.3));\n",
              "        fill: #FFFFFF;\n",
              "      }\n",
              "    </style>\n",
              "    <button class=\"colab-df-generate\" onclick=\"generateWithVariable('results_df')\"\n",
              "            title=\"Generate code using this dataframe.\"\n",
              "            style=\"display:none;\">\n",
              "\n",
              "  <svg xmlns=\"http://www.w3.org/2000/svg\" height=\"24px\"viewBox=\"0 0 24 24\"\n",
              "       width=\"24px\">\n",
              "    <path d=\"M7,19H8.4L18.45,9,17,7.55,7,17.6ZM5,21V16.75L18.45,3.32a2,2,0,0,1,2.83,0l1.4,1.43a1.91,1.91,0,0,1,.58,1.4,1.91,1.91,0,0,1-.58,1.4L9.25,21ZM18.45,9,17,7.55Zm-12,3A5.31,5.31,0,0,0,4.9,8.1,5.31,5.31,0,0,0,1,6.5,5.31,5.31,0,0,0,4.9,4.9,5.31,5.31,0,0,0,6.5,1,5.31,5.31,0,0,0,8.1,4.9,5.31,5.31,0,0,0,12,6.5,5.46,5.46,0,0,0,6.5,12Z\"/>\n",
              "  </svg>\n",
              "    </button>\n",
              "    <script>\n",
              "      (() => {\n",
              "      const buttonEl =\n",
              "        document.querySelector('#id_d340812d-9375-4b89-901d-ee17a7a1b597 button.colab-df-generate');\n",
              "      buttonEl.style.display =\n",
              "        google.colab.kernel.accessAllowed ? 'block' : 'none';\n",
              "\n",
              "      buttonEl.onclick = () => {\n",
              "        google.colab.notebook.generateWithVariable('results_df');\n",
              "      }\n",
              "      })();\n",
              "    </script>\n",
              "  </div>\n",
              "\n",
              "    </div>\n",
              "  </div>\n"
            ],
            "application/vnd.google.colaboratory.intrinsic+json": {
              "type": "dataframe",
              "variable_name": "results_df",
              "summary": "{\n  \"name\": \"results_df\",\n  \"rows\": 20,\n  \"fields\": [\n    {\n      \"column\": \"Model\",\n      \"properties\": {\n        \"dtype\": \"string\",\n        \"num_unique_values\": 20,\n        \"samples\": [\n          \"chatgpt-4o-latest\",\n          \"claude-3-haiku-20240307\",\n          \"qwen2-72b-instruct\"\n        ],\n        \"semantic_type\": \"\",\n        \"description\": \"\"\n      }\n    },\n    {\n      \"column\": \"Score\",\n      \"properties\": {\n        \"dtype\": \"number\",\n        \"std\": 0.43239465979045316,\n        \"min\": -0.8113449570932018,\n        \"max\": 0.7626963976761348,\n        \"num_unique_values\": 20,\n        \"samples\": [\n          0.7626963976761348,\n          -0.5570802949192384,\n          -0.46425952046371277\n        ],\n        \"semantic_type\": \"\",\n        \"description\": \"\"\n      }\n    }\n  ]\n}"
            }
          },
          "metadata": {},
          "execution_count": 10
        }
      ],
      "source": [
        "from sklearn.linear_model import LogisticRegression\n",
        "\n",
        "\n",
        "model = LogisticRegression(fit_intercept=False).fit(X, y)\n",
        "scores = model.coef_[0]\n",
        "\n",
        "results = {\"Model\": selected_models, \"Score\": scores}\n",
        "results_df = pd.DataFrame(results).sort_values(\"Score\", ascending=False).reset_index(drop=True)\n",
        "results_df"
      ]
    },
    {
      "cell_type": "code",
      "execution_count": null,
      "id": "d1fdb759",
      "metadata": {
        "deletable": false,
        "editable": false,
        "id": "d1fdb759",
        "colab": {
          "base_uri": "https://localhost:8080/",
          "height": 47
        },
        "outputId": "d1cf54d1-dbde-4b40-f910-2f826d21da2c"
      },
      "outputs": [
        {
          "output_type": "execute_result",
          "data": {
            "text/plain": [
              "q4b results: All test cases passed!"
            ],
            "text/html": [
              "<p><strong><pre style='display: inline;'>q4b</pre></strong> passed! 🌟</p>"
            ]
          },
          "metadata": {},
          "execution_count": 11
        }
      ],
      "source": [
        "grader.check(\"q4b\")"
      ]
    },
    {
      "cell_type": "markdown",
      "id": "6e3c9781",
      "metadata": {
        "deletable": false,
        "editable": false,
        "id": "6e3c9781"
      },
      "source": [
        "<!-- BEGIN QUESTION -->\n",
        "\n",
        "## **Question 4c**"
      ]
    },
    {
      "cell_type": "markdown",
      "id": "29ebb9f0",
      "metadata": {
        "deletable": false,
        "editable": false,
        "id": "29ebb9f0"
      },
      "source": [
        "Let's think about an important aspect of our formulation.\n",
        "\n",
        "**Task:** Answer the following question: Why we don't need an intercept for the logistic regression formulation above?"
      ]
    },
    {
      "cell_type": "markdown",
      "source": [
        "YOUR ANSWER: The reason we do not need an intercept is that the input to the logistic regression is the difference between the performance scores of two models, not the scores themselves. If an intercept were included, it would shift all comparisons by a constant amount, introducing bias and distorting the relative difference between the two models, which would make the results inaccurate."
      ],
      "metadata": {
        "id": "SIrc5xIrVBy-"
      },
      "id": "SIrc5xIrVBy-"
    },
    {
      "cell_type": "markdown",
      "id": "9f9c2864",
      "metadata": {
        "deletable": false,
        "editable": false,
        "id": "9f9c2864"
      },
      "source": [
        "<!-- END QUESTION -->\n",
        "\n",
        "# **Question 5: Confidence Intervals**"
      ]
    },
    {
      "cell_type": "markdown",
      "id": "c3df3f73",
      "metadata": {
        "id": "c3df3f73"
      },
      "source": [
        "From the previous question, we were able to train the model and obtain the scores of the models.\n",
        "\n",
        "However, when comparing model scores, it's important to understand not just the average performance, but also how much uncertainty there is in our estimates. Our rankings are based on a finite sample of battles, and if we had collected a different set of match-ups, the resulting scores could be different. This sampling variability means that our estimated model strengths are subject to noise.\n",
        "\n",
        "Bootstrapping is a powerful, intuitive way to assess this uncertainty without making strong assumptions about the underlying data. By repeatedly resampling our observed battles (with replacement) and retraining the model on each resampled dataset, we simulate what might have happened if we had observed a slightly different set of battles. For each resample, we get a new set of model scores. By looking at the distribution of these bootstrapped scores, we can estimate confidence intervals for each model's strength.\n",
        "\n",
        "In short, bootstrapping helps us answer: \"If we repeated this evaluation process many times, how much could each model's score vary just due to random chance in which battles we happened to observe?\" This gives us a more honest sense of which differences in model scores are robust, and which might just be due to luck."
      ]
    },
    {
      "cell_type": "markdown",
      "id": "92e9733a",
      "metadata": {
        "deletable": false,
        "editable": false,
        "id": "92e9733a"
      },
      "source": [
        "## **Question 5a**"
      ]
    },
    {
      "cell_type": "markdown",
      "id": "9d9410e2",
      "metadata": {
        "deletable": false,
        "editable": false,
        "id": "9d9410e2"
      },
      "source": [
        "Let's implement a function that returns these scores and confidence intervals after bootstrapping.\n",
        "\n",
        "**Task:**\n",
        "* Bootstrap the samples to train a new logistic regression model.\n",
        "* Store each set of coefficients (or learned model strengths).\n",
        "* Compute the mean and percentiles (2.5th and 97.5th) to obtain the 95% confidence intervals.\n",
        "* Return i) results_df, ii) mean_scores, iii) confidence_intervals\n",
        "\n",
        "An example outout of results_df is below.\n",
        "\n",
        "| Model                   | Average Score | Lower Bound | Upper Bound | Category | Rank |\n",
        "|-------------------------|--------------:|------------:|------------:|----------|-----:|\n",
        "| chatgpt-4o-latest       |     0.888888  |   0.777777  |   0.999999  | Overall  |    1 |\n",
        "| gemini-1.5-pro-exp-0801 |     0.777777  |   0.666666  |   0.888888  | Overall  |    2 |\n"
      ]
    },
    {
      "cell_type": "code",
      "execution_count": null,
      "id": "1c29a44d",
      "metadata": {
        "tags": [
          "otter_answer_cell"
        ],
        "id": "1c29a44d"
      },
      "outputs": [],
      "source": [
        "def get_bootstrapped_score(X, y, models, category_name=\"Overall\", n_bootstrap=10):\n",
        "    \"\"\"\n",
        "    Bootstraps logistic regression model scores to estimate confidence intervals.\n",
        "    Args:\n",
        "        X: Feature matrix\n",
        "        y: Labels\n",
        "        models: List of model names (order matches columns of X)\n",
        "        n_bootstrap: Number of bootstrap samples\n",
        "    Returns:\n",
        "        results_df: DataFrame with Model, Average Score, Lower Bound, Upper Bound\n",
        "        mean_scores: Mean of bootstrapped scores (np.array)\n",
        "        confidence_intervals: 2.5 and 97.5 percentiles (np.array shape [2, n_models])\n",
        "    \"\"\"\n",
        "    #TODO\n",
        "    np.random.seed(189)  # for reproducibility\n",
        "    bootstrap_scores = []\n",
        "    for i in range(n_bootstrap):\n",
        "        indices = np.random.choice(len(X), size=len(X), replace=True)\n",
        "        list_x = X[indices]\n",
        "        list_y = y[indices]\n",
        "        model = LogisticRegression(fit_intercept=False).fit(np.array(list_x), np.array(list_y))\n",
        "        scores = model.coef_[0]\n",
        "        bootstrap_scores.append(scores)\n",
        "\n",
        "    mean_scores = np.mean(np.array(bootstrap_scores), axis = 0)\n",
        "    lower_bound, upper_bound = [], []\n",
        "\n",
        "    for i in range(len(models)):\n",
        "      score_array = np.array([boot[i] for boot in bootstrap_scores])\n",
        "      lower = np.percentile(score_array, 2.5)\n",
        "      upper = np.percentile(score_array, 97.5)\n",
        "      lower_bound.append(lower)\n",
        "      upper_bound.append(upper)\n",
        "\n",
        "    results = {\n",
        "        \"Model\": models,\n",
        "        \"Average Score\": list(mean_scores),\n",
        "        \"Lower Bound\": lower_bound,\n",
        "        \"Upper Bound\": upper_bound,\n",
        "        \"Category\": [category_name for _ in range(len(models))]\n",
        "    }\n",
        "    results_df = pd.DataFrame(results)\n",
        "    confidence_intervals = np.array([lower_bound, upper_bound])\n",
        "    return results_df, mean_scores, confidence_intervals\n",
        "results_df, mean_scores, confidence_intervals = get_bootstrapped_score(X, y, selected_models, n_bootstrap=10)\n",
        "\n",
        "# Test that confidence intervals make sense\n",
        "assert (confidence_intervals[0] <= confidence_intervals[1]).all(), \"Every lower bound must be <= upper bound.\"\n",
        "assert ((confidence_intervals[0] <= mean_scores) & (mean_scores <= confidence_intervals[1])).all(), \"Each mean score should lie within its CI.\""
      ]
    },
    {
      "cell_type": "code",
      "execution_count": null,
      "id": "6d67d219",
      "metadata": {
        "deletable": false,
        "editable": false,
        "id": "6d67d219",
        "colab": {
          "base_uri": "https://localhost:8080/",
          "height": 47
        },
        "outputId": "87eb7319-423b-42fa-8ab1-90e0580c93d4"
      },
      "outputs": [
        {
          "output_type": "execute_result",
          "data": {
            "text/plain": [
              "q5a results: All test cases passed!"
            ],
            "text/html": [
              "<p><strong><pre style='display: inline;'>q5a</pre></strong> passed! 🚀</p>"
            ]
          },
          "metadata": {},
          "execution_count": 13
        }
      ],
      "source": [
        "grader.check(\"q5a\")"
      ]
    },
    {
      "cell_type": "markdown",
      "id": "7aec72c2",
      "metadata": {
        "id": "7aec72c2"
      },
      "source": [
        "### Now let's visualize the intervals! *🧙*"
      ]
    },
    {
      "cell_type": "code",
      "execution_count": null,
      "id": "0fc5dfa5",
      "metadata": {
        "id": "0fc5dfa5",
        "colab": {
          "base_uri": "https://localhost:8080/",
          "height": 517
        },
        "outputId": "40a816d6-2481-4006-80e2-ba7ee955eb1c"
      },
      "outputs": [
        {
          "output_type": "display_data",
          "data": {
            "text/html": [
              "<html>\n",
              "<head><meta charset=\"utf-8\" /></head>\n",
              "<body>\n",
              "    <div>            <script src=\"https://cdnjs.cloudflare.com/ajax/libs/mathjax/2.7.5/MathJax.js?config=TeX-AMS-MML_SVG\"></script><script type=\"text/javascript\">if (window.MathJax && window.MathJax.Hub && window.MathJax.Hub.Config) {window.MathJax.Hub.Config({SVG: {font: \"STIX-Web\"}});}</script>                <script type=\"text/javascript\">window.PlotlyConfig = {MathJaxConfig: 'local'};</script>\n",
              "        <script charset=\"utf-8\" src=\"https://cdn.plot.ly/plotly-3.1.1.min.js\" integrity=\"sha256-HUEFyfiTnZJxCxur99FjbKYTvKSzwDaD3/x5TqHpFu4=\" crossorigin=\"anonymous\"></script>                <div id=\"96546a03-a7ed-4160-8668-3a05a90c03fd\" class=\"plotly-graph-div\" style=\"height:500px; width:100%;\"></div>            <script type=\"text/javascript\">                window.PLOTLYENV=window.PLOTLYENV || {};                                if (document.getElementById(\"96546a03-a7ed-4160-8668-3a05a90c03fd\")) {                    Plotly.newPlot(                        \"96546a03-a7ed-4160-8668-3a05a90c03fd\",                        [{\"error_y\":{\"array\":{\"dtype\":\"f8\",\"bdata\":\"kPbZzirZkj8QN3yST+OWP\\u002fTb1sLGXKA\\u002fqNja9QQKpD+oTlnJsJylPxgYXuic9Kw\\u002f4DFalSMpmj\\u002fq8LWOrC6oPxCLfLICt6k\\u002fiPT\\u002feNd6qz\\u002fwaQAHGQehPwDYmhOdCKw\\u002fxHFyFSLwrD8aNF9M03CxP6g2PMsnILA\\u002fIGqYeEIvpD\\u002fY39iQq7igP5AYrNUwMKU\\u002fqPN5j5fzqj8gCL9eqfCvPw==\"},\"arrayminus\":{\"dtype\":\"f8\",\"bdata\":\"EHsia7ngkT+wdGL5OF+kP4BsHcHl0Z0\\u002fGCqf+6HfmD94p4PoQu+nP9DLrxJ5gJw\\u002f2GEzx8WrnT\\u002ffkw\\u002f8YiSmP5gdcwMFyrI\\u002fAKK7XwNyqj9gN8n56dCWP7DRPo\\u002fg8Kg\\u002fhAvO5N58oj\\u002fcPFRJLl+qPyA0mh34las\\u002fcIzGbJ19oj9AM5UOyx+gPyB56slrCaY\\u002fAMxO2LIvnD9YAKSV1U+wPw==\"},\"type\":\"data\",\"visible\":true},\"marker\":{\"color\":\"blue\",\"size\":5},\"mode\":\"markers\",\"name\":\"Model Scores\",\"x\":[\"claude-3-5-sonnet-20240620\",\"gpt-4o-2024-05-13\",\"gemini-1.5-pro-api-0514\",\"gemma-2-27b-it\",\"llama-3-70b-instruct\",\"gemma-2-9b-it\",\"gemini-1.5-flash-api-0514\",\"claude-3-opus-20240229\",\"gemini-1.5-pro-exp-0801\",\"gpt-4o-mini-2024-07-18\",\"llama-3.1-405b-instruct\",\"chatgpt-4o-latest\",\"gpt-4-turbo-2024-04-09\",\"deepseek-v2-api-0628\",\"claude-3-haiku-20240307\",\"llama-3-8b-instruct\",\"llama-3.1-70b-instruct\",\"llama-3.1-8b-instruct\",\"gpt-4o-2024-08-06\",\"qwen2-72b-instruct\"],\"y\":{\"dtype\":\"f8\",\"bdata\":\"00oJrsuX0j8oHFJEpBzbPxgCedrwOsc\\u002fZm5NBLKVxr8nkDK7MgbUvyjoFwXxnd2\\u002fnoBAutIwtr9CpVEPcTagPyV+fq6Qu+E\\u002fBVcFuKXa2T+Z7BJTcifUP\\u002foazZyxzOg\\u002fGIR9jDBexj+V69YpCNDIv25ob4neXOK\\u002fLXn2io8D6r8qv9vhY+rJP+p0Ql338OK\\u002f51CQdAPo1D8QErFloPHdvw==\"},\"type\":\"scatter\"}],                        {\"template\":{\"data\":{\"histogram2dcontour\":[{\"type\":\"histogram2dcontour\",\"colorbar\":{\"outlinewidth\":0,\"ticks\":\"\"},\"colorscale\":[[0.0,\"#0d0887\"],[0.1111111111111111,\"#46039f\"],[0.2222222222222222,\"#7201a8\"],[0.3333333333333333,\"#9c179e\"],[0.4444444444444444,\"#bd3786\"],[0.5555555555555556,\"#d8576b\"],[0.6666666666666666,\"#ed7953\"],[0.7777777777777778,\"#fb9f3a\"],[0.8888888888888888,\"#fdca26\"],[1.0,\"#f0f921\"]]}],\"choropleth\":[{\"type\":\"choropleth\",\"colorbar\":{\"outlinewidth\":0,\"ticks\":\"\"}}],\"histogram2d\":[{\"type\":\"histogram2d\",\"colorbar\":{\"outlinewidth\":0,\"ticks\":\"\"},\"colorscale\":[[0.0,\"#0d0887\"],[0.1111111111111111,\"#46039f\"],[0.2222222222222222,\"#7201a8\"],[0.3333333333333333,\"#9c179e\"],[0.4444444444444444,\"#bd3786\"],[0.5555555555555556,\"#d8576b\"],[0.6666666666666666,\"#ed7953\"],[0.7777777777777778,\"#fb9f3a\"],[0.8888888888888888,\"#fdca26\"],[1.0,\"#f0f921\"]]}],\"heatmap\":[{\"type\":\"heatmap\",\"colorbar\":{\"outlinewidth\":0,\"ticks\":\"\"},\"colorscale\":[[0.0,\"#0d0887\"],[0.1111111111111111,\"#46039f\"],[0.2222222222222222,\"#7201a8\"],[0.3333333333333333,\"#9c179e\"],[0.4444444444444444,\"#bd3786\"],[0.5555555555555556,\"#d8576b\"],[0.6666666666666666,\"#ed7953\"],[0.7777777777777778,\"#fb9f3a\"],[0.8888888888888888,\"#fdca26\"],[1.0,\"#f0f921\"]]}],\"contourcarpet\":[{\"type\":\"contourcarpet\",\"colorbar\":{\"outlinewidth\":0,\"ticks\":\"\"}}],\"contour\":[{\"type\":\"contour\",\"colorbar\":{\"outlinewidth\":0,\"ticks\":\"\"},\"colorscale\":[[0.0,\"#0d0887\"],[0.1111111111111111,\"#46039f\"],[0.2222222222222222,\"#7201a8\"],[0.3333333333333333,\"#9c179e\"],[0.4444444444444444,\"#bd3786\"],[0.5555555555555556,\"#d8576b\"],[0.6666666666666666,\"#ed7953\"],[0.7777777777777778,\"#fb9f3a\"],[0.8888888888888888,\"#fdca26\"],[1.0,\"#f0f921\"]]}],\"surface\":[{\"type\":\"surface\",\"colorbar\":{\"outlinewidth\":0,\"ticks\":\"\"},\"colorscale\":[[0.0,\"#0d0887\"],[0.1111111111111111,\"#46039f\"],[0.2222222222222222,\"#7201a8\"],[0.3333333333333333,\"#9c179e\"],[0.4444444444444444,\"#bd3786\"],[0.5555555555555556,\"#d8576b\"],[0.6666666666666666,\"#ed7953\"],[0.7777777777777778,\"#fb9f3a\"],[0.8888888888888888,\"#fdca26\"],[1.0,\"#f0f921\"]]}],\"mesh3d\":[{\"type\":\"mesh3d\",\"colorbar\":{\"outlinewidth\":0,\"ticks\":\"\"}}],\"scatter\":[{\"fillpattern\":{\"fillmode\":\"overlay\",\"size\":10,\"solidity\":0.2},\"type\":\"scatter\"}],\"parcoords\":[{\"type\":\"parcoords\",\"line\":{\"colorbar\":{\"outlinewidth\":0,\"ticks\":\"\"}}}],\"scatterpolargl\":[{\"type\":\"scatterpolargl\",\"marker\":{\"colorbar\":{\"outlinewidth\":0,\"ticks\":\"\"}}}],\"bar\":[{\"error_x\":{\"color\":\"#2a3f5f\"},\"error_y\":{\"color\":\"#2a3f5f\"},\"marker\":{\"line\":{\"color\":\"#E5ECF6\",\"width\":0.5},\"pattern\":{\"fillmode\":\"overlay\",\"size\":10,\"solidity\":0.2}},\"type\":\"bar\"}],\"scattergeo\":[{\"type\":\"scattergeo\",\"marker\":{\"colorbar\":{\"outlinewidth\":0,\"ticks\":\"\"}}}],\"scatterpolar\":[{\"type\":\"scatterpolar\",\"marker\":{\"colorbar\":{\"outlinewidth\":0,\"ticks\":\"\"}}}],\"histogram\":[{\"marker\":{\"pattern\":{\"fillmode\":\"overlay\",\"size\":10,\"solidity\":0.2}},\"type\":\"histogram\"}],\"scattergl\":[{\"type\":\"scattergl\",\"marker\":{\"colorbar\":{\"outlinewidth\":0,\"ticks\":\"\"}}}],\"scatter3d\":[{\"type\":\"scatter3d\",\"line\":{\"colorbar\":{\"outlinewidth\":0,\"ticks\":\"\"}},\"marker\":{\"colorbar\":{\"outlinewidth\":0,\"ticks\":\"\"}}}],\"scattermap\":[{\"type\":\"scattermap\",\"marker\":{\"colorbar\":{\"outlinewidth\":0,\"ticks\":\"\"}}}],\"scattermapbox\":[{\"type\":\"scattermapbox\",\"marker\":{\"colorbar\":{\"outlinewidth\":0,\"ticks\":\"\"}}}],\"scatterternary\":[{\"type\":\"scatterternary\",\"marker\":{\"colorbar\":{\"outlinewidth\":0,\"ticks\":\"\"}}}],\"scattercarpet\":[{\"type\":\"scattercarpet\",\"marker\":{\"colorbar\":{\"outlinewidth\":0,\"ticks\":\"\"}}}],\"carpet\":[{\"aaxis\":{\"endlinecolor\":\"#2a3f5f\",\"gridcolor\":\"white\",\"linecolor\":\"white\",\"minorgridcolor\":\"white\",\"startlinecolor\":\"#2a3f5f\"},\"baxis\":{\"endlinecolor\":\"#2a3f5f\",\"gridcolor\":\"white\",\"linecolor\":\"white\",\"minorgridcolor\":\"white\",\"startlinecolor\":\"#2a3f5f\"},\"type\":\"carpet\"}],\"table\":[{\"cells\":{\"fill\":{\"color\":\"#EBF0F8\"},\"line\":{\"color\":\"white\"}},\"header\":{\"fill\":{\"color\":\"#C8D4E3\"},\"line\":{\"color\":\"white\"}},\"type\":\"table\"}],\"barpolar\":[{\"marker\":{\"line\":{\"color\":\"#E5ECF6\",\"width\":0.5},\"pattern\":{\"fillmode\":\"overlay\",\"size\":10,\"solidity\":0.2}},\"type\":\"barpolar\"}],\"pie\":[{\"automargin\":true,\"type\":\"pie\"}]},\"layout\":{\"autotypenumbers\":\"strict\",\"colorway\":[\"#636efa\",\"#EF553B\",\"#00cc96\",\"#ab63fa\",\"#FFA15A\",\"#19d3f3\",\"#FF6692\",\"#B6E880\",\"#FF97FF\",\"#FECB52\"],\"font\":{\"color\":\"#2a3f5f\"},\"hovermode\":\"closest\",\"hoverlabel\":{\"align\":\"left\"},\"paper_bgcolor\":\"white\",\"plot_bgcolor\":\"#E5ECF6\",\"polar\":{\"bgcolor\":\"#E5ECF6\",\"angularaxis\":{\"gridcolor\":\"white\",\"linecolor\":\"white\",\"ticks\":\"\"},\"radialaxis\":{\"gridcolor\":\"white\",\"linecolor\":\"white\",\"ticks\":\"\"}},\"ternary\":{\"bgcolor\":\"#E5ECF6\",\"aaxis\":{\"gridcolor\":\"white\",\"linecolor\":\"white\",\"ticks\":\"\"},\"baxis\":{\"gridcolor\":\"white\",\"linecolor\":\"white\",\"ticks\":\"\"},\"caxis\":{\"gridcolor\":\"white\",\"linecolor\":\"white\",\"ticks\":\"\"}},\"coloraxis\":{\"colorbar\":{\"outlinewidth\":0,\"ticks\":\"\"}},\"colorscale\":{\"sequential\":[[0.0,\"#0d0887\"],[0.1111111111111111,\"#46039f\"],[0.2222222222222222,\"#7201a8\"],[0.3333333333333333,\"#9c179e\"],[0.4444444444444444,\"#bd3786\"],[0.5555555555555556,\"#d8576b\"],[0.6666666666666666,\"#ed7953\"],[0.7777777777777778,\"#fb9f3a\"],[0.8888888888888888,\"#fdca26\"],[1.0,\"#f0f921\"]],\"sequentialminus\":[[0.0,\"#0d0887\"],[0.1111111111111111,\"#46039f\"],[0.2222222222222222,\"#7201a8\"],[0.3333333333333333,\"#9c179e\"],[0.4444444444444444,\"#bd3786\"],[0.5555555555555556,\"#d8576b\"],[0.6666666666666666,\"#ed7953\"],[0.7777777777777778,\"#fb9f3a\"],[0.8888888888888888,\"#fdca26\"],[1.0,\"#f0f921\"]],\"diverging\":[[0,\"#8e0152\"],[0.1,\"#c51b7d\"],[0.2,\"#de77ae\"],[0.3,\"#f1b6da\"],[0.4,\"#fde0ef\"],[0.5,\"#f7f7f7\"],[0.6,\"#e6f5d0\"],[0.7,\"#b8e186\"],[0.8,\"#7fbc41\"],[0.9,\"#4d9221\"],[1,\"#276419\"]]},\"xaxis\":{\"gridcolor\":\"white\",\"linecolor\":\"white\",\"ticks\":\"\",\"title\":{\"standoff\":15},\"zerolinecolor\":\"white\",\"automargin\":true,\"zerolinewidth\":2},\"yaxis\":{\"gridcolor\":\"white\",\"linecolor\":\"white\",\"ticks\":\"\",\"title\":{\"standoff\":15},\"zerolinecolor\":\"white\",\"automargin\":true,\"zerolinewidth\":2},\"scene\":{\"xaxis\":{\"backgroundcolor\":\"#E5ECF6\",\"gridcolor\":\"white\",\"linecolor\":\"white\",\"showbackground\":true,\"ticks\":\"\",\"zerolinecolor\":\"white\",\"gridwidth\":2},\"yaxis\":{\"backgroundcolor\":\"#E5ECF6\",\"gridcolor\":\"white\",\"linecolor\":\"white\",\"showbackground\":true,\"ticks\":\"\",\"zerolinecolor\":\"white\",\"gridwidth\":2},\"zaxis\":{\"backgroundcolor\":\"#E5ECF6\",\"gridcolor\":\"white\",\"linecolor\":\"white\",\"showbackground\":true,\"ticks\":\"\",\"zerolinecolor\":\"white\",\"gridwidth\":2}},\"shapedefaults\":{\"line\":{\"color\":\"#2a3f5f\"}},\"annotationdefaults\":{\"arrowcolor\":\"#2a3f5f\",\"arrowhead\":0,\"arrowwidth\":1},\"geo\":{\"bgcolor\":\"white\",\"landcolor\":\"#E5ECF6\",\"subunitcolor\":\"white\",\"showland\":true,\"showlakes\":true,\"lakecolor\":\"white\"},\"title\":{\"x\":0.05},\"mapbox\":{\"style\":\"light\"}}},\"xaxis\":{\"title\":{\"text\":\"Models\"},\"tickangle\":45},\"title\":{\"text\":\"Model Performance Scores with 95% Confidence Intervals (Sorted by Mean Score)\"},\"yaxis\":{\"title\":{\"text\":\"Score\"}},\"height\":500},                        {\"responsive\": true}                    ).then(function(){\n",
              "                            \n",
              "var gd = document.getElementById('96546a03-a7ed-4160-8668-3a05a90c03fd');\n",
              "var x = new MutationObserver(function (mutations, observer) {{\n",
              "        var display = window.getComputedStyle(gd).display;\n",
              "        if (!display || display === 'none') {{\n",
              "            console.log([gd, 'removed!']);\n",
              "            Plotly.purge(gd);\n",
              "            observer.disconnect();\n",
              "        }}\n",
              "}});\n",
              "\n",
              "// Listen for the removal of the full notebook cells\n",
              "var notebookContainer = gd.closest('#notebook-container');\n",
              "if (notebookContainer) {{\n",
              "    x.observe(notebookContainer, {childList: true});\n",
              "}}\n",
              "\n",
              "// Listen for the clearing of the current output cell\n",
              "var outputEl = gd.closest('.output');\n",
              "if (outputEl) {{\n",
              "    x.observe(outputEl, {childList: true});\n",
              "}}\n",
              "\n",
              "                        })                };            </script>        </div>\n",
              "</body>\n",
              "</html>"
            ],
            "image/png": "[encoded data removed]"
          },
          "metadata": {}
        }
      ],
      "source": [
        "results_df, mean_scores, confidence_intervals = get_bootstrapped_score(X, y, selected_models, n_bootstrap=10)\n",
        "fig = go.Figure()\n",
        "\n",
        "# Use the sorted values from results_df for plotting\n",
        "fig.add_trace(go.Scatter(\n",
        "    x=results_df[\"Model\"],\n",
        "    y=results_df[\"Average Score\"],\n",
        "    mode='markers',\n",
        "    name='Model Scores',\n",
        "    marker=dict(size=5, color='blue'),\n",
        "    error_y=dict(\n",
        "        type='data',\n",
        "        array=results_df[\"Upper Bound\"] - results_df[\"Average Score\"],   # Upper error\n",
        "        arrayminus=results_df[\"Average Score\"] - results_df[\"Lower Bound\"],  # Lower error\n",
        "        visible=True\n",
        "    )\n",
        "))\n",
        "\n",
        "fig.update_layout(\n",
        "    title='Model Performance Scores with 95% Confidence Intervals (Sorted by Mean Score)',\n",
        "    xaxis_title='Models',\n",
        "    yaxis_title='Score',\n",
        "    xaxis=dict(tickangle=45),\n",
        "    height=500\n",
        ")\n",
        "\n",
        "fig.show()"
      ]
    },
    {
      "cell_type": "markdown",
      "id": "73d299f9",
      "metadata": {
        "deletable": false,
        "editable": false,
        "id": "73d299f9"
      },
      "source": [
        "## **Question 5b**"
      ]
    },
    {
      "cell_type": "markdown",
      "id": "deec5c31",
      "metadata": {
        "deletable": false,
        "editable": false,
        "id": "deec5c31"
      },
      "source": [
        "Now that we have confidence intervals, we can assign a rank to each model. We want the rank of model $i$ to represent the number of models that are **confidently better** than model $i$.\n",
        "\n",
        "When we say model A is **confidently better** than model B, it will mean that model A's lower bound is still greater than model B's upper bound. Remember that greater rank means that there are more models that perform better than the current model.\n",
        "\n",
        "**Task:**\n",
        "Implement the `assign_rank` function below that assigns rank to the model."
      ]
    },
    {
      "cell_type": "code",
      "execution_count": null,
      "id": "2311144c",
      "metadata": {
        "tags": [
          "otter_answer_cell"
        ],
        "id": "2311144c",
        "colab": {
          "base_uri": "https://localhost:8080/",
          "height": 677
        },
        "outputId": "64284ed4-4dc9-4778-df8f-47e42ad49a75"
      },
      "outputs": [
        {
          "output_type": "execute_result",
          "data": {
            "text/plain": [
              "                         Model  Average Score  Lower Bound  Upper Bound  \\\n",
              "11           chatgpt-4o-latest       0.774987     0.726274     0.829740   \n",
              "8      gemini-1.5-pro-exp-0801       0.554146     0.480751     0.604371   \n",
              "1            gpt-4o-2024-05-13       0.423623     0.383834     0.445975   \n",
              "9       gpt-4o-mini-2024-07-18       0.403970     0.352319     0.457642   \n",
              "18           gpt-4o-2024-08-06       0.326661     0.299135     0.379301   \n",
              "10     llama-3.1-405b-instruct       0.314908     0.292626     0.348165   \n",
              "0   claude-3-5-sonnet-20240620       0.290515     0.273056     0.308921   \n",
              "2      gemini-1.5-pro-api-0514       0.181486     0.152365     0.213444   \n",
              "16      llama-3.1-70b-instruct       0.202466     0.170973     0.235124   \n",
              "12      gpt-4-turbo-2024-04-09       0.174749     0.138641     0.231269   \n",
              "7       claude-3-opus-20240229       0.031665    -0.011581     0.078896   \n",
              "6    gemini-1.5-flash-api-0514      -0.086682    -0.115658    -0.061135   \n",
              "3               gemma-2-27b-it      -0.176443    -0.200734    -0.137304   \n",
              "13        deepseek-v2-api-0628      -0.193849    -0.245356    -0.125721   \n",
              "4         llama-3-70b-instruct      -0.312878    -0.359626    -0.270667   \n",
              "5                gemma-2-9b-it      -0.462765    -0.490599    -0.406211   \n",
              "19          qwen2-72b-instruct      -0.467873    -0.531591    -0.405490   \n",
              "14     claude-3-haiku-20240307      -0.573837    -0.627715    -0.510846   \n",
              "17       llama-3.1-8b-instruct      -0.591915    -0.634955    -0.550532   \n",
              "15         llama-3-8b-instruct      -0.812935    -0.849049    -0.773512   \n",
              "\n",
              "   Category  Rank  \n",
              "11  Overall     1  \n",
              "8   Overall     2  \n",
              "1   Overall     3  \n",
              "9   Overall     3  \n",
              "18  Overall     4  \n",
              "10  Overall     5  \n",
              "0   Overall     5  \n",
              "2   Overall     8  \n",
              "16  Overall     8  \n",
              "12  Overall     8  \n",
              "7   Overall    11  \n",
              "6   Overall    12  \n",
              "3   Overall    13  \n",
              "13  Overall    13  \n",
              "4   Overall    15  \n",
              "5   Overall    16  \n",
              "19  Overall    16  \n",
              "14  Overall    17  \n",
              "17  Overall    18  \n",
              "15  Overall    20  "
            ],
            "text/html": [
              "\n",
              "  <div id=\"df-35038918-5fd1-417a-b6d0-f52665e2f8d2\" class=\"colab-df-container\">\n",
              "    <div>\n",
              "<style scoped>\n",
              "    .dataframe tbody tr th:only-of-type {\n",
              "        vertical-align: middle;\n",
              "    }\n",
              "\n",
              "    .dataframe tbody tr th {\n",
              "        vertical-align: top;\n",
              "    }\n",
              "\n",
              "    .dataframe thead th {\n",
              "        text-align: right;\n",
              "    }\n",
              "</style>\n",
              "<table border=\"1\" class=\"dataframe\">\n",
              "  <thead>\n",
              "    <tr style=\"text-align: right;\">\n",
              "      <th></th>\n",
              "      <th>Model</th>\n",
              "      <th>Average Score</th>\n",
              "      <th>Lower Bound</th>\n",
              "      <th>Upper Bound</th>\n",
              "      <th>Category</th>\n",
              "      <th>Rank</th>\n",
              "    </tr>\n",
              "  </thead>\n",
              "  <tbody>\n",
              "    <tr>\n",
              "      <th>11</th>\n",
              "      <td>chatgpt-4o-latest</td>\n",
              "      <td>0.774987</td>\n",
              "      <td>0.726274</td>\n",
              "      <td>0.829740</td>\n",
              "      <td>Overall</td>\n",
              "      <td>1</td>\n",
              "    </tr>\n",
              "    <tr>\n",
              "      <th>8</th>\n",
              "      <td>gemini-1.5-pro-exp-0801</td>\n",
              "      <td>0.554146</td>\n",
              "      <td>0.480751</td>\n",
              "      <td>0.604371</td>\n",
              "      <td>Overall</td>\n",
              "      <td>2</td>\n",
              "    </tr>\n",
              "    <tr>\n",
              "      <th>1</th>\n",
              "      <td>gpt-4o-2024-05-13</td>\n",
              "      <td>0.423623</td>\n",
              "      <td>0.383834</td>\n",
              "      <td>0.445975</td>\n",
              "      <td>Overall</td>\n",
              "      <td>3</td>\n",
              "    </tr>\n",
              "    <tr>\n",
              "      <th>9</th>\n",
              "      <td>gpt-4o-mini-2024-07-18</td>\n",
              "      <td>0.403970</td>\n",
              "      <td>0.352319</td>\n",
              "      <td>0.457642</td>\n",
              "      <td>Overall</td>\n",
              "      <td>3</td>\n",
              "    </tr>\n",
              "    <tr>\n",
              "      <th>18</th>\n",
              "      <td>gpt-4o-2024-08-06</td>\n",
              "      <td>0.326661</td>\n",
              "      <td>0.299135</td>\n",
              "      <td>0.379301</td>\n",
              "      <td>Overall</td>\n",
              "      <td>4</td>\n",
              "    </tr>\n",
              "    <tr>\n",
              "      <th>10</th>\n",
              "      <td>llama-3.1-405b-instruct</td>\n",
              "      <td>0.314908</td>\n",
              "      <td>0.292626</td>\n",
              "      <td>0.348165</td>\n",
              "      <td>Overall</td>\n",
              "      <td>5</td>\n",
              "    </tr>\n",
              "    <tr>\n",
              "      <th>0</th>\n",
              "      <td>claude-3-5-sonnet-20240620</td>\n",
              "      <td>0.290515</td>\n",
              "      <td>0.273056</td>\n",
              "      <td>0.308921</td>\n",
              "      <td>Overall</td>\n",
              "      <td>5</td>\n",
              "    </tr>\n",
              "    <tr>\n",
              "      <th>2</th>\n",
              "      <td>gemini-1.5-pro-api-0514</td>\n",
              "      <td>0.181486</td>\n",
              "      <td>0.152365</td>\n",
              "      <td>0.213444</td>\n",
              "      <td>Overall</td>\n",
              "      <td>8</td>\n",
              "    </tr>\n",
              "    <tr>\n",
              "      <th>16</th>\n",
              "      <td>llama-3.1-70b-instruct</td>\n",
              "      <td>0.202466</td>\n",
              "      <td>0.170973</td>\n",
              "      <td>0.235124</td>\n",
              "      <td>Overall</td>\n",
              "      <td>8</td>\n",
              "    </tr>\n",
              "    <tr>\n",
              "      <th>12</th>\n",
              "      <td>gpt-4-turbo-2024-04-09</td>\n",
              "      <td>0.174749</td>\n",
              "      <td>0.138641</td>\n",
              "      <td>0.231269</td>\n",
              "      <td>Overall</td>\n",
              "      <td>8</td>\n",
              "    </tr>\n",
              "    <tr>\n",
              "      <th>7</th>\n",
              "      <td>claude-3-opus-20240229</td>\n",
              "      <td>0.031665</td>\n",
              "      <td>-0.011581</td>\n",
              "      <td>0.078896</td>\n",
              "      <td>Overall</td>\n",
              "      <td>11</td>\n",
              "    </tr>\n",
              "    <tr>\n",
              "      <th>6</th>\n",
              "      <td>gemini-1.5-flash-api-0514</td>\n",
              "      <td>-0.086682</td>\n",
              "      <td>-0.115658</td>\n",
              "      <td>-0.061135</td>\n",
              "      <td>Overall</td>\n",
              "      <td>12</td>\n",
              "    </tr>\n",
              "    <tr>\n",
              "      <th>3</th>\n",
              "      <td>gemma-2-27b-it</td>\n",
              "      <td>-0.176443</td>\n",
              "      <td>-0.200734</td>\n",
              "      <td>-0.137304</td>\n",
              "      <td>Overall</td>\n",
              "      <td>13</td>\n",
              "    </tr>\n",
              "    <tr>\n",
              "      <th>13</th>\n",
              "      <td>deepseek-v2-api-0628</td>\n",
              "      <td>-0.193849</td>\n",
              "      <td>-0.245356</td>\n",
              "      <td>-0.125721</td>\n",
              "      <td>Overall</td>\n",
              "      <td>13</td>\n",
              "    </tr>\n",
              "    <tr>\n",
              "      <th>4</th>\n",
              "      <td>llama-3-70b-instruct</td>\n",
              "      <td>-0.312878</td>\n",
              "      <td>-0.359626</td>\n",
              "      <td>-0.270667</td>\n",
              "      <td>Overall</td>\n",
              "      <td>15</td>\n",
              "    </tr>\n",
              "    <tr>\n",
              "      <th>5</th>\n",
              "      <td>gemma-2-9b-it</td>\n",
              "      <td>-0.462765</td>\n",
              "      <td>-0.490599</td>\n",
              "      <td>-0.406211</td>\n",
              "      <td>Overall</td>\n",
              "      <td>16</td>\n",
              "    </tr>\n",
              "    <tr>\n",
              "      <th>19</th>\n",
              "      <td>qwen2-72b-instruct</td>\n",
              "      <td>-0.467873</td>\n",
              "      <td>-0.531591</td>\n",
              "      <td>-0.405490</td>\n",
              "      <td>Overall</td>\n",
              "      <td>16</td>\n",
              "    </tr>\n",
              "    <tr>\n",
              "      <th>14</th>\n",
              "      <td>claude-3-haiku-20240307</td>\n",
              "      <td>-0.573837</td>\n",
              "      <td>-0.627715</td>\n",
              "      <td>-0.510846</td>\n",
              "      <td>Overall</td>\n",
              "      <td>17</td>\n",
              "    </tr>\n",
              "    <tr>\n",
              "      <th>17</th>\n",
              "      <td>llama-3.1-8b-instruct</td>\n",
              "      <td>-0.591915</td>\n",
              "      <td>-0.634955</td>\n",
              "      <td>-0.550532</td>\n",
              "      <td>Overall</td>\n",
              "      <td>18</td>\n",
              "    </tr>\n",
              "    <tr>\n",
              "      <th>15</th>\n",
              "      <td>llama-3-8b-instruct</td>\n",
              "      <td>-0.812935</td>\n",
              "      <td>-0.849049</td>\n",
              "      <td>-0.773512</td>\n",
              "      <td>Overall</td>\n",
              "      <td>20</td>\n",
              "    </tr>\n",
              "  </tbody>\n",
              "</table>\n",
              "</div>\n",
              "    <div class=\"colab-df-buttons\">\n",
              "\n",
              "  <div class=\"colab-df-container\">\n",
              "    <button class=\"colab-df-convert\" onclick=\"convertToInteractive('df-35038918-5fd1-417a-b6d0-f52665e2f8d2')\"\n",
              "            title=\"Convert this dataframe to an interactive table.\"\n",
              "            style=\"display:none;\">\n",
              "\n",
              "  <svg xmlns=\"http://www.w3.org/2000/svg\" height=\"24px\" viewBox=\"0 -960 960 960\">\n",
              "    <path d=\"M120-120v-720h720v720H120Zm60-500h600v-160H180v160Zm220 220h160v-160H400v160Zm0 220h160v-160H400v160ZM180-400h160v-160H180v160Zm440 0h160v-160H620v160ZM180-180h160v-160H180v160Zm440 0h160v-160H620v160Z\"/>\n",
              "  </svg>\n",
              "    </button>\n",
              "\n",
              "  <style>\n",
              "    .colab-df-container {\n",
              "      display:flex;\n",
              "      gap: 12px;\n",
              "    }\n",
              "\n",
              "    .colab-df-convert {\n",
              "      background-color: #E8F0FE;\n",
              "      border: none;\n",
              "      border-radius: 50%;\n",
              "      cursor: pointer;\n",
              "      display: none;\n",
              "      fill: #1967D2;\n",
              "      height: 32px;\n",
              "      padding: 0 0 0 0;\n",
              "      width: 32px;\n",
              "    }\n",
              "\n",
              "    .colab-df-convert:hover {\n",
              "      background-color: #E2EBFA;\n",
              "      box-shadow: 0px 1px 2px rgba(60, 64, 67, 0.3), 0px 1px 3px 1px rgba(60, 64, 67, 0.15);\n",
              "      fill: #174EA6;\n",
              "    }\n",
              "\n",
              "    .colab-df-buttons div {\n",
              "      margin-bottom: 4px;\n",
              "    }\n",
              "\n",
              "    [theme=dark] .colab-df-convert {\n",
              "      background-color: #3B4455;\n",
              "      fill: #D2E3FC;\n",
              "    }\n",
              "\n",
              "    [theme=dark] .colab-df-convert:hover {\n",
              "      background-color: #434B5C;\n",
              "      box-shadow: 0px 1px 3px 1px rgba(0, 0, 0, 0.15);\n",
              "      filter: drop-shadow(0px 1px 2px rgba(0, 0, 0, 0.3));\n",
              "      fill: #FFFFFF;\n",
              "    }\n",
              "  </style>\n",
              "\n",
              "    <script>\n",
              "      const buttonEl =\n",
              "        document.querySelector('#df-35038918-5fd1-417a-b6d0-f52665e2f8d2 button.colab-df-convert');\n",
              "      buttonEl.style.display =\n",
              "        google.colab.kernel.accessAllowed ? 'block' : 'none';\n",
              "\n",
              "      async function convertToInteractive(key) {\n",
              "        const element = document.querySelector('#df-35038918-5fd1-417a-b6d0-f52665e2f8d2');\n",
              "        const dataTable =\n",
              "          await google.colab.kernel.invokeFunction('convertToInteractive',\n",
              "                                                    [key], {});\n",
              "        if (!dataTable) return;\n",
              "\n",
              "        const docLinkHtml = 'Like what you see? Visit the ' +\n",
              "          '<a target=\"_blank\" href=https://colab.research.google.com/notebooks/data_table.ipynb>data table notebook</a>'\n",
              "          + ' to learn more about interactive tables.';\n",
              "        element.innerHTML = '';\n",
              "        dataTable['output_type'] = 'display_data';\n",
              "        await google.colab.output.renderOutput(dataTable, element);\n",
              "        const docLink = document.createElement('div');\n",
              "        docLink.innerHTML = docLinkHtml;\n",
              "        element.appendChild(docLink);\n",
              "      }\n",
              "    </script>\n",
              "  </div>\n",
              "\n",
              "\n",
              "    <div id=\"df-1dbf9a55-3b09-4641-a8c6-f1fe85945651\">\n",
              "      <button class=\"colab-df-quickchart\" onclick=\"quickchart('df-1dbf9a55-3b09-4641-a8c6-f1fe85945651')\"\n",
              "                title=\"Suggest charts\"\n",
              "                style=\"display:none;\">\n",
              "\n",
              "<svg xmlns=\"http://www.w3.org/2000/svg\" height=\"24px\"viewBox=\"0 0 24 24\"\n",
              "     width=\"24px\">\n",
              "    <g>\n",
              "        <path d=\"M19 3H5c-1.1 0-2 .9-2 2v14c0 1.1.9 2 2 2h14c1.1 0 2-.9 2-2V5c0-1.1-.9-2-2-2zM9 17H7v-7h2v7zm4 0h-2V7h2v10zm4 0h-2v-4h2v4z\"/>\n",
              "    </g>\n",
              "</svg>\n",
              "      </button>\n",
              "\n",
              "<style>\n",
              "  .colab-df-quickchart {\n",
              "      --bg-color: #E8F0FE;\n",
              "      --fill-color: #1967D2;\n",
              "      --hover-bg-color: #E2EBFA;\n",
              "      --hover-fill-color: #174EA6;\n",
              "      --disabled-fill-color: #AAA;\n",
              "      --disabled-bg-color: #DDD;\n",
              "  }\n",
              "\n",
              "  [theme=dark] .colab-df-quickchart {\n",
              "      --bg-color: #3B4455;\n",
              "      --fill-color: #D2E3FC;\n",
              "      --hover-bg-color: #434B5C;\n",
              "      --hover-fill-color: #FFFFFF;\n",
              "      --disabled-bg-color: #3B4455;\n",
              "      --disabled-fill-color: #666;\n",
              "  }\n",
              "\n",
              "  .colab-df-quickchart {\n",
              "    background-color: var(--bg-color);\n",
              "    border: none;\n",
              "    border-radius: 50%;\n",
              "    cursor: pointer;\n",
              "    display: none;\n",
              "    fill: var(--fill-color);\n",
              "    height: 32px;\n",
              "    padding: 0;\n",
              "    width: 32px;\n",
              "  }\n",
              "\n",
              "  .colab-df-quickchart:hover {\n",
              "    background-color: var(--hover-bg-color);\n",
              "    box-shadow: 0 1px 2px rgba(60, 64, 67, 0.3), 0 1px 3px 1px rgba(60, 64, 67, 0.15);\n",
              "    fill: var(--button-hover-fill-color);\n",
              "  }\n",
              "\n",
              "  .colab-df-quickchart-complete:disabled,\n",
              "  .colab-df-quickchart-complete:disabled:hover {\n",
              "    background-color: var(--disabled-bg-color);\n",
              "    fill: var(--disabled-fill-color);\n",
              "    box-shadow: none;\n",
              "  }\n",
              "\n",
              "  .colab-df-spinner {\n",
              "    border: 2px solid var(--fill-color);\n",
              "    border-color: transparent;\n",
              "    border-bottom-color: var(--fill-color);\n",
              "    animation:\n",
              "      spin 1s steps(1) infinite;\n",
              "  }\n",
              "\n",
              "  @keyframes spin {\n",
              "    0% {\n",
              "      border-color: transparent;\n",
              "      border-bottom-color: var(--fill-color);\n",
              "      border-left-color: var(--fill-color);\n",
              "    }\n",
              "    20% {\n",
              "      border-color: transparent;\n",
              "      border-left-color: var(--fill-color);\n",
              "      border-top-color: var(--fill-color);\n",
              "    }\n",
              "    30% {\n",
              "      border-color: transparent;\n",
              "      border-left-color: var(--fill-color);\n",
              "      border-top-color: var(--fill-color);\n",
              "      border-right-color: var(--fill-color);\n",
              "    }\n",
              "    40% {\n",
              "      border-color: transparent;\n",
              "      border-right-color: var(--fill-color);\n",
              "      border-top-color: var(--fill-color);\n",
              "    }\n",
              "    60% {\n",
              "      border-color: transparent;\n",
              "      border-right-color: var(--fill-color);\n",
              "    }\n",
              "    80% {\n",
              "      border-color: transparent;\n",
              "      border-right-color: var(--fill-color);\n",
              "      border-bottom-color: var(--fill-color);\n",
              "    }\n",
              "    90% {\n",
              "      border-color: transparent;\n",
              "      border-bottom-color: var(--fill-color);\n",
              "    }\n",
              "  }\n",
              "</style>\n",
              "\n",
              "      <script>\n",
              "        async function quickchart(key) {\n",
              "          const quickchartButtonEl =\n",
              "            document.querySelector('#' + key + ' button');\n",
              "          quickchartButtonEl.disabled = true;  // To prevent multiple clicks.\n",
              "          quickchartButtonEl.classList.add('colab-df-spinner');\n",
              "          try {\n",
              "            const charts = await google.colab.kernel.invokeFunction(\n",
              "                'suggestCharts', [key], {});\n",
              "          } catch (error) {\n",
              "            console.error('Error during call to suggestCharts:', error);\n",
              "          }\n",
              "          quickchartButtonEl.classList.remove('colab-df-spinner');\n",
              "          quickchartButtonEl.classList.add('colab-df-quickchart-complete');\n",
              "        }\n",
              "        (() => {\n",
              "          let quickchartButtonEl =\n",
              "            document.querySelector('#df-1dbf9a55-3b09-4641-a8c6-f1fe85945651 button');\n",
              "          quickchartButtonEl.style.display =\n",
              "            google.colab.kernel.accessAllowed ? 'block' : 'none';\n",
              "        })();\n",
              "      </script>\n",
              "    </div>\n",
              "\n",
              "  <div id=\"id_e9bc33d6-9ba6-47bc-bfef-3653c1c0e4a5\">\n",
              "    <style>\n",
              "      .colab-df-generate {\n",
              "        background-color: #E8F0FE;\n",
              "        border: none;\n",
              "        border-radius: 50%;\n",
              "        cursor: pointer;\n",
              "        display: none;\n",
              "        fill: #1967D2;\n",
              "        height: 32px;\n",
              "        padding: 0 0 0 0;\n",
              "        width: 32px;\n",
              "      }\n",
              "\n",
              "      .colab-df-generate:hover {\n",
              "        background-color: #E2EBFA;\n",
              "        box-shadow: 0px 1px 2px rgba(60, 64, 67, 0.3), 0px 1px 3px 1px rgba(60, 64, 67, 0.15);\n",
              "        fill: #174EA6;\n",
              "      }\n",
              "\n",
              "      [theme=dark] .colab-df-generate {\n",
              "        background-color: #3B4455;\n",
              "        fill: #D2E3FC;\n",
              "      }\n",
              "\n",
              "      [theme=dark] .colab-df-generate:hover {\n",
              "        background-color: #434B5C;\n",
              "        box-shadow: 0px 1px 3px 1px rgba(0, 0, 0, 0.15);\n",
              "        filter: drop-shadow(0px 1px 2px rgba(0, 0, 0, 0.3));\n",
              "        fill: #FFFFFF;\n",
              "      }\n",
              "    </style>\n",
              "    <button class=\"colab-df-generate\" onclick=\"generateWithVariable('results_df')\"\n",
              "            title=\"Generate code using this dataframe.\"\n",
              "            style=\"display:none;\">\n",
              "\n",
              "  <svg xmlns=\"http://www.w3.org/2000/svg\" height=\"24px\"viewBox=\"0 0 24 24\"\n",
              "       width=\"24px\">\n",
              "    <path d=\"M7,19H8.4L18.45,9,17,7.55,7,17.6ZM5,21V16.75L18.45,3.32a2,2,0,0,1,2.83,0l1.4,1.43a1.91,1.91,0,0,1,.58,1.4,1.91,1.91,0,0,1-.58,1.4L9.25,21ZM18.45,9,17,7.55Zm-12,3A5.31,5.31,0,0,0,4.9,8.1,5.31,5.31,0,0,0,1,6.5,5.31,5.31,0,0,0,4.9,4.9,5.31,5.31,0,0,0,6.5,1,5.31,5.31,0,0,0,8.1,4.9,5.31,5.31,0,0,0,12,6.5,5.46,5.46,0,0,0,6.5,12Z\"/>\n",
              "  </svg>\n",
              "    </button>\n",
              "    <script>\n",
              "      (() => {\n",
              "      const buttonEl =\n",
              "        document.querySelector('#id_e9bc33d6-9ba6-47bc-bfef-3653c1c0e4a5 button.colab-df-generate');\n",
              "      buttonEl.style.display =\n",
              "        google.colab.kernel.accessAllowed ? 'block' : 'none';\n",
              "\n",
              "      buttonEl.onclick = () => {\n",
              "        google.colab.notebook.generateWithVariable('results_df');\n",
              "      }\n",
              "      })();\n",
              "    </script>\n",
              "  </div>\n",
              "\n",
              "    </div>\n",
              "  </div>\n"
            ],
            "application/vnd.google.colaboratory.intrinsic+json": {
              "type": "dataframe",
              "variable_name": "results_df",
              "summary": "{\n  \"name\": \"results_df\",\n  \"rows\": 20,\n  \"fields\": [\n    {\n      \"column\": \"Model\",\n      \"properties\": {\n        \"dtype\": \"string\",\n        \"num_unique_values\": 20,\n        \"samples\": [\n          \"chatgpt-4o-latest\",\n          \"claude-3-haiku-20240307\",\n          \"gemma-2-9b-it\"\n        ],\n        \"semantic_type\": \"\",\n        \"description\": \"\"\n      }\n    },\n    {\n      \"column\": \"Average Score\",\n      \"properties\": {\n        \"dtype\": \"number\",\n        \"std\": 0.4349083934704596,\n        \"min\": -0.8129346574894832,\n        \"max\": 0.7749870359919833,\n        \"num_unique_values\": 20,\n        \"samples\": [\n          0.7749870359919833,\n          -0.5738365825921059,\n          -0.462764983152399\n        ],\n        \"semantic_type\": \"\",\n        \"description\": \"\"\n      }\n    },\n    {\n      \"column\": \"Lower Bound\",\n      \"properties\": {\n        \"dtype\": \"number\",\n        \"std\": 0.4355475748559434,\n        \"min\": -0.8490492734336486,\n        \"max\": 0.7262742889083106,\n        \"num_unique_values\": 20,\n        \"samples\": [\n          0.7262742889083106,\n          -0.6277151317993823,\n          -0.49059881853061277\n        ],\n        \"semantic_type\": \"\",\n        \"description\": \"\"\n      }\n    },\n    {\n      \"column\": \"Upper Bound\",\n      \"properties\": {\n        \"dtype\": \"number\",\n        \"std\": 0.43206093210568813,\n        \"min\": -0.7735115949540882,\n        \"max\": 0.829740252395154,\n        \"num_unique_values\": 20,\n        \"samples\": [\n          0.829740252395154,\n          -0.5108459294415751,\n          -0.4062112346733378\n        ],\n        \"semantic_type\": \"\",\n        \"description\": \"\"\n      }\n    },\n    {\n      \"column\": \"Category\",\n      \"properties\": {\n        \"dtype\": \"category\",\n        \"num_unique_values\": 1,\n        \"samples\": [\n          \"Overall\"\n        ],\n        \"semantic_type\": \"\",\n        \"description\": \"\"\n      }\n    },\n    {\n      \"column\": \"Rank\",\n      \"properties\": {\n        \"dtype\": \"number\",\n        \"std\": 5,\n        \"min\": 1,\n        \"max\": 20,\n        \"num_unique_values\": 14,\n        \"samples\": [\n          15\n        ],\n        \"semantic_type\": \"\",\n        \"description\": \"\"\n      }\n    }\n  ]\n}"
            }
          },
          "metadata": {},
          "execution_count": 15
        }
      ],
      "source": [
        "def assign_rank(row, df=results_df):\n",
        "    \"\"\"\n",
        "    Input:\n",
        "        row : pd.Series\n",
        "            A row of the DataFrame (representing a model’s metrics).\n",
        "        df : pd.DataFrame (default = results_df)\n",
        "            DataFrame containing model performance with 'Lower Bound' and 'Upper Bound'.\n",
        "\n",
        "    Output:\n",
        "        int : The rank of the model, defined as (# of models confidently better) + 1.\n",
        "    \"\"\"\n",
        "\n",
        "    count = sum(df[\"Lower Bound\"] > row[\"Upper Bound\"]) + 1\n",
        "    return count\n",
        "\n",
        "\n",
        "results_df['Rank'] = results_df.apply(lambda r: assign_rank(r, results_df), axis=1)\n",
        "results_df = results_df.sort_values(by=\"Rank\", ascending=True)\n",
        "results_df"
      ]
    },
    {
      "cell_type": "code",
      "execution_count": null,
      "id": "0459f839",
      "metadata": {
        "deletable": false,
        "editable": false,
        "id": "0459f839",
        "colab": {
          "base_uri": "https://localhost:8080/",
          "height": 47
        },
        "outputId": "e929b528-2751-43c0-e6c2-f2ace95c6bfc"
      },
      "outputs": [
        {
          "output_type": "execute_result",
          "data": {
            "text/plain": [
              "q5b results: All test cases passed!"
            ],
            "text/html": [
              "<p><strong><pre style='display: inline;'>q5b</pre></strong> passed! 🙌</p>"
            ]
          },
          "metadata": {},
          "execution_count": 16
        }
      ],
      "source": [
        "grader.check(\"q5b\")"
      ]
    },
    {
      "cell_type": "markdown",
      "source": [
        "Example (non-graded): visualize the leaderboard"
      ],
      "metadata": {
        "id": "zWZJvPuUTvXz"
      },
      "id": "zWZJvPuUTvXz"
    },
    {
      "cell_type": "markdown",
      "id": "8d8fa3d0",
      "metadata": {
        "id": "8d8fa3d0"
      },
      "source": [
        "Now that you have your leaderboard, let's use our premade `plot_rank_heatmap` in `plotting_utils.py` to visualize the results. This is an example cell and not a graded question."
      ]
    },
    {
      "cell_type": "code",
      "execution_count": null,
      "id": "f24f5d2a",
      "metadata": {
        "id": "f24f5d2a",
        "colab": {
          "base_uri": "https://localhost:8080/",
          "height": 657
        },
        "outputId": "b98c0a64-3cb6-4afe-d782-b86f55509b32"
      },
      "outputs": [
        {
          "output_type": "display_data",
          "data": {
            "text/html": [
              "<html>\n",
              "<head><meta charset=\"utf-8\" /></head>\n",
              "<body>\n",
              "    <div>            <script src=\"https://cdnjs.cloudflare.com/ajax/libs/mathjax/2.7.5/MathJax.js?config=TeX-AMS-MML_SVG\"></script><script type=\"text/javascript\">if (window.MathJax && window.MathJax.Hub && window.MathJax.Hub.Config) {window.MathJax.Hub.Config({SVG: {font: \"STIX-Web\"}});}</script>                <script type=\"text/javascript\">window.PlotlyConfig = {MathJaxConfig: 'local'};</script>\n",
              "        <script charset=\"utf-8\" src=\"https://cdn.plot.ly/plotly-3.1.1.min.js\" integrity=\"sha256-HUEFyfiTnZJxCxur99FjbKYTvKSzwDaD3/x5TqHpFu4=\" crossorigin=\"anonymous\"></script>                <div id=\"db05e587-7dd4-4d1b-bd40-a2af36a5c7b1\" class=\"plotly-graph-div\" style=\"height:640px; width:100%;\"></div>            <script type=\"text/javascript\">                window.PLOTLYENV=window.PLOTLYENV || {};                                if (document.getElementById(\"db05e587-7dd4-4d1b-bd40-a2af36a5c7b1\")) {                    Plotly.newPlot(                        \"db05e587-7dd4-4d1b-bd40-a2af36a5c7b1\",                        [{\"colorscale\":[[0.0,\"#fde725\"],[0.1111111111111111,\"#b5de2b\"],[0.2222222222222222,\"#6ece58\"],[0.3333333333333333,\"#35b779\"],[0.4444444444444444,\"#1f9e89\"],[0.5555555555555556,\"#26828e\"],[0.6666666666666666,\"#31688e\"],[0.7777777777777778,\"#3e4989\"],[0.8888888888888888,\"#482878\"],[1.0,\"#440154\"]],\"hovertemplate\":\"Model: %{y}\\u003cbr\\u003eCategory: %{x}\\u003cbr\\u003eRank: %{z}\\u003cextra\\u003e\\u003c\\u002fextra\\u003e\",\"showscale\":false,\"text\":{\"dtype\":\"i1\",\"bdata\":\"FBIREBAPDQ0MCwgICAUFBAMDAgE=\",\"shape\":\"20, 1\"},\"textfont\":{\"size\":10},\"texttemplate\":\"%{text}\",\"x\":[\"Overall\"],\"y\":[\"llama-3-8b-instruct\",\"llama-3.1-8b-instruct\",\"claude-3-haiku-20240307\",\"qwen2-72b-instruct\",\"gemma-2-9b-it\",\"llama-3-70b-instruct\",\"deepseek-v2-api-0628\",\"gemma-2-27b-it\",\"gemini-1.5-flash-api-0514\",\"claude-3-opus-20240229\",\"gemini-1.5-pro-api-0514\",\"llama-3.1-70b-instruct\",\"gpt-4-turbo-2024-04-09\",\"llama-3.1-405b-instruct\",\"claude-3-5-sonnet-20240620\",\"gpt-4o-2024-08-06\",\"gpt-4o-2024-05-13\",\"gpt-4o-mini-2024-07-18\",\"gemini-1.5-pro-exp-0801\",\"chatgpt-4o-latest\"],\"z\":{\"dtype\":\"i1\",\"bdata\":\"FBIREBAPDQ0MCwgICAUFBAMDAgE=\",\"shape\":\"20, 1\"},\"type\":\"heatmap\"}],                        {\"template\":{\"data\":{\"histogram2dcontour\":[{\"type\":\"histogram2dcontour\",\"colorbar\":{\"outlinewidth\":0,\"ticks\":\"\"},\"colorscale\":[[0.0,\"#0d0887\"],[0.1111111111111111,\"#46039f\"],[0.2222222222222222,\"#7201a8\"],[0.3333333333333333,\"#9c179e\"],[0.4444444444444444,\"#bd3786\"],[0.5555555555555556,\"#d8576b\"],[0.6666666666666666,\"#ed7953\"],[0.7777777777777778,\"#fb9f3a\"],[0.8888888888888888,\"#fdca26\"],[1.0,\"#f0f921\"]]}],\"choropleth\":[{\"type\":\"choropleth\",\"colorbar\":{\"outlinewidth\":0,\"ticks\":\"\"}}],\"histogram2d\":[{\"type\":\"histogram2d\",\"colorbar\":{\"outlinewidth\":0,\"ticks\":\"\"},\"colorscale\":[[0.0,\"#0d0887\"],[0.1111111111111111,\"#46039f\"],[0.2222222222222222,\"#7201a8\"],[0.3333333333333333,\"#9c179e\"],[0.4444444444444444,\"#bd3786\"],[0.5555555555555556,\"#d8576b\"],[0.6666666666666666,\"#ed7953\"],[0.7777777777777778,\"#fb9f3a\"],[0.8888888888888888,\"#fdca26\"],[1.0,\"#f0f921\"]]}],\"heatmap\":[{\"type\":\"heatmap\",\"colorbar\":{\"outlinewidth\":0,\"ticks\":\"\"},\"colorscale\":[[0.0,\"#0d0887\"],[0.1111111111111111,\"#46039f\"],[0.2222222222222222,\"#7201a8\"],[0.3333333333333333,\"#9c179e\"],[0.4444444444444444,\"#bd3786\"],[0.5555555555555556,\"#d8576b\"],[0.6666666666666666,\"#ed7953\"],[0.7777777777777778,\"#fb9f3a\"],[0.8888888888888888,\"#fdca26\"],[1.0,\"#f0f921\"]]}],\"contourcarpet\":[{\"type\":\"contourcarpet\",\"colorbar\":{\"outlinewidth\":0,\"ticks\":\"\"}}],\"contour\":[{\"type\":\"contour\",\"colorbar\":{\"outlinewidth\":0,\"ticks\":\"\"},\"colorscale\":[[0.0,\"#0d0887\"],[0.1111111111111111,\"#46039f\"],[0.2222222222222222,\"#7201a8\"],[0.3333333333333333,\"#9c179e\"],[0.4444444444444444,\"#bd3786\"],[0.5555555555555556,\"#d8576b\"],[0.6666666666666666,\"#ed7953\"],[0.7777777777777778,\"#fb9f3a\"],[0.8888888888888888,\"#fdca26\"],[1.0,\"#f0f921\"]]}],\"surface\":[{\"type\":\"surface\",\"colorbar\":{\"outlinewidth\":0,\"ticks\":\"\"},\"colorscale\":[[0.0,\"#0d0887\"],[0.1111111111111111,\"#46039f\"],[0.2222222222222222,\"#7201a8\"],[0.3333333333333333,\"#9c179e\"],[0.4444444444444444,\"#bd3786\"],[0.5555555555555556,\"#d8576b\"],[0.6666666666666666,\"#ed7953\"],[0.7777777777777778,\"#fb9f3a\"],[0.8888888888888888,\"#fdca26\"],[1.0,\"#f0f921\"]]}],\"mesh3d\":[{\"type\":\"mesh3d\",\"colorbar\":{\"outlinewidth\":0,\"ticks\":\"\"}}],\"scatter\":[{\"fillpattern\":{\"fillmode\":\"overlay\",\"size\":10,\"solidity\":0.2},\"type\":\"scatter\"}],\"parcoords\":[{\"type\":\"parcoords\",\"line\":{\"colorbar\":{\"outlinewidth\":0,\"ticks\":\"\"}}}],\"scatterpolargl\":[{\"type\":\"scatterpolargl\",\"marker\":{\"colorbar\":{\"outlinewidth\":0,\"ticks\":\"\"}}}],\"bar\":[{\"error_x\":{\"color\":\"#2a3f5f\"},\"error_y\":{\"color\":\"#2a3f5f\"},\"marker\":{\"line\":{\"color\":\"#E5ECF6\",\"width\":0.5},\"pattern\":{\"fillmode\":\"overlay\",\"size\":10,\"solidity\":0.2}},\"type\":\"bar\"}],\"scattergeo\":[{\"type\":\"scattergeo\",\"marker\":{\"colorbar\":{\"outlinewidth\":0,\"ticks\":\"\"}}}],\"scatterpolar\":[{\"type\":\"scatterpolar\",\"marker\":{\"colorbar\":{\"outlinewidth\":0,\"ticks\":\"\"}}}],\"histogram\":[{\"marker\":{\"pattern\":{\"fillmode\":\"overlay\",\"size\":10,\"solidity\":0.2}},\"type\":\"histogram\"}],\"scattergl\":[{\"type\":\"scattergl\",\"marker\":{\"colorbar\":{\"outlinewidth\":0,\"ticks\":\"\"}}}],\"scatter3d\":[{\"type\":\"scatter3d\",\"line\":{\"colorbar\":{\"outlinewidth\":0,\"ticks\":\"\"}},\"marker\":{\"colorbar\":{\"outlinewidth\":0,\"ticks\":\"\"}}}],\"scattermap\":[{\"type\":\"scattermap\",\"marker\":{\"colorbar\":{\"outlinewidth\":0,\"ticks\":\"\"}}}],\"scattermapbox\":[{\"type\":\"scattermapbox\",\"marker\":{\"colorbar\":{\"outlinewidth\":0,\"ticks\":\"\"}}}],\"scatterternary\":[{\"type\":\"scatterternary\",\"marker\":{\"colorbar\":{\"outlinewidth\":0,\"ticks\":\"\"}}}],\"scattercarpet\":[{\"type\":\"scattercarpet\",\"marker\":{\"colorbar\":{\"outlinewidth\":0,\"ticks\":\"\"}}}],\"carpet\":[{\"aaxis\":{\"endlinecolor\":\"#2a3f5f\",\"gridcolor\":\"white\",\"linecolor\":\"white\",\"minorgridcolor\":\"white\",\"startlinecolor\":\"#2a3f5f\"},\"baxis\":{\"endlinecolor\":\"#2a3f5f\",\"gridcolor\":\"white\",\"linecolor\":\"white\",\"minorgridcolor\":\"white\",\"startlinecolor\":\"#2a3f5f\"},\"type\":\"carpet\"}],\"table\":[{\"cells\":{\"fill\":{\"color\":\"#EBF0F8\"},\"line\":{\"color\":\"white\"}},\"header\":{\"fill\":{\"color\":\"#C8D4E3\"},\"line\":{\"color\":\"white\"}},\"type\":\"table\"}],\"barpolar\":[{\"marker\":{\"line\":{\"color\":\"#E5ECF6\",\"width\":0.5},\"pattern\":{\"fillmode\":\"overlay\",\"size\":10,\"solidity\":0.2}},\"type\":\"barpolar\"}],\"pie\":[{\"automargin\":true,\"type\":\"pie\"}]},\"layout\":{\"autotypenumbers\":\"strict\",\"colorway\":[\"#636efa\",\"#EF553B\",\"#00cc96\",\"#ab63fa\",\"#FFA15A\",\"#19d3f3\",\"#FF6692\",\"#B6E880\",\"#FF97FF\",\"#FECB52\"],\"font\":{\"color\":\"#2a3f5f\"},\"hovermode\":\"closest\",\"hoverlabel\":{\"align\":\"left\"},\"paper_bgcolor\":\"white\",\"plot_bgcolor\":\"#E5ECF6\",\"polar\":{\"bgcolor\":\"#E5ECF6\",\"angularaxis\":{\"gridcolor\":\"white\",\"linecolor\":\"white\",\"ticks\":\"\"},\"radialaxis\":{\"gridcolor\":\"white\",\"linecolor\":\"white\",\"ticks\":\"\"}},\"ternary\":{\"bgcolor\":\"#E5ECF6\",\"aaxis\":{\"gridcolor\":\"white\",\"linecolor\":\"white\",\"ticks\":\"\"},\"baxis\":{\"gridcolor\":\"white\",\"linecolor\":\"white\",\"ticks\":\"\"},\"caxis\":{\"gridcolor\":\"white\",\"linecolor\":\"white\",\"ticks\":\"\"}},\"coloraxis\":{\"colorbar\":{\"outlinewidth\":0,\"ticks\":\"\"}},\"colorscale\":{\"sequential\":[[0.0,\"#0d0887\"],[0.1111111111111111,\"#46039f\"],[0.2222222222222222,\"#7201a8\"],[0.3333333333333333,\"#9c179e\"],[0.4444444444444444,\"#bd3786\"],[0.5555555555555556,\"#d8576b\"],[0.6666666666666666,\"#ed7953\"],[0.7777777777777778,\"#fb9f3a\"],[0.8888888888888888,\"#fdca26\"],[1.0,\"#f0f921\"]],\"sequentialminus\":[[0.0,\"#0d0887\"],[0.1111111111111111,\"#46039f\"],[0.2222222222222222,\"#7201a8\"],[0.3333333333333333,\"#9c179e\"],[0.4444444444444444,\"#bd3786\"],[0.5555555555555556,\"#d8576b\"],[0.6666666666666666,\"#ed7953\"],[0.7777777777777778,\"#fb9f3a\"],[0.8888888888888888,\"#fdca26\"],[1.0,\"#f0f921\"]],\"diverging\":[[0,\"#8e0152\"],[0.1,\"#c51b7d\"],[0.2,\"#de77ae\"],[0.3,\"#f1b6da\"],[0.4,\"#fde0ef\"],[0.5,\"#f7f7f7\"],[0.6,\"#e6f5d0\"],[0.7,\"#b8e186\"],[0.8,\"#7fbc41\"],[0.9,\"#4d9221\"],[1,\"#276419\"]]},\"xaxis\":{\"gridcolor\":\"white\",\"linecolor\":\"white\",\"ticks\":\"\",\"title\":{\"standoff\":15},\"zerolinecolor\":\"white\",\"automargin\":true,\"zerolinewidth\":2},\"yaxis\":{\"gridcolor\":\"white\",\"linecolor\":\"white\",\"ticks\":\"\",\"title\":{\"standoff\":15},\"zerolinecolor\":\"white\",\"automargin\":true,\"zerolinewidth\":2},\"scene\":{\"xaxis\":{\"backgroundcolor\":\"#E5ECF6\",\"gridcolor\":\"white\",\"linecolor\":\"white\",\"showbackground\":true,\"ticks\":\"\",\"zerolinecolor\":\"white\",\"gridwidth\":2},\"yaxis\":{\"backgroundcolor\":\"#E5ECF6\",\"gridcolor\":\"white\",\"linecolor\":\"white\",\"showbackground\":true,\"ticks\":\"\",\"zerolinecolor\":\"white\",\"gridwidth\":2},\"zaxis\":{\"backgroundcolor\":\"#E5ECF6\",\"gridcolor\":\"white\",\"linecolor\":\"white\",\"showbackground\":true,\"ticks\":\"\",\"zerolinecolor\":\"white\",\"gridwidth\":2}},\"shapedefaults\":{\"line\":{\"color\":\"#2a3f5f\"}},\"annotationdefaults\":{\"arrowcolor\":\"#2a3f5f\",\"arrowhead\":0,\"arrowwidth\":1},\"geo\":{\"bgcolor\":\"white\",\"landcolor\":\"#E5ECF6\",\"subunitcolor\":\"white\",\"showland\":true,\"showlakes\":true,\"lakecolor\":\"white\"},\"title\":{\"x\":0.05},\"mapbox\":{\"style\":\"light\"}}},\"title\":{\"text\":\"Rank Heatmap for Top 20 Models Rank Heatmap\"},\"xaxis\":{\"title\":{\"text\":\"Category\"}},\"yaxis\":{\"title\":{\"text\":\"Model\"}},\"height\":640},                        {\"responsive\": true}                    ).then(function(){\n",
              "                            \n",
              "var gd = document.getElementById('db05e587-7dd4-4d1b-bd40-a2af36a5c7b1');\n",
              "var x = new MutationObserver(function (mutations, observer) {{\n",
              "        var display = window.getComputedStyle(gd).display;\n",
              "        if (!display || display === 'none') {{\n",
              "            console.log([gd, 'removed!']);\n",
              "            Plotly.purge(gd);\n",
              "            observer.disconnect();\n",
              "        }}\n",
              "}});\n",
              "\n",
              "// Listen for the removal of the full notebook cells\n",
              "var notebookContainer = gd.closest('#notebook-container');\n",
              "if (notebookContainer) {{\n",
              "    x.observe(notebookContainer, {childList: true});\n",
              "}}\n",
              "\n",
              "// Listen for the clearing of the current output cell\n",
              "var outputEl = gd.closest('.output');\n",
              "if (outputEl) {{\n",
              "    x.observe(outputEl, {childList: true});\n",
              "}}\n",
              "\n",
              "                        })                };            </script>        </div>\n",
              "</body>\n",
              "</html>"
            ],
            "image/png": "[encoded data removed]"
          },
          "metadata": {}
        }
      ],
      "source": [
        "# Example usage (for the current case: overall rank only)\n",
        "category_names = ['Overall']\n",
        "fig = plot_rank_heatmap(results_df)\n",
        "fig.show()"
      ]
    },
    {
      "cell_type": "markdown",
      "id": "07f5100f",
      "metadata": {
        "id": "07f5100f"
      },
      "source": [
        "> **NOTICE BEFORE YOUR PROGRESS**\n",
        "> - If you accidentally modify `selected_battles_no_ties` in a way that breaks later parts, double check and **reset it** using the initial block of code you have placed.\n"
      ]
    },
    {
      "cell_type": "markdown",
      "id": "bffdbd19",
      "metadata": {
        "id": "bffdbd19"
      },
      "source": [
        "# **Question 7: Ranking Influences**"
      ]
    },
    {
      "cell_type": "markdown",
      "id": "046aa0d2",
      "metadata": {
        "id": "046aa0d2"
      },
      "source": [
        "One thing that has been known to affect user preference is response length: people (and LLM's) tend to prefer longer answers. A recurring observation in human grading and UX is that **longer responses are often preferred**. For example, analyses from the SAT essay reported that **essay length strongly correlated with higher scores—even when errors were present** ([New York Times, 2005](https://www.nytimes.com/2005/05/04/education/sat-essay-test-rewards-length-and-ignores-errors.html)).\n",
        "\n",
        "In the context of LLM evaluations, this motivates a core question: **does response length systematically tilt battle outcomes and model rankings?**\n",
        "\n",
        "\n",
        "Let's investigate whether length plays a role in model rankings. First let's do some quick analysis on the response length per model"
      ]
    },
    {
      "cell_type": "markdown",
      "id": "7244f791",
      "metadata": {
        "deletable": false,
        "editable": false,
        "id": "7244f791"
      },
      "source": [
        "## **Question 7a**"
      ]
    },
    {
      "cell_type": "markdown",
      "id": "f14fb6e0",
      "metadata": {
        "deletable": false,
        "editable": false,
        "id": "f14fb6e0"
      },
      "source": [
        "We want to analyze whether **response length (in tokens)** is related to model rankings.\n",
        "\n",
        "In `per_model_battles` (which is what you would implement in Q7b), the **`conversation`** column contains, for each row, a *single exchange* between a user and a model (one battle). It is represented as a **list of message dictionaries**. These dictionaries are representing a full exchange between a user and a model in a single battle. The number of turns is `len(row['conversation']) // 2`.\n",
        "\n",
        "**Each message dictionary contains (as provided):**\n",
        "1. `\"content\"` – the text of the message  \n",
        "3. `\"role\"` – either `\"user\"` or `\"assistant\"`. In our question we will be focusing on `\"assistant\"`\n",
        "\n",
        "---\n",
        "\n",
        "#### What exactly is `conv`?\n",
        "\n",
        "For this question, assume your function will receive **`conv`**, which is a **dictionary** with a single key `\"conversation\"` mapping to a **list of message dictionaries**:\n",
        "\n",
        "```python\n",
        "conv_example = {\n",
        "    \"conversation\": [\n",
        "        {\"role\": \"user\", \"content\": \"How do I sum a list in Python?\"},\n",
        "        {\"role\": \"assistant\", \"content\": \"Use the built-in function: sum(your_list).\"}\n",
        "    ]\n",
        "}\n",
        "# conv_example[\"conversation\"]  -> list of message dicts, ordered by turns\n",
        "# Each dict has:\n",
        "#   - \"role\": \"user\" or \"assistant\"\n",
        "#   - \"content\": str (message text)\n"
      ]
    },
    {
      "cell_type": "markdown",
      "id": "7dab15a8",
      "metadata": {
        "deletable": false,
        "editable": false,
        "id": "7dab15a8"
      },
      "source": [
        "**Task:**\n",
        "Implement a function `calculate_response_length` that, given a conversation `conv`, returns the total number of GPT-2 tokens in the concatenation of all **assistant messages** in that conversation.\n",
        "\n",
        "**Requirements:**\n",
        "\n",
        "1. Use the tiktoken library with the \"gpt2\" encoding. Import tiktoken.\n",
        "\n",
        "2. Concatenate only the assistant messages and count tokens.\n",
        "\n",
        "3. Call `enc.encode(..., disallowed_special=())` to allow all special tokens (avoids ValueError, e.g., for <|endoftext|>).\n",
        "\n",
        "4. Concatenate all assistant role messages separated by two newlines (\"\\n\\n\") before counting tokens (join each them by this)."
      ]
    },
    {
      "cell_type": "code",
      "execution_count": null,
      "id": "17843dd5",
      "metadata": {
        "id": "17843dd5",
        "tags": [
          "otter_answer_cell"
        ]
      },
      "outputs": [],
      "source": [
        "import tiktoken\n",
        "def calculate_response_length(conv):\n",
        "    enc = tiktoken.encoding_for_model(\"gpt2\")\n",
        "    comment = \"\"\n",
        "    for conversation in conv[\"conversation\"]:\n",
        "      if conversation[\"role\"] == \"assistant\":\n",
        "        comment = comment + \" \" + conversation[\"content\"]\n",
        "    return len(enc.encode(comment, disallowed_special = ()))"
      ]
    },
    {
      "cell_type": "code",
      "execution_count": null,
      "id": "5200d334",
      "metadata": {
        "deletable": false,
        "editable": false,
        "id": "5200d334",
        "colab": {
          "base_uri": "https://localhost:8080/",
          "height": 47
        },
        "outputId": "b1c0cd85-5efe-4b9b-f62d-45ffb51f36c4"
      },
      "outputs": [
        {
          "output_type": "execute_result",
          "data": {
            "text/plain": [
              "q7a results: All test cases passed!"
            ],
            "text/html": [
              "<p><strong><pre style='display: inline;'>q7a</pre></strong> passed! 🎉</p>"
            ]
          },
          "metadata": {},
          "execution_count": 19
        }
      ],
      "source": [
        "grader.check(\"q7a\")"
      ]
    },
    {
      "cell_type": "markdown",
      "id": "62cc333e",
      "metadata": {
        "deletable": false,
        "editable": false,
        "id": "62cc333e"
      },
      "source": [
        "## **Question 7b**"
      ]
    },
    {
      "cell_type": "markdown",
      "id": "124bd70f",
      "metadata": {
        "deletable": false,
        "editable": false,
        "id": "124bd70f"
      },
      "source": [
        "In the previous question (Q7a), you wrote a function to compute the **token length** of a model's reply from a conversation. We’ll now **reshape** the battle-level data so that each row corresponds to a **single model’s response in a single battle** (instead of one row per battle).\n",
        "\n",
        "In the `selected_battles_no_ties` DataFrame, each row represents a battle between two models, with:\n",
        "\n",
        "*   conversation_a = the conversation for model_a in that battle\n",
        "*   conversation_b = the conversation for model_b in that battle\n",
        "\n",
        "\n",
        "To analyze response length per model, we would want a table where each row corresponds to a single model's response in a single battle (rather than one row per battle).\n",
        "\n",
        "Specifically, our goal is to turn each battle row into **two rows** (tidy format):\n",
        "1. one for `model_a` using `conversation_a`\n",
        "2. one for `model_b` using `conversation_b`\n",
        "\n",
        "**Task:**\n",
        "Using the function defined in Question 7a, create a DataFrame named `per_model_battles ` with columns:\n",
        "\n",
        "1. **`conversation`** — the list of message dicts for that model’s side of the battle  \n",
        "2. **`model`** — the model name  \n",
        "3. **`response_length`** — integer token count of all assistant messages concatenated (computed via **`calculate_response_length`** from Q7a)\n",
        "> **Hint:** `pd.concat` might be handy for stacking the A-side and B-side tables into one.  \n",
        "> Docs: https://pandas.pydata.org/docs/reference/api/pandas.concat.html"
      ]
    },
    {
      "cell_type": "code",
      "execution_count": null,
      "id": "22195627",
      "metadata": {
        "id": "22195627",
        "tags": [
          "otter_answer_cell"
        ],
        "colab": {
          "base_uri": "https://localhost:8080/",
          "height": 206
        },
        "outputId": "36694b7a-9448-4bfc-fd60-3a9dc1d016bd"
      },
      "outputs": [
        {
          "output_type": "execute_result",
          "data": {
            "text/plain": [
              "                                        conversation                   model  \\\n",
              "0  [{'content': 'Is there any Artificial Superint...           gemma-2-9b-it   \n",
              "1  [{'content': '有没有一些故事充斥着相互的矛盾和冲突，每个人都做出了自己认为正确...       gpt-4o-2024-08-06   \n",
              "2  [{'content': 'チャットアプリのフロントエンドとバックエンドをそれぞれ作成して。...       gpt-4o-2024-05-13   \n",
              "3  [{'content': '其味无穷无', 'num_tokens': 7, 'role':...          gemma-2-27b-it   \n",
              "4  [{'content': '1번글\n",
              "옷은 단순히 물리적 보호를 넘어서, 우리의 정체성,...  claude-3-opus-20240229   \n",
              "\n",
              "   response_length  \n",
              "0              362  \n",
              "1             1863  \n",
              "2             1495  \n",
              "3              172  \n",
              "4             2595  "
            ],
            "text/html": [
              "\n",
              "  <div id=\"df-f56a6dbb-d7c1-4851-a988-df6da3b548db\" class=\"colab-df-container\">\n",
              "    <div>\n",
              "<style scoped>\n",
              "    .dataframe tbody tr th:only-of-type {\n",
              "        vertical-align: middle;\n",
              "    }\n",
              "\n",
              "    .dataframe tbody tr th {\n",
              "        vertical-align: top;\n",
              "    }\n",
              "\n",
              "    .dataframe thead th {\n",
              "        text-align: right;\n",
              "    }\n",
              "</style>\n",
              "<table border=\"1\" class=\"dataframe\">\n",
              "  <thead>\n",
              "    <tr style=\"text-align: right;\">\n",
              "      <th></th>\n",
              "      <th>conversation</th>\n",
              "      <th>model</th>\n",
              "      <th>response_length</th>\n",
              "    </tr>\n",
              "  </thead>\n",
              "  <tbody>\n",
              "    <tr>\n",
              "      <th>0</th>\n",
              "      <td>[{'content': 'Is there any Artificial Superint...</td>\n",
              "      <td>gemma-2-9b-it</td>\n",
              "      <td>362</td>\n",
              "    </tr>\n",
              "    <tr>\n",
              "      <th>1</th>\n",
              "      <td>[{'content': '有没有一些故事充斥着相互的矛盾和冲突，每个人都做出了自己认为正确...</td>\n",
              "      <td>gpt-4o-2024-08-06</td>\n",
              "      <td>1863</td>\n",
              "    </tr>\n",
              "    <tr>\n",
              "      <th>2</th>\n",
              "      <td>[{'content': 'チャットアプリのフロントエンドとバックエンドをそれぞれ作成して。...</td>\n",
              "      <td>gpt-4o-2024-05-13</td>\n",
              "      <td>1495</td>\n",
              "    </tr>\n",
              "    <tr>\n",
              "      <th>3</th>\n",
              "      <td>[{'content': '其味无穷无', 'num_tokens': 7, 'role':...</td>\n",
              "      <td>gemma-2-27b-it</td>\n",
              "      <td>172</td>\n",
              "    </tr>\n",
              "    <tr>\n",
              "      <th>4</th>\n",
              "      <td>[{'content': '1번글\n",
              "옷은 단순히 물리적 보호를 넘어서, 우리의 정체성,...</td>\n",
              "      <td>claude-3-opus-20240229</td>\n",
              "      <td>2595</td>\n",
              "    </tr>\n",
              "  </tbody>\n",
              "</table>\n",
              "</div>\n",
              "    <div class=\"colab-df-buttons\">\n",
              "\n",
              "  <div class=\"colab-df-container\">\n",
              "    <button class=\"colab-df-convert\" onclick=\"convertToInteractive('df-f56a6dbb-d7c1-4851-a988-df6da3b548db')\"\n",
              "            title=\"Convert this dataframe to an interactive table.\"\n",
              "            style=\"display:none;\">\n",
              "\n",
              "  <svg xmlns=\"http://www.w3.org/2000/svg\" height=\"24px\" viewBox=\"0 -960 960 960\">\n",
              "    <path d=\"M120-120v-720h720v720H120Zm60-500h600v-160H180v160Zm220 220h160v-160H400v160Zm0 220h160v-160H400v160ZM180-400h160v-160H180v160Zm440 0h160v-160H620v160ZM180-180h160v-160H180v160Zm440 0h160v-160H620v160Z\"/>\n",
              "  </svg>\n",
              "    </button>\n",
              "\n",
              "  <style>\n",
              "    .colab-df-container {\n",
              "      display:flex;\n",
              "      gap: 12px;\n",
              "    }\n",
              "\n",
              "    .colab-df-convert {\n",
              "      background-color: #E8F0FE;\n",
              "      border: none;\n",
              "      border-radius: 50%;\n",
              "      cursor: pointer;\n",
              "      display: none;\n",
              "      fill: #1967D2;\n",
              "      height: 32px;\n",
              "      padding: 0 0 0 0;\n",
              "      width: 32px;\n",
              "    }\n",
              "\n",
              "    .colab-df-convert:hover {\n",
              "      background-color: #E2EBFA;\n",
              "      box-shadow: 0px 1px 2px rgba(60, 64, 67, 0.3), 0px 1px 3px 1px rgba(60, 64, 67, 0.15);\n",
              "      fill: #174EA6;\n",
              "    }\n",
              "\n",
              "    .colab-df-buttons div {\n",
              "      margin-bottom: 4px;\n",
              "    }\n",
              "\n",
              "    [theme=dark] .colab-df-convert {\n",
              "      background-color: #3B4455;\n",
              "      fill: #D2E3FC;\n",
              "    }\n",
              "\n",
              "    [theme=dark] .colab-df-convert:hover {\n",
              "      background-color: #434B5C;\n",
              "      box-shadow: 0px 1px 3px 1px rgba(0, 0, 0, 0.15);\n",
              "      filter: drop-shadow(0px 1px 2px rgba(0, 0, 0, 0.3));\n",
              "      fill: #FFFFFF;\n",
              "    }\n",
              "  </style>\n",
              "\n",
              "    <script>\n",
              "      const buttonEl =\n",
              "        document.querySelector('#df-f56a6dbb-d7c1-4851-a988-df6da3b548db button.colab-df-convert');\n",
              "      buttonEl.style.display =\n",
              "        google.colab.kernel.accessAllowed ? 'block' : 'none';\n",
              "\n",
              "      async function convertToInteractive(key) {\n",
              "        const element = document.querySelector('#df-f56a6dbb-d7c1-4851-a988-df6da3b548db');\n",
              "        const dataTable =\n",
              "          await google.colab.kernel.invokeFunction('convertToInteractive',\n",
              "                                                    [key], {});\n",
              "        if (!dataTable) return;\n",
              "\n",
              "        const docLinkHtml = 'Like what you see? Visit the ' +\n",
              "          '<a target=\"_blank\" href=https://colab.research.google.com/notebooks/data_table.ipynb>data table notebook</a>'\n",
              "          + ' to learn more about interactive tables.';\n",
              "        element.innerHTML = '';\n",
              "        dataTable['output_type'] = 'display_data';\n",
              "        await google.colab.output.renderOutput(dataTable, element);\n",
              "        const docLink = document.createElement('div');\n",
              "        docLink.innerHTML = docLinkHtml;\n",
              "        element.appendChild(docLink);\n",
              "      }\n",
              "    </script>\n",
              "  </div>\n",
              "\n",
              "\n",
              "    <div id=\"df-f00f9828-dea5-4287-b863-4f418cd515ac\">\n",
              "      <button class=\"colab-df-quickchart\" onclick=\"quickchart('df-f00f9828-dea5-4287-b863-4f418cd515ac')\"\n",
              "                title=\"Suggest charts\"\n",
              "                style=\"display:none;\">\n",
              "\n",
              "<svg xmlns=\"http://www.w3.org/2000/svg\" height=\"24px\"viewBox=\"0 0 24 24\"\n",
              "     width=\"24px\">\n",
              "    <g>\n",
              "        <path d=\"M19 3H5c-1.1 0-2 .9-2 2v14c0 1.1.9 2 2 2h14c1.1 0 2-.9 2-2V5c0-1.1-.9-2-2-2zM9 17H7v-7h2v7zm4 0h-2V7h2v10zm4 0h-2v-4h2v4z\"/>\n",
              "    </g>\n",
              "</svg>\n",
              "      </button>\n",
              "\n",
              "<style>\n",
              "  .colab-df-quickchart {\n",
              "      --bg-color: #E8F0FE;\n",
              "      --fill-color: #1967D2;\n",
              "      --hover-bg-color: #E2EBFA;\n",
              "      --hover-fill-color: #174EA6;\n",
              "      --disabled-fill-color: #AAA;\n",
              "      --disabled-bg-color: #DDD;\n",
              "  }\n",
              "\n",
              "  [theme=dark] .colab-df-quickchart {\n",
              "      --bg-color: #3B4455;\n",
              "      --fill-color: #D2E3FC;\n",
              "      --hover-bg-color: #434B5C;\n",
              "      --hover-fill-color: #FFFFFF;\n",
              "      --disabled-bg-color: #3B4455;\n",
              "      --disabled-fill-color: #666;\n",
              "  }\n",
              "\n",
              "  .colab-df-quickchart {\n",
              "    background-color: var(--bg-color);\n",
              "    border: none;\n",
              "    border-radius: 50%;\n",
              "    cursor: pointer;\n",
              "    display: none;\n",
              "    fill: var(--fill-color);\n",
              "    height: 32px;\n",
              "    padding: 0;\n",
              "    width: 32px;\n",
              "  }\n",
              "\n",
              "  .colab-df-quickchart:hover {\n",
              "    background-color: var(--hover-bg-color);\n",
              "    box-shadow: 0 1px 2px rgba(60, 64, 67, 0.3), 0 1px 3px 1px rgba(60, 64, 67, 0.15);\n",
              "    fill: var(--button-hover-fill-color);\n",
              "  }\n",
              "\n",
              "  .colab-df-quickchart-complete:disabled,\n",
              "  .colab-df-quickchart-complete:disabled:hover {\n",
              "    background-color: var(--disabled-bg-color);\n",
              "    fill: var(--disabled-fill-color);\n",
              "    box-shadow: none;\n",
              "  }\n",
              "\n",
              "  .colab-df-spinner {\n",
              "    border: 2px solid var(--fill-color);\n",
              "    border-color: transparent;\n",
              "    border-bottom-color: var(--fill-color);\n",
              "    animation:\n",
              "      spin 1s steps(1) infinite;\n",
              "  }\n",
              "\n",
              "  @keyframes spin {\n",
              "    0% {\n",
              "      border-color: transparent;\n",
              "      border-bottom-color: var(--fill-color);\n",
              "      border-left-color: var(--fill-color);\n",
              "    }\n",
              "    20% {\n",
              "      border-color: transparent;\n",
              "      border-left-color: var(--fill-color);\n",
              "      border-top-color: var(--fill-color);\n",
              "    }\n",
              "    30% {\n",
              "      border-color: transparent;\n",
              "      border-left-color: var(--fill-color);\n",
              "      border-top-color: var(--fill-color);\n",
              "      border-right-color: var(--fill-color);\n",
              "    }\n",
              "    40% {\n",
              "      border-color: transparent;\n",
              "      border-right-color: var(--fill-color);\n",
              "      border-top-color: var(--fill-color);\n",
              "    }\n",
              "    60% {\n",
              "      border-color: transparent;\n",
              "      border-right-color: var(--fill-color);\n",
              "    }\n",
              "    80% {\n",
              "      border-color: transparent;\n",
              "      border-right-color: var(--fill-color);\n",
              "      border-bottom-color: var(--fill-color);\n",
              "    }\n",
              "    90% {\n",
              "      border-color: transparent;\n",
              "      border-bottom-color: var(--fill-color);\n",
              "    }\n",
              "  }\n",
              "</style>\n",
              "\n",
              "      <script>\n",
              "        async function quickchart(key) {\n",
              "          const quickchartButtonEl =\n",
              "            document.querySelector('#' + key + ' button');\n",
              "          quickchartButtonEl.disabled = true;  // To prevent multiple clicks.\n",
              "          quickchartButtonEl.classList.add('colab-df-spinner');\n",
              "          try {\n",
              "            const charts = await google.colab.kernel.invokeFunction(\n",
              "                'suggestCharts', [key], {});\n",
              "          } catch (error) {\n",
              "            console.error('Error during call to suggestCharts:', error);\n",
              "          }\n",
              "          quickchartButtonEl.classList.remove('colab-df-spinner');\n",
              "          quickchartButtonEl.classList.add('colab-df-quickchart-complete');\n",
              "        }\n",
              "        (() => {\n",
              "          let quickchartButtonEl =\n",
              "            document.querySelector('#df-f00f9828-dea5-4287-b863-4f418cd515ac button');\n",
              "          quickchartButtonEl.style.display =\n",
              "            google.colab.kernel.accessAllowed ? 'block' : 'none';\n",
              "        })();\n",
              "      </script>\n",
              "    </div>\n",
              "\n",
              "    </div>\n",
              "  </div>\n"
            ],
            "application/vnd.google.colaboratory.intrinsic+json": {
              "type": "dataframe",
              "variable_name": "per_model_battles",
              "summary": "{\n  \"name\": \"per_model_battles\",\n  \"rows\": 51066,\n  \"fields\": [\n    {\n      \"column\": \"conversation\",\n      \"properties\": {\n        \"dtype\": \"object\",\n        \"semantic_type\": \"\",\n        \"description\": \"\"\n      }\n    },\n    {\n      \"column\": \"model\",\n      \"properties\": {\n        \"dtype\": \"category\",\n        \"num_unique_values\": 20,\n        \"samples\": [\n          \"gemma-2-9b-it\",\n          \"llama-3.1-405b-instruct\",\n          \"chatgpt-4o-latest\"\n        ],\n        \"semantic_type\": \"\",\n        \"description\": \"\"\n      }\n    },\n    {\n      \"column\": \"response_length\",\n      \"properties\": {\n        \"dtype\": \"number\",\n        \"std\": 2487,\n        \"min\": 1,\n        \"max\": 173865,\n        \"num_unique_values\": 5430,\n        \"samples\": [\n          8500,\n          5043,\n          7492\n        ],\n        \"semantic_type\": \"\",\n        \"description\": \"\"\n      }\n    }\n  ]\n}"
            }
          },
          "metadata": {},
          "execution_count": 20
        }
      ],
      "source": [
        "#TODO:\n",
        "battles_a = pd.DataFrame({\"conversation\" : list(selected_battles_no_ties.conversation_a),\n",
        "                          \"model\" : list(selected_battles_no_ties.model_a)})\n",
        "battles_b = pd.DataFrame({\"conversation\" : list(selected_battles_no_ties.conversation_b),\n",
        "                          \"model\" : list(selected_battles_no_ties.model_b)})\n",
        "per_model_battles = pd.concat([battles_a, battles_b], ignore_index = True)\n",
        "per_model_battles[\"response_length\"] = [calculate_response_length({\"conversation\" : list(conv)}) for conv in list(per_model_battles.conversation)]\n",
        "per_model_battles.head()"
      ]
    },
    {
      "cell_type": "code",
      "execution_count": null,
      "id": "bbd9f521",
      "metadata": {
        "deletable": false,
        "editable": false,
        "id": "bbd9f521",
        "colab": {
          "base_uri": "https://localhost:8080/",
          "height": 47
        },
        "outputId": "500dfcd4-51c3-47c4-9348-bd3043040a53"
      },
      "outputs": [
        {
          "output_type": "execute_result",
          "data": {
            "text/plain": [
              "q7b results: All test cases passed!"
            ],
            "text/html": [
              "<p><strong><pre style='display: inline;'>q7b</pre></strong> passed! 🚀</p>"
            ]
          },
          "metadata": {},
          "execution_count": 21
        }
      ],
      "source": [
        "grader.check(\"q7b\")"
      ]
    },
    {
      "cell_type": "code",
      "execution_count": null,
      "id": "46ef5573",
      "metadata": {
        "id": "46ef5573",
        "colab": {
          "base_uri": "https://localhost:8080/"
        },
        "outputId": "e64159ef-a912-4e33-a995-e2fd4ed87665"
      },
      "outputs": [
        {
          "output_type": "stream",
          "name": "stdout",
          "text": [
            "[{'content': 'Is there any Artificial Superintelligence?', 'num_tokens': 7, 'role': 'user'}\n",
            " {'content': \"As a large language model, I am not able to provide an opinion or belief on whether or not artificial superintelligence exists. The concept of artificial superintelligence is a topic of much debate and speculation.\\n\\nHere's what we know:\\n\\n* **Current AI:** Today's AI, including myself, is very good at specific tasks, like generating text, translating languages, and playing games. However, we lack the general intelligence and common sense of humans.\\n* **Superintelligence Definition:** Artificial superintelligence is generally defined as an AI that surpasses human intelligence in all aspects. This includes things like problem-solving, creativity, and learning.\\n* **No Consensus:** There is no scientific consensus on whether or not artificial superintelligence is possible or even desirable. Some experts believe it is inevitable, while others believe it is highly unlikely or even dangerous.\\n\\nThe development of artificial superintelligence is a complex and multifaceted issue with profound implications for society. It is important to continue to have open and honest discussions about the potential benefits and risks of this technology.\", 'num_tokens': 208, 'role': 'assistant'}\n",
            " {'content': 'What is your knowledge cutoff date?', 'num_tokens': 7, 'role': 'user'}\n",
            " {'content': \"I can access pretty up-to-date information, which means I don't really have a knowledge cut-off date. However, keep in mind:\\n\\n* **I am not constantly updating:** I don't have real-time information like a search engine. My knowledge is based on the massive dataset I was trained on.\\n\\n* **Training data has a limit:** That training dataset does have a point in time when it was last updated. While it's extensive, there will always be newer information I'm not aware of.\\n\\nSo, while I strive to be as current as possible, it's best to double-check anything time-sensitive with a reliable source.\", 'num_tokens': 127, 'role': 'assistant'}]\n"
          ]
        }
      ],
      "source": [
        "# Let's take a look at the structure\n",
        "print(per_model_battles['conversation'].iloc[0])"
      ]
    },
    {
      "cell_type": "markdown",
      "id": "c802b7fa",
      "metadata": {
        "id": "c802b7fa"
      },
      "source": [
        "Let's plot the response length for each model ordered by their rank and fit a trendline to see if there is any relation between rank and length."
      ]
    },
    {
      "cell_type": "code",
      "execution_count": null,
      "id": "de74336c",
      "metadata": {
        "id": "de74336c",
        "colab": {
          "base_uri": "https://localhost:8080/",
          "height": 542
        },
        "outputId": "df27c6f2-57d0-4011-c14b-45030685c546"
      },
      "outputs": [
        {
          "output_type": "display_data",
          "data": {
            "text/html": [
              "<html>\n",
              "<head><meta charset=\"utf-8\" /></head>\n",
              "<body>\n",
              "    <div>            <script src=\"https://cdnjs.cloudflare.com/ajax/libs/mathjax/2.7.5/MathJax.js?config=TeX-AMS-MML_SVG\"></script><script type=\"text/javascript\">if (window.MathJax && window.MathJax.Hub && window.MathJax.Hub.Config) {window.MathJax.Hub.Config({SVG: {font: \"STIX-Web\"}});}</script>                <script type=\"text/javascript\">window.PlotlyConfig = {MathJaxConfig: 'local'};</script>\n",
              "        <script charset=\"utf-8\" src=\"https://cdn.plot.ly/plotly-3.1.1.min.js\" integrity=\"sha256-HUEFyfiTnZJxCxur99FjbKYTvKSzwDaD3/x5TqHpFu4=\" crossorigin=\"anonymous\"></script>                <div id=\"1c0b9e10-9fa0-45b4-afd7-17d2ac04e4d5\" class=\"plotly-graph-div\" style=\"height:525px; width:100%;\"></div>            <script type=\"text/javascript\">                window.PLOTLYENV=window.PLOTLYENV || {};                                if (document.getElementById(\"1c0b9e10-9fa0-45b4-afd7-17d2ac04e4d5\")) {                    Plotly.newPlot(                        \"1c0b9e10-9fa0-45b4-afd7-17d2ac04e4d5\",                        [{\"mode\":\"lines+markers\",\"name\":\"Avg Response Length\",\"x\":[\"chatgpt-4o-latest\",\"gemini-1.5-pro-exp-0801\",\"gpt-4o-2024-05-13\",\"gpt-4o-mini-2024-07-18\",\"gpt-4o-2024-08-06\",\"llama-3.1-405b-instruct\",\"claude-3-5-sonnet-20240620\",\"gemini-1.5-pro-api-0514\",\"llama-3.1-70b-instruct\",\"gpt-4-turbo-2024-04-09\",\"claude-3-opus-20240229\",\"gemini-1.5-flash-api-0514\",\"gemma-2-27b-it\",\"deepseek-v2-api-0628\",\"llama-3-70b-instruct\",\"gemma-2-9b-it\",\"qwen2-72b-instruct\",\"claude-3-haiku-20240307\",\"llama-3.1-8b-instruct\",\"llama-3-8b-instruct\"],\"y\":{\"dtype\":\"f8\",\"bdata\":\"70oRPyI5l0A+H8SyfoKUQJGvIXusAJZAuBjSeUv6l0CQnOZr9cSNQBySFT8xw5BAHUv6EqnSkEAyFphDrOuSQBwkUYjQwpNAKIhG19OnkUDmCGxEGmiPQMPtO4RNpZRAfyTs6KZdjUCy7YBSNeuQQOcymsto8odAmdQYclhmjUC7ZCm3WU+OQNNEWZooQ4tA\\u002fVHUlne2lEAAAAAAABaHQA==\"},\"type\":\"scatter\"},{\"line\":{\"color\":\"red\",\"dash\":\"dash\"},\"mode\":\"lines\",\"name\":\"Trendline\",\"x\":[\"chatgpt-4o-latest\",\"gemini-1.5-pro-exp-0801\",\"gpt-4o-2024-05-13\",\"gpt-4o-mini-2024-07-18\",\"gpt-4o-2024-08-06\",\"llama-3.1-405b-instruct\",\"claude-3-5-sonnet-20240620\",\"gemini-1.5-pro-api-0514\",\"llama-3.1-70b-instruct\",\"gpt-4-turbo-2024-04-09\",\"claude-3-opus-20240229\",\"gemini-1.5-flash-api-0514\",\"gemma-2-27b-it\",\"deepseek-v2-api-0628\",\"llama-3-70b-instruct\",\"gemma-2-9b-it\",\"qwen2-72b-instruct\",\"claude-3-haiku-20240307\",\"llama-3.1-8b-instruct\",\"llama-3-8b-instruct\"],\"y\":{\"dtype\":\"f8\",\"bdata\":\"6G4LaP0\\u002flUAo\\u002faiEMNuUQGeLRqFjdpRApxnkvZYRlEDmp4HayayTQCY2H\\u002ff8R5NAZcS8EzDjkkCkUlowY36SQOTg90yWGZJAI2+Vacm0kUBj\\u002fTKG\\u002fE+RQKKL0KIv65BA4hluv2KGkEAhqAvclSGQQMBsUvGReY9AQImNKvivjkC+pchjXuaNQD3CA53EHI1AvN4+1ipTjEA7+3kPkYmLQA==\"},\"type\":\"scatter\"}],                        {\"template\":{\"data\":{\"histogram2dcontour\":[{\"type\":\"histogram2dcontour\",\"colorbar\":{\"outlinewidth\":0,\"ticks\":\"\"},\"colorscale\":[[0.0,\"#0d0887\"],[0.1111111111111111,\"#46039f\"],[0.2222222222222222,\"#7201a8\"],[0.3333333333333333,\"#9c179e\"],[0.4444444444444444,\"#bd3786\"],[0.5555555555555556,\"#d8576b\"],[0.6666666666666666,\"#ed7953\"],[0.7777777777777778,\"#fb9f3a\"],[0.8888888888888888,\"#fdca26\"],[1.0,\"#f0f921\"]]}],\"choropleth\":[{\"type\":\"choropleth\",\"colorbar\":{\"outlinewidth\":0,\"ticks\":\"\"}}],\"histogram2d\":[{\"type\":\"histogram2d\",\"colorbar\":{\"outlinewidth\":0,\"ticks\":\"\"},\"colorscale\":[[0.0,\"#0d0887\"],[0.1111111111111111,\"#46039f\"],[0.2222222222222222,\"#7201a8\"],[0.3333333333333333,\"#9c179e\"],[0.4444444444444444,\"#bd3786\"],[0.5555555555555556,\"#d8576b\"],[0.6666666666666666,\"#ed7953\"],[0.7777777777777778,\"#fb9f3a\"],[0.8888888888888888,\"#fdca26\"],[1.0,\"#f0f921\"]]}],\"heatmap\":[{\"type\":\"heatmap\",\"colorbar\":{\"outlinewidth\":0,\"ticks\":\"\"},\"colorscale\":[[0.0,\"#0d0887\"],[0.1111111111111111,\"#46039f\"],[0.2222222222222222,\"#7201a8\"],[0.3333333333333333,\"#9c179e\"],[0.4444444444444444,\"#bd3786\"],[0.5555555555555556,\"#d8576b\"],[0.6666666666666666,\"#ed7953\"],[0.7777777777777778,\"#fb9f3a\"],[0.8888888888888888,\"#fdca26\"],[1.0,\"#f0f921\"]]}],\"contourcarpet\":[{\"type\":\"contourcarpet\",\"colorbar\":{\"outlinewidth\":0,\"ticks\":\"\"}}],\"contour\":[{\"type\":\"contour\",\"colorbar\":{\"outlinewidth\":0,\"ticks\":\"\"},\"colorscale\":[[0.0,\"#0d0887\"],[0.1111111111111111,\"#46039f\"],[0.2222222222222222,\"#7201a8\"],[0.3333333333333333,\"#9c179e\"],[0.4444444444444444,\"#bd3786\"],[0.5555555555555556,\"#d8576b\"],[0.6666666666666666,\"#ed7953\"],[0.7777777777777778,\"#fb9f3a\"],[0.8888888888888888,\"#fdca26\"],[1.0,\"#f0f921\"]]}],\"surface\":[{\"type\":\"surface\",\"colorbar\":{\"outlinewidth\":0,\"ticks\":\"\"},\"colorscale\":[[0.0,\"#0d0887\"],[0.1111111111111111,\"#46039f\"],[0.2222222222222222,\"#7201a8\"],[0.3333333333333333,\"#9c179e\"],[0.4444444444444444,\"#bd3786\"],[0.5555555555555556,\"#d8576b\"],[0.6666666666666666,\"#ed7953\"],[0.7777777777777778,\"#fb9f3a\"],[0.8888888888888888,\"#fdca26\"],[1.0,\"#f0f921\"]]}],\"mesh3d\":[{\"type\":\"mesh3d\",\"colorbar\":{\"outlinewidth\":0,\"ticks\":\"\"}}],\"scatter\":[{\"fillpattern\":{\"fillmode\":\"overlay\",\"size\":10,\"solidity\":0.2},\"type\":\"scatter\"}],\"parcoords\":[{\"type\":\"parcoords\",\"line\":{\"colorbar\":{\"outlinewidth\":0,\"ticks\":\"\"}}}],\"scatterpolargl\":[{\"type\":\"scatterpolargl\",\"marker\":{\"colorbar\":{\"outlinewidth\":0,\"ticks\":\"\"}}}],\"bar\":[{\"error_x\":{\"color\":\"#2a3f5f\"},\"error_y\":{\"color\":\"#2a3f5f\"},\"marker\":{\"line\":{\"color\":\"#E5ECF6\",\"width\":0.5},\"pattern\":{\"fillmode\":\"overlay\",\"size\":10,\"solidity\":0.2}},\"type\":\"bar\"}],\"scattergeo\":[{\"type\":\"scattergeo\",\"marker\":{\"colorbar\":{\"outlinewidth\":0,\"ticks\":\"\"}}}],\"scatterpolar\":[{\"type\":\"scatterpolar\",\"marker\":{\"colorbar\":{\"outlinewidth\":0,\"ticks\":\"\"}}}],\"histogram\":[{\"marker\":{\"pattern\":{\"fillmode\":\"overlay\",\"size\":10,\"solidity\":0.2}},\"type\":\"histogram\"}],\"scattergl\":[{\"type\":\"scattergl\",\"marker\":{\"colorbar\":{\"outlinewidth\":0,\"ticks\":\"\"}}}],\"scatter3d\":[{\"type\":\"scatter3d\",\"line\":{\"colorbar\":{\"outlinewidth\":0,\"ticks\":\"\"}},\"marker\":{\"colorbar\":{\"outlinewidth\":0,\"ticks\":\"\"}}}],\"scattermap\":[{\"type\":\"scattermap\",\"marker\":{\"colorbar\":{\"outlinewidth\":0,\"ticks\":\"\"}}}],\"scattermapbox\":[{\"type\":\"scattermapbox\",\"marker\":{\"colorbar\":{\"outlinewidth\":0,\"ticks\":\"\"}}}],\"scatterternary\":[{\"type\":\"scatterternary\",\"marker\":{\"colorbar\":{\"outlinewidth\":0,\"ticks\":\"\"}}}],\"scattercarpet\":[{\"type\":\"scattercarpet\",\"marker\":{\"colorbar\":{\"outlinewidth\":0,\"ticks\":\"\"}}}],\"carpet\":[{\"aaxis\":{\"endlinecolor\":\"#2a3f5f\",\"gridcolor\":\"white\",\"linecolor\":\"white\",\"minorgridcolor\":\"white\",\"startlinecolor\":\"#2a3f5f\"},\"baxis\":{\"endlinecolor\":\"#2a3f5f\",\"gridcolor\":\"white\",\"linecolor\":\"white\",\"minorgridcolor\":\"white\",\"startlinecolor\":\"#2a3f5f\"},\"type\":\"carpet\"}],\"table\":[{\"cells\":{\"fill\":{\"color\":\"#EBF0F8\"},\"line\":{\"color\":\"white\"}},\"header\":{\"fill\":{\"color\":\"#C8D4E3\"},\"line\":{\"color\":\"white\"}},\"type\":\"table\"}],\"barpolar\":[{\"marker\":{\"line\":{\"color\":\"#E5ECF6\",\"width\":0.5},\"pattern\":{\"fillmode\":\"overlay\",\"size\":10,\"solidity\":0.2}},\"type\":\"barpolar\"}],\"pie\":[{\"automargin\":true,\"type\":\"pie\"}]},\"layout\":{\"autotypenumbers\":\"strict\",\"colorway\":[\"#636efa\",\"#EF553B\",\"#00cc96\",\"#ab63fa\",\"#FFA15A\",\"#19d3f3\",\"#FF6692\",\"#B6E880\",\"#FF97FF\",\"#FECB52\"],\"font\":{\"color\":\"#2a3f5f\"},\"hovermode\":\"closest\",\"hoverlabel\":{\"align\":\"left\"},\"paper_bgcolor\":\"white\",\"plot_bgcolor\":\"#E5ECF6\",\"polar\":{\"bgcolor\":\"#E5ECF6\",\"angularaxis\":{\"gridcolor\":\"white\",\"linecolor\":\"white\",\"ticks\":\"\"},\"radialaxis\":{\"gridcolor\":\"white\",\"linecolor\":\"white\",\"ticks\":\"\"}},\"ternary\":{\"bgcolor\":\"#E5ECF6\",\"aaxis\":{\"gridcolor\":\"white\",\"linecolor\":\"white\",\"ticks\":\"\"},\"baxis\":{\"gridcolor\":\"white\",\"linecolor\":\"white\",\"ticks\":\"\"},\"caxis\":{\"gridcolor\":\"white\",\"linecolor\":\"white\",\"ticks\":\"\"}},\"coloraxis\":{\"colorbar\":{\"outlinewidth\":0,\"ticks\":\"\"}},\"colorscale\":{\"sequential\":[[0.0,\"#0d0887\"],[0.1111111111111111,\"#46039f\"],[0.2222222222222222,\"#7201a8\"],[0.3333333333333333,\"#9c179e\"],[0.4444444444444444,\"#bd3786\"],[0.5555555555555556,\"#d8576b\"],[0.6666666666666666,\"#ed7953\"],[0.7777777777777778,\"#fb9f3a\"],[0.8888888888888888,\"#fdca26\"],[1.0,\"#f0f921\"]],\"sequentialminus\":[[0.0,\"#0d0887\"],[0.1111111111111111,\"#46039f\"],[0.2222222222222222,\"#7201a8\"],[0.3333333333333333,\"#9c179e\"],[0.4444444444444444,\"#bd3786\"],[0.5555555555555556,\"#d8576b\"],[0.6666666666666666,\"#ed7953\"],[0.7777777777777778,\"#fb9f3a\"],[0.8888888888888888,\"#fdca26\"],[1.0,\"#f0f921\"]],\"diverging\":[[0,\"#8e0152\"],[0.1,\"#c51b7d\"],[0.2,\"#de77ae\"],[0.3,\"#f1b6da\"],[0.4,\"#fde0ef\"],[0.5,\"#f7f7f7\"],[0.6,\"#e6f5d0\"],[0.7,\"#b8e186\"],[0.8,\"#7fbc41\"],[0.9,\"#4d9221\"],[1,\"#276419\"]]},\"xaxis\":{\"gridcolor\":\"white\",\"linecolor\":\"white\",\"ticks\":\"\",\"title\":{\"standoff\":15},\"zerolinecolor\":\"white\",\"automargin\":true,\"zerolinewidth\":2},\"yaxis\":{\"gridcolor\":\"white\",\"linecolor\":\"white\",\"ticks\":\"\",\"title\":{\"standoff\":15},\"zerolinecolor\":\"white\",\"automargin\":true,\"zerolinewidth\":2},\"scene\":{\"xaxis\":{\"backgroundcolor\":\"#E5ECF6\",\"gridcolor\":\"white\",\"linecolor\":\"white\",\"showbackground\":true,\"ticks\":\"\",\"zerolinecolor\":\"white\",\"gridwidth\":2},\"yaxis\":{\"backgroundcolor\":\"#E5ECF6\",\"gridcolor\":\"white\",\"linecolor\":\"white\",\"showbackground\":true,\"ticks\":\"\",\"zerolinecolor\":\"white\",\"gridwidth\":2},\"zaxis\":{\"backgroundcolor\":\"#E5ECF6\",\"gridcolor\":\"white\",\"linecolor\":\"white\",\"showbackground\":true,\"ticks\":\"\",\"zerolinecolor\":\"white\",\"gridwidth\":2}},\"shapedefaults\":{\"line\":{\"color\":\"#2a3f5f\"}},\"annotationdefaults\":{\"arrowcolor\":\"#2a3f5f\",\"arrowhead\":0,\"arrowwidth\":1},\"geo\":{\"bgcolor\":\"white\",\"landcolor\":\"#E5ECF6\",\"subunitcolor\":\"white\",\"showland\":true,\"showlakes\":true,\"lakecolor\":\"white\"},\"title\":{\"x\":0.05},\"mapbox\":{\"style\":\"light\"}}},\"xaxis\":{\"title\":{\"text\":\"Model (sorted by performance)\"},\"tickangle\":45},\"yaxis\":{\"title\":{\"text\":\"Average Response Length\"},\"range\":[0,1611.3023922413795]},\"title\":{\"text\":\"Average Response Length of Models (with Trendline)\"}},                        {\"responsive\": true}                    ).then(function(){\n",
              "                            \n",
              "var gd = document.getElementById('1c0b9e10-9fa0-45b4-afd7-17d2ac04e4d5');\n",
              "var x = new MutationObserver(function (mutations, observer) {{\n",
              "        var display = window.getComputedStyle(gd).display;\n",
              "        if (!display || display === 'none') {{\n",
              "            console.log([gd, 'removed!']);\n",
              "            Plotly.purge(gd);\n",
              "            observer.disconnect();\n",
              "        }}\n",
              "}});\n",
              "\n",
              "// Listen for the removal of the full notebook cells\n",
              "var notebookContainer = gd.closest('#notebook-container');\n",
              "if (notebookContainer) {{\n",
              "    x.observe(notebookContainer, {childList: true});\n",
              "}}\n",
              "\n",
              "// Listen for the clearing of the current output cell\n",
              "var outputEl = gd.closest('.output');\n",
              "if (outputEl) {{\n",
              "    x.observe(outputEl, {childList: true});\n",
              "}}\n",
              "\n",
              "                        })                };            </script>        </div>\n",
              "</body>\n",
              "</html>"
            ],
            "image/png": "[encoded data removed]"
          },
          "metadata": {}
        }
      ],
      "source": [
        "model_lineup = results_df.sort_values(\"Rank\")['Model'].tolist()\n",
        "avg_lengths = per_model_battles.groupby(\"model\")[\"response_length\"].mean().reset_index()\n",
        "avg_lengths[\"model\"] = pd.Categorical(avg_lengths[\"model\"], categories=model_lineup, ordered=True)\n",
        "avg_lengths = avg_lengths.sort_values(\"model\").reset_index(drop=True)\n",
        "\n",
        "# Add a numeric rank column for trendline fitting\n",
        "avg_lengths[\"rank\"] = avg_lengths.index + 1  # 1 = best, etc.\n",
        "\n",
        "# Fit a linear trendline (polyfit) to the response length vs. rank\n",
        "z = np.polyfit(avg_lengths[\"rank\"], avg_lengths[\"response_length\"], 1)\n",
        "p = np.poly1d(z)\n",
        "trendline = p(avg_lengths[\"rank\"])\n",
        "\n",
        "fig = go.Figure()\n",
        "\n",
        "fig.add_trace(go.Scatter(\n",
        "    x=avg_lengths[\"model\"],\n",
        "    y=avg_lengths[\"response_length\"],\n",
        "    mode='lines+markers',\n",
        "    name='Avg Response Length'\n",
        "))\n",
        "\n",
        "fig.add_trace(go.Scatter(\n",
        "    x=avg_lengths[\"model\"],\n",
        "    y=trendline,\n",
        "    mode='lines',\n",
        "    name='Trendline',\n",
        "    line=dict(dash='dash', color='red')\n",
        "))\n",
        "\n",
        "fig.update_layout(\n",
        "    title=\"Average Response Length of Models (with Trendline)\",\n",
        "    xaxis_title=\"Model (sorted by performance)\",\n",
        "    yaxis_title=\"Average Response Length\",\n",
        "    xaxis_tickangle=45,\n",
        "    yaxis=dict(range=[0, max(avg_lengths[\"response_length\"].max(), trendline.max()) * 1.05])  # y-axis starts at 0\n",
        ")\n",
        "\n",
        "fig.show()"
      ]
    },
    {
      "cell_type": "markdown",
      "id": "85e795f0",
      "metadata": {
        "id": "85e795f0"
      },
      "source": [
        "# **Question 8: Style Control**"
      ]
    },
    {
      "cell_type": "markdown",
      "id": "6ac9a81d",
      "metadata": {
        "id": "6ac9a81d"
      },
      "source": [
        "It looks like there is a trend: models with shorter responses tend to be ranked lower. While not a perfect analysis, if it could be true that people are preferring models which generate longer responses regardless of their other capabilities, then it would be useful to create a leaderboard which is *length agnostic*. Meaning, creating leaderboard model scores that control for certain stylistic properties of responses.\n",
        "\n",
        "So how can we control for these stylistic factors in our model rankings?\n",
        "\n",
        "In this question, you will implement a style feature ranking pipeline, starting with length as the only style feature.\n"
      ]
    },
    {
      "cell_type": "markdown",
      "id": "e11fd49f",
      "metadata": {
        "id": "e11fd49f"
      },
      "source": [
        "1. Each row in `selected_battles_no_ties` represents a battle between model_a and model_b.\n",
        "\n",
        "2. Each battle contains `conv_metadata` with pre-computed style metrics, such as bold text counts, header counts, list counts, and token counts for each side.\n",
        "\n",
        "3. In the earlier question, each battle was converted to pairwise feature, where 1 denoted the model it belongs to, and -1 for the model that it was battling against. Now, our goal is to build on that data, including both the model identity indicators and the chosen style features.\n"
      ]
    },
    {
      "cell_type": "markdown",
      "id": "b179c749",
      "metadata": {
        "deletable": false,
        "editable": false,
        "id": "b179c749"
      },
      "source": [
        "## **Question 8a**"
      ]
    },
    {
      "cell_type": "markdown",
      "id": "4cfc3f8e",
      "metadata": {
        "deletable": false,
        "editable": false,
        "id": "4cfc3f8e"
      },
      "source": [
        "We want to add style features other than length that will give us style feature aware ranks.\n",
        "\n",
        "\n",
        "**Task:**\n",
        "Implement the function `add_style_features` that reads stylistic metrics from `conv_metadata` between each model (model_a, model_b) for count of bold, header, list, and assistant tokens. Then, store the normalized differences in columns (with the designated names):\n",
        "\n",
        "1. style_bold_count\n",
        "2. style_header_count\n",
        "3. style_list_count\n",
        "4. style_sum_assistant_tokens\n",
        "\n",
        "The normalized differences would be following the formulation below:\n",
        "\n",
        "$$\n",
        "\\text{normdiff}(a, b) =\n",
        "\\begin{cases}\n",
        "0 & \\text{if } a + b = 0 \\\\[6pt]\n",
        "\\dfrac{a - b}{a + b} & \\text{otherwise}\n",
        "\\end{cases}\n",
        "$$\n",
        "\n"
      ]
    },
    {
      "cell_type": "markdown",
      "id": "82fbd028",
      "metadata": {
        "deletable": false,
        "editable": false,
        "id": "82fbd028"
      },
      "source": [
        "Let's take a look at `conv_metadata`. Essentially, we will be stacking up these elements for each style count."
      ]
    },
    {
      "cell_type": "code",
      "execution_count": null,
      "id": "5ee95388",
      "metadata": {
        "deletable": false,
        "editable": false,
        "id": "5ee95388",
        "colab": {
          "base_uri": "https://localhost:8080/"
        },
        "outputId": "07b82fc6-82b0-4596-92e6-83d69bef0da2"
      },
      "outputs": [
        {
          "output_type": "execute_result",
          "data": {
            "text/plain": [
              "{'bold_count_a': {'**': 5, '__': 0},\n",
              " 'bold_count_b': {'**': 0, '__': 0},\n",
              " 'context_a_tokens': 222,\n",
              " 'context_b_tokens': 230,\n",
              " 'header_count_a': {'h1': 0, 'h2': 0, 'h3': 0, 'h4': 0, 'h5': 0, 'h6': 0},\n",
              " 'header_count_b': {'h1': 0, 'h2': 0, 'h3': 0, 'h4': 0, 'h5': 0, 'h6': 0},\n",
              " 'list_count_a': {'ordered': 0, 'unordered': 5},\n",
              " 'list_count_b': {'ordered': 0, 'unordered': 0},\n",
              " 'sum_assistant_a_tokens': 335,\n",
              " 'sum_assistant_b_tokens': 287,\n",
              " 'sum_user_tokens': 14,\n",
              " 'turns': 2}"
            ]
          },
          "metadata": {},
          "execution_count": 24
        }
      ],
      "source": [
        "selected_battles_no_ties['conv_metadata'].iloc[0]"
      ]
    },
    {
      "cell_type": "code",
      "execution_count": null,
      "id": "d7f0eb3e",
      "metadata": {
        "id": "d7f0eb3e",
        "tags": [
          "otter_answer_cell"
        ]
      },
      "outputs": [],
      "source": [
        "def add_style_features(df):\n",
        "    \"\"\"\n",
        "    Adds normalized style feature difference columns to the DataFrame.\n",
        "    The columns added are:\n",
        "      - style_bold_count\n",
        "      - style_header_count\n",
        "      - style_list_count\n",
        "      - style_sum_assistant_tokens\n",
        "    \"\"\"\n",
        "    def normdiff(a, b):\n",
        "        denom = a + b\n",
        "        return 0 if denom == 0 else (a - b) / denom\n",
        "\n",
        "    style_bold = []\n",
        "    style_header = []\n",
        "    style_list = []\n",
        "    style_tokens = []\n",
        "\n",
        "    for idx, row in df.iterrows():\n",
        "        meta = row['conv_metadata']\n",
        "\n",
        "        bold_a = sum(meta.get('bold_count_a', {}).values())\n",
        "        bold_b = sum(meta.get('bold_count_b', {}).values())\n",
        "        style_bold.append(normdiff(bold_a, bold_b))\n",
        "\n",
        "        header_a = sum(meta.get('header_count_a', {}).values())\n",
        "        header_b = sum(meta.get('header_count_b', {}).values())\n",
        "        style_header.append(normdiff(header_a, header_b))\n",
        "\n",
        "        list_a = sum(meta.get('list_count_a', {}).values())\n",
        "        list_b = sum(meta.get('list_count_b', {}).values())\n",
        "        style_list.append(normdiff(list_a, list_b))\n",
        "\n",
        "        tokens_a = meta.get('sum_assistant_a_tokens', 0)\n",
        "        tokens_b = meta.get('sum_assistant_b_tokens', 0)\n",
        "        style_tokens.append(normdiff(tokens_a, tokens_b))\n",
        "\n",
        "    df[\"style_bold_count\"] = style_bold\n",
        "    df[\"style_header_count\"] = style_header\n",
        "    df[\"style_list_count\"] = style_list\n",
        "    df[\"style_sum_assistant_tokens\"] = style_tokens\n",
        "\n",
        "    return df\n",
        "\n",
        "# Example usage:\n",
        "selected_battles_no_ties = add_style_features(selected_battles_no_ties)"
      ]
    },
    {
      "cell_type": "code",
      "execution_count": null,
      "id": "caf8644c",
      "metadata": {
        "deletable": false,
        "editable": false,
        "id": "caf8644c",
        "colab": {
          "base_uri": "https://localhost:8080/",
          "height": 47
        },
        "outputId": "42051995-8dfa-4da9-989f-5b99d8aa83e5"
      },
      "outputs": [
        {
          "output_type": "execute_result",
          "data": {
            "text/plain": [
              "q8a results: All test cases passed!"
            ],
            "text/html": [
              "<p><strong><pre style='display: inline;'>q8a</pre></strong> passed! 🚀</p>"
            ]
          },
          "metadata": {},
          "execution_count": 26
        }
      ],
      "source": [
        "grader.check(\"q8a\")"
      ]
    },
    {
      "cell_type": "markdown",
      "id": "04c69902",
      "metadata": {
        "deletable": false,
        "editable": false,
        "id": "04c69902"
      },
      "source": [
        "<!-- BEGIN QUESTION -->\n",
        "\n",
        "## **Question 8a Free Response Question**"
      ]
    },
    {
      "cell_type": "markdown",
      "id": "bbc83fb9",
      "metadata": {
        "deletable": false,
        "editable": false,
        "id": "bbc83fb9"
      },
      "source": [
        "We’ve now added stylistic features to each model comparison.  \n",
        "\n",
        "**Answer the following question**"
      ]
    },
    {
      "cell_type": "markdown",
      "id": "3c2d7325",
      "metadata": {
        "deletable": false,
        "editable": false,
        "id": "3c2d7325"
      },
      "source": [
        "```otter\n",
        "QUESTION: How can integrating these features into the ranking pipeline create the effect of a “length-controlled” leaderboard, and why might this adjustment be useful?  \n",
        "\n",
        "Think about whether raw win/loss outcomes fully capture model quality, or whether stylistic inflation (e.g., longer answers, formatting tricks) can bias rankings.\n",
        "```"
      ]
    },
    {
      "cell_type": "markdown",
      "id": "88d89539",
      "metadata": {
        "tags": [
          "otter_answer_cell"
        ],
        "id": "88d89539"
      },
      "source": [
        "\n",
        "YOUR ANSWER:\n",
        "\n",
        "By integrating style features such as response length, bold usage, headers, or list counts into the ranking model, we can control for stylistic factors that might inflate user preference.\n",
        "This creates a “length-controlled” leaderboard, where rankings reflect true content quality rather than superficial traits like longer or more formatted answers.\n",
        "\n",
        "Such adjustment is useful because raw win/loss outcomes can be biased, models producing longer or more visually appealing responses may appear better even when their actual reasoning or factual accuracy is not.\n",
        "\n"
      ]
    },
    {
      "cell_type": "markdown",
      "id": "04f1b2b6",
      "metadata": {
        "deletable": false,
        "editable": false,
        "id": "04f1b2b6"
      },
      "source": [
        "<!-- END QUESTION -->\n",
        "\n",
        "## **Question 8b**"
      ]
    },
    {
      "cell_type": "markdown",
      "id": "de450df9",
      "metadata": {
        "deletable": false,
        "editable": false,
        "id": "de450df9"
      },
      "source": [
        "Let's try to visualize and formulate the features we defined in the previous question in a neat way that we can see the direct relationship between the model battles and the style features.\n",
        "\n",
        "We now want a training table where each battle produces two rows, one for each ordering of the competitors (A→B and B→A).\n",
        "In other words, each row in the dataframe creates two entries in the new table.\n",
        "\n",
        "**Task:**\n",
        "Implement a function that creates the table described above. Each row should encode:\n",
        "1. The model identity vector **X** (+1 at the selected model in the row, −1 at its opponent, 0 elsewhere)\n",
        "2. The outcome y (win, lose)\n",
        "3. Set of style covariates capturing A vs B normalized differences (e.g., length)\n",
        "\n",
        "**NOTE:** Ensure that features are also antisymmetric, meaning they flipping the order of model should also flip the sign of each style feature.\n",
        "\n",
        "Below is an example of the desired table."
      ]
    },
    {
      "cell_type": "markdown",
      "id": "4902d7f8",
      "metadata": {
        "deletable": false,
        "editable": false,
        "id": "4902d7f8"
      },
      "source": [
        "| question_id                         | X                                           | y | direction | style_bold_count | style_header_count | style_list_count | style_sum_assistant_tokens |\n",
        "|--------------------------------------|----------------------------------------------|---|-----------|------------------|--------------------|------------------|----------------------------|\n",
        "| e8fe7c9f75ab4e528367cc7de625c475     | [0, 0, 0, 0, 0, 1, ...]  | 0 | A->B      | 1.0              | 0.0                | 1.0              | 0.07717                    |\n",
        "| e8fe7c9f75ab4e528367cc7de625c475     | [0, 0, 0, 0, 0, -1 ...] | 1 | B->A      | -1.0             | -0.0               | -1.0             | -0.07717                   |\n"
      ]
    },
    {
      "cell_type": "code",
      "execution_count": null,
      "id": "83957bc7",
      "metadata": {
        "id": "83957bc7",
        "tags": [
          "otter_answer_cell"
        ],
        "colab": {
          "base_uri": "https://localhost:8080/",
          "height": 636
        },
        "outputId": "7a925eab-0860-4b93-baaa-57bc55cedd24"
      },
      "outputs": [
        {
          "output_type": "execute_result",
          "data": {
            "text/plain": [
              "                        question_id  \\\n",
              "0  e8fe7c9f75ab4e528367cc7de625c475   \n",
              "1  e8fe7c9f75ab4e528367cc7de625c475   \n",
              "\n",
              "                                                   X  y direction  \\\n",
              "0  [0, 0, 0, 0, 0, 1, 0, 0, 0, 0, 0, 0, 0, 0, 0, ...  0      A->B   \n",
              "1  [0, 0, 0, 0, 0, -1, 0, 0, 0, 0, 0, 0, 0, 0, 0,...  1      B->A   \n",
              "\n",
              "   style_bold_count  style_header_count  style_list_count  \\\n",
              "0               1.0                 0.0               1.0   \n",
              "1              -1.0                -0.0              -1.0   \n",
              "\n",
              "   style_sum_assistant_tokens  \n",
              "0                     0.07717  \n",
              "1                    -0.07717  "
            ],
            "text/html": [
              "\n",
              "  <div id=\"df-af6377db-b4b9-44d8-b155-a891f224f974\" class=\"colab-df-container\">\n",
              "    <div>\n",
              "<style scoped>\n",
              "    .dataframe tbody tr th:only-of-type {\n",
              "        vertical-align: middle;\n",
              "    }\n",
              "\n",
              "    .dataframe tbody tr th {\n",
              "        vertical-align: top;\n",
              "    }\n",
              "\n",
              "    .dataframe thead th {\n",
              "        text-align: right;\n",
              "    }\n",
              "</style>\n",
              "<table border=\"1\" class=\"dataframe\">\n",
              "  <thead>\n",
              "    <tr style=\"text-align: right;\">\n",
              "      <th></th>\n",
              "      <th>question_id</th>\n",
              "      <th>X</th>\n",
              "      <th>y</th>\n",
              "      <th>direction</th>\n",
              "      <th>style_bold_count</th>\n",
              "      <th>style_header_count</th>\n",
              "      <th>style_list_count</th>\n",
              "      <th>style_sum_assistant_tokens</th>\n",
              "    </tr>\n",
              "  </thead>\n",
              "  <tbody>\n",
              "    <tr>\n",
              "      <th>0</th>\n",
              "      <td>e8fe7c9f75ab4e528367cc7de625c475</td>\n",
              "      <td>[0, 0, 0, 0, 0, 1, 0, 0, 0, 0, 0, 0, 0, 0, 0, ...</td>\n",
              "      <td>0</td>\n",
              "      <td>A-&gt;B</td>\n",
              "      <td>1.0</td>\n",
              "      <td>0.0</td>\n",
              "      <td>1.0</td>\n",
              "      <td>0.07717</td>\n",
              "    </tr>\n",
              "    <tr>\n",
              "      <th>1</th>\n",
              "      <td>e8fe7c9f75ab4e528367cc7de625c475</td>\n",
              "      <td>[0, 0, 0, 0, 0, -1, 0, 0, 0, 0, 0, 0, 0, 0, 0,...</td>\n",
              "      <td>1</td>\n",
              "      <td>B-&gt;A</td>\n",
              "      <td>-1.0</td>\n",
              "      <td>-0.0</td>\n",
              "      <td>-1.0</td>\n",
              "      <td>-0.07717</td>\n",
              "    </tr>\n",
              "  </tbody>\n",
              "</table>\n",
              "</div>\n",
              "    <div class=\"colab-df-buttons\">\n",
              "\n",
              "  <div class=\"colab-df-container\">\n",
              "    <button class=\"colab-df-convert\" onclick=\"convertToInteractive('df-af6377db-b4b9-44d8-b155-a891f224f974')\"\n",
              "            title=\"Convert this dataframe to an interactive table.\"\n",
              "            style=\"display:none;\">\n",
              "\n",
              "  <svg xmlns=\"http://www.w3.org/2000/svg\" height=\"24px\" viewBox=\"0 -960 960 960\">\n",
              "    <path d=\"M120-120v-720h720v720H120Zm60-500h600v-160H180v160Zm220 220h160v-160H400v160Zm0 220h160v-160H400v160ZM180-400h160v-160H180v160Zm440 0h160v-160H620v160ZM180-180h160v-160H180v160Zm440 0h160v-160H620v160Z\"/>\n",
              "  </svg>\n",
              "    </button>\n",
              "\n",
              "  <style>\n",
              "    .colab-df-container {\n",
              "      display:flex;\n",
              "      gap: 12px;\n",
              "    }\n",
              "\n",
              "    .colab-df-convert {\n",
              "      background-color: #E8F0FE;\n",
              "      border: none;\n",
              "      border-radius: 50%;\n",
              "      cursor: pointer;\n",
              "      display: none;\n",
              "      fill: #1967D2;\n",
              "      height: 32px;\n",
              "      padding: 0 0 0 0;\n",
              "      width: 32px;\n",
              "    }\n",
              "\n",
              "    .colab-df-convert:hover {\n",
              "      background-color: #E2EBFA;\n",
              "      box-shadow: 0px 1px 2px rgba(60, 64, 67, 0.3), 0px 1px 3px 1px rgba(60, 64, 67, 0.15);\n",
              "      fill: #174EA6;\n",
              "    }\n",
              "\n",
              "    .colab-df-buttons div {\n",
              "      margin-bottom: 4px;\n",
              "    }\n",
              "\n",
              "    [theme=dark] .colab-df-convert {\n",
              "      background-color: #3B4455;\n",
              "      fill: #D2E3FC;\n",
              "    }\n",
              "\n",
              "    [theme=dark] .colab-df-convert:hover {\n",
              "      background-color: #434B5C;\n",
              "      box-shadow: 0px 1px 3px 1px rgba(0, 0, 0, 0.15);\n",
              "      filter: drop-shadow(0px 1px 2px rgba(0, 0, 0, 0.3));\n",
              "      fill: #FFFFFF;\n",
              "    }\n",
              "  </style>\n",
              "\n",
              "    <script>\n",
              "      const buttonEl =\n",
              "        document.querySelector('#df-af6377db-b4b9-44d8-b155-a891f224f974 button.colab-df-convert');\n",
              "      buttonEl.style.display =\n",
              "        google.colab.kernel.accessAllowed ? 'block' : 'none';\n",
              "\n",
              "      async function convertToInteractive(key) {\n",
              "        const element = document.querySelector('#df-af6377db-b4b9-44d8-b155-a891f224f974');\n",
              "        const dataTable =\n",
              "          await google.colab.kernel.invokeFunction('convertToInteractive',\n",
              "                                                    [key], {});\n",
              "        if (!dataTable) return;\n",
              "\n",
              "        const docLinkHtml = 'Like what you see? Visit the ' +\n",
              "          '<a target=\"_blank\" href=https://colab.research.google.com/notebooks/data_table.ipynb>data table notebook</a>'\n",
              "          + ' to learn more about interactive tables.';\n",
              "        element.innerHTML = '';\n",
              "        dataTable['output_type'] = 'display_data';\n",
              "        await google.colab.output.renderOutput(dataTable, element);\n",
              "        const docLink = document.createElement('div');\n",
              "        docLink.innerHTML = docLinkHtml;\n",
              "        element.appendChild(docLink);\n",
              "      }\n",
              "    </script>\n",
              "  </div>\n",
              "\n",
              "\n",
              "    <div id=\"df-c282501c-4e0e-4260-a46c-606cf3f2d6a1\">\n",
              "      <button class=\"colab-df-quickchart\" onclick=\"quickchart('df-c282501c-4e0e-4260-a46c-606cf3f2d6a1')\"\n",
              "                title=\"Suggest charts\"\n",
              "                style=\"display:none;\">\n",
              "\n",
              "<svg xmlns=\"http://www.w3.org/2000/svg\" height=\"24px\"viewBox=\"0 0 24 24\"\n",
              "     width=\"24px\">\n",
              "    <g>\n",
              "        <path d=\"M19 3H5c-1.1 0-2 .9-2 2v14c0 1.1.9 2 2 2h14c1.1 0 2-.9 2-2V5c0-1.1-.9-2-2-2zM9 17H7v-7h2v7zm4 0h-2V7h2v10zm4 0h-2v-4h2v4z\"/>\n",
              "    </g>\n",
              "</svg>\n",
              "      </button>\n",
              "\n",
              "<style>\n",
              "  .colab-df-quickchart {\n",
              "      --bg-color: #E8F0FE;\n",
              "      --fill-color: #1967D2;\n",
              "      --hover-bg-color: #E2EBFA;\n",
              "      --hover-fill-color: #174EA6;\n",
              "      --disabled-fill-color: #AAA;\n",
              "      --disabled-bg-color: #DDD;\n",
              "  }\n",
              "\n",
              "  [theme=dark] .colab-df-quickchart {\n",
              "      --bg-color: #3B4455;\n",
              "      --fill-color: #D2E3FC;\n",
              "      --hover-bg-color: #434B5C;\n",
              "      --hover-fill-color: #FFFFFF;\n",
              "      --disabled-bg-color: #3B4455;\n",
              "      --disabled-fill-color: #666;\n",
              "  }\n",
              "\n",
              "  .colab-df-quickchart {\n",
              "    background-color: var(--bg-color);\n",
              "    border: none;\n",
              "    border-radius: 50%;\n",
              "    cursor: pointer;\n",
              "    display: none;\n",
              "    fill: var(--fill-color);\n",
              "    height: 32px;\n",
              "    padding: 0;\n",
              "    width: 32px;\n",
              "  }\n",
              "\n",
              "  .colab-df-quickchart:hover {\n",
              "    background-color: var(--hover-bg-color);\n",
              "    box-shadow: 0 1px 2px rgba(60, 64, 67, 0.3), 0 1px 3px 1px rgba(60, 64, 67, 0.15);\n",
              "    fill: var(--button-hover-fill-color);\n",
              "  }\n",
              "\n",
              "  .colab-df-quickchart-complete:disabled,\n",
              "  .colab-df-quickchart-complete:disabled:hover {\n",
              "    background-color: var(--disabled-bg-color);\n",
              "    fill: var(--disabled-fill-color);\n",
              "    box-shadow: none;\n",
              "  }\n",
              "\n",
              "  .colab-df-spinner {\n",
              "    border: 2px solid var(--fill-color);\n",
              "    border-color: transparent;\n",
              "    border-bottom-color: var(--fill-color);\n",
              "    animation:\n",
              "      spin 1s steps(1) infinite;\n",
              "  }\n",
              "\n",
              "  @keyframes spin {\n",
              "    0% {\n",
              "      border-color: transparent;\n",
              "      border-bottom-color: var(--fill-color);\n",
              "      border-left-color: var(--fill-color);\n",
              "    }\n",
              "    20% {\n",
              "      border-color: transparent;\n",
              "      border-left-color: var(--fill-color);\n",
              "      border-top-color: var(--fill-color);\n",
              "    }\n",
              "    30% {\n",
              "      border-color: transparent;\n",
              "      border-left-color: var(--fill-color);\n",
              "      border-top-color: var(--fill-color);\n",
              "      border-right-color: var(--fill-color);\n",
              "    }\n",
              "    40% {\n",
              "      border-color: transparent;\n",
              "      border-right-color: var(--fill-color);\n",
              "      border-top-color: var(--fill-color);\n",
              "    }\n",
              "    60% {\n",
              "      border-color: transparent;\n",
              "      border-right-color: var(--fill-color);\n",
              "    }\n",
              "    80% {\n",
              "      border-color: transparent;\n",
              "      border-right-color: var(--fill-color);\n",
              "      border-bottom-color: var(--fill-color);\n",
              "    }\n",
              "    90% {\n",
              "      border-color: transparent;\n",
              "      border-bottom-color: var(--fill-color);\n",
              "    }\n",
              "  }\n",
              "</style>\n",
              "\n",
              "      <script>\n",
              "        async function quickchart(key) {\n",
              "          const quickchartButtonEl =\n",
              "            document.querySelector('#' + key + ' button');\n",
              "          quickchartButtonEl.disabled = true;  // To prevent multiple clicks.\n",
              "          quickchartButtonEl.classList.add('colab-df-spinner');\n",
              "          try {\n",
              "            const charts = await google.colab.kernel.invokeFunction(\n",
              "                'suggestCharts', [key], {});\n",
              "          } catch (error) {\n",
              "            console.error('Error during call to suggestCharts:', error);\n",
              "          }\n",
              "          quickchartButtonEl.classList.remove('colab-df-spinner');\n",
              "          quickchartButtonEl.classList.add('colab-df-quickchart-complete');\n",
              "        }\n",
              "        (() => {\n",
              "          let quickchartButtonEl =\n",
              "            document.querySelector('#df-c282501c-4e0e-4260-a46c-606cf3f2d6a1 button');\n",
              "          quickchartButtonEl.style.display =\n",
              "            google.colab.kernel.accessAllowed ? 'block' : 'none';\n",
              "        })();\n",
              "      </script>\n",
              "    </div>\n",
              "\n",
              "    </div>\n",
              "  </div>\n"
            ],
            "application/vnd.google.colaboratory.intrinsic+json": {
              "type": "dataframe",
              "variable_name": "pairwise_feature_df",
              "summary": "{\n  \"name\": \"pairwise_feature_df\",\n  \"rows\": 51066,\n  \"fields\": [\n    {\n      \"column\": \"question_id\",\n      \"properties\": {\n        \"dtype\": \"string\",\n        \"num_unique_values\": 25533,\n        \"samples\": [\n          \"86de881458bc4c20b0a5095c9f7c21bb\",\n          \"db8d97bf58694312a61b6d089a5e2917\",\n          \"e3e0943af552411482f6258b1829ac3a\"\n        ],\n        \"semantic_type\": \"\",\n        \"description\": \"\"\n      }\n    },\n    {\n      \"column\": \"X\",\n      \"properties\": {\n        \"dtype\": \"object\",\n        \"semantic_type\": \"\",\n        \"description\": \"\"\n      }\n    },\n    {\n      \"column\": \"y\",\n      \"properties\": {\n        \"dtype\": \"number\",\n        \"std\": 0,\n        \"min\": 0,\n        \"max\": 1,\n        \"num_unique_values\": 2,\n        \"samples\": [\n          1,\n          0\n        ],\n        \"semantic_type\": \"\",\n        \"description\": \"\"\n      }\n    },\n    {\n      \"column\": \"direction\",\n      \"properties\": {\n        \"dtype\": \"category\",\n        \"num_unique_values\": 2,\n        \"samples\": [\n          \"B->A\",\n          \"A->B\"\n        ],\n        \"semantic_type\": \"\",\n        \"description\": \"\"\n      }\n    },\n    {\n      \"column\": \"style_bold_count\",\n      \"properties\": {\n        \"dtype\": \"number\",\n        \"std\": 0.6777652898182648,\n        \"min\": -1.0,\n        \"max\": 1.0,\n        \"num_unique_values\": 1709,\n        \"samples\": [\n          0.025,\n          0.6333333333333333\n        ],\n        \"semantic_type\": \"\",\n        \"description\": \"\"\n      }\n    },\n    {\n      \"column\": \"style_header_count\",\n      \"properties\": {\n        \"dtype\": \"number\",\n        \"std\": 0.5060299276076036,\n        \"min\": -1.0,\n        \"max\": 1.0,\n        \"num_unique_values\": 315,\n        \"samples\": [\n          0.38181818181818183,\n          0.043478260869565216\n        ],\n        \"semantic_type\": \"\",\n        \"description\": \"\"\n      }\n    },\n    {\n      \"column\": \"style_list_count\",\n      \"properties\": {\n        \"dtype\": \"number\",\n        \"std\": 0.5369191249821469,\n        \"min\": -1.0,\n        \"max\": 1.0,\n        \"num_unique_values\": 2287,\n        \"samples\": [\n          0.2564102564102564,\n          -0.2112676056338028\n        ],\n        \"semantic_type\": \"\",\n        \"description\": \"\"\n      }\n    },\n    {\n      \"column\": \"style_sum_assistant_tokens\",\n      \"properties\": {\n        \"dtype\": \"number\",\n        \"std\": 0.3011103749781211,\n        \"min\": -0.9967105263157895,\n        \"max\": 0.9967105263157895,\n        \"num_unique_values\": 42381,\n        \"samples\": [\n          0.08363059849385653,\n          -0.06501547987616099\n        ],\n        \"semantic_type\": \"\",\n        \"description\": \"\"\n      }\n    }\n  ]\n}"
            }
          },
          "metadata": {},
          "execution_count": 27
        }
      ],
      "source": [
        "def make_pairwise_feature_df(df, models, style_feature_cols):\n",
        "    \"\"\"\n",
        "    For each row in df, create two rows in the output:\n",
        "      - One for A->B (original direction)\n",
        "      - One for B->A (flipped direction)\n",
        "    Each row contains:\n",
        "      - question_id\n",
        "      - X: model indicator vector (1 for model_a, -1 for model_b, 0 otherwise)\n",
        "      - y: 1 if model_a wins, 0 if model_b wins\n",
        "      - style features (from style_feature_cols)\n",
        "      - direction: \"A->B\" or \"B->A\"\n",
        "    Returns a new DataFrame with only these columns.\n",
        "    \"\"\"\n",
        "\n",
        "    model_to_idx = {model: idx for idx, model in enumerate(models)}\n",
        "\n",
        "    records = []\n",
        "\n",
        "    for idx, row in df.iterrows():\n",
        "        question_id = row['question_id']\n",
        "        model_a = row['model_a']\n",
        "        model_b = row['model_b']\n",
        "        winner = row['winner']\n",
        "\n",
        "        x_a_to_b = [0] * len(models)\n",
        "        x_a_to_b[model_to_idx[model_a]] = 1\n",
        "        x_a_to_b[model_to_idx[model_b]] = -1\n",
        "\n",
        "        x_b_to_a = [0] * len(models)\n",
        "        x_b_to_a[model_to_idx[model_b]] = 1\n",
        "        x_b_to_a[model_to_idx[model_a]] = -1\n",
        "\n",
        "        y_a_to_b = 1 if winner == 'model_a' else 0\n",
        "        y_b_to_a = 1 if winner == 'model_b' else 0\n",
        "\n",
        "        style_features_a_to_b = {col: row[col] for col in style_feature_cols}\n",
        "        style_features_b_to_a = {col: -row[col] for col in style_feature_cols}\n",
        "\n",
        "        record_a_to_b = {\n",
        "            'question_id': question_id,\n",
        "            'X': x_a_to_b,\n",
        "            'y': y_a_to_b,\n",
        "            'direction': 'A->B'\n",
        "        }\n",
        "        record_a_to_b.update(style_features_a_to_b)\n",
        "        records.append(record_a_to_b)\n",
        "\n",
        "        record_b_to_a = {\n",
        "            'question_id': question_id,\n",
        "            'X': x_b_to_a,\n",
        "            'y': y_b_to_a,\n",
        "            'direction': 'B->A'\n",
        "        }\n",
        "        record_b_to_a.update(style_features_b_to_a)\n",
        "        records.append(record_b_to_a)\n",
        "\n",
        "    return pd.DataFrame(records)\n",
        "\n",
        "style_feature_cols = [\n",
        "    \"style_bold_count\",\n",
        "    \"style_header_count\",\n",
        "    \"style_list_count\",\n",
        "    \"style_sum_assistant_tokens\"\n",
        "]\n",
        "\n",
        "pairwise_feature_df = make_pairwise_feature_df(selected_battles_no_ties, selected_models, style_feature_cols)\n",
        "pairwise_feature_df.head(2)"
      ]
    },
    {
      "cell_type": "code",
      "execution_count": null,
      "id": "40704b1d",
      "metadata": {
        "deletable": false,
        "editable": false,
        "id": "40704b1d",
        "colab": {
          "base_uri": "https://localhost:8080/",
          "height": 47
        },
        "outputId": "f438f17e-7488-47ec-8185-4e1eedf6e646"
      },
      "outputs": [
        {
          "output_type": "execute_result",
          "data": {
            "text/plain": [
              "q8b results: All test cases passed!"
            ],
            "text/html": [
              "<p><strong><pre style='display: inline;'>q8b</pre></strong> passed! ✨</p>"
            ]
          },
          "metadata": {},
          "execution_count": 28
        }
      ],
      "source": [
        "grader.check(\"q8b\")"
      ]
    },
    {
      "cell_type": "markdown",
      "id": "f7000a78",
      "metadata": {
        "deletable": false,
        "editable": false,
        "id": "f7000a78"
      },
      "source": [
        "## **Question 8c**"
      ]
    },
    {
      "cell_type": "markdown",
      "id": "f864379b",
      "metadata": {
        "deletable": false,
        "editable": false,
        "id": "f864379b"
      },
      "source": [
        "Amazing! 🎉 Now that we've built our pairwise identity matrix X (which model is battling which) and our style feature matrix X_style (how A and B differ stylistically), let's combine these two so that our logistic model can learn:\n",
        "\n",
        "1. The intrinsic strength of each model (controlling for style)\n",
        "2. The influence of each style feature on the outcome"
      ]
    },
    {
      "cell_type": "markdown",
      "id": "61c9977e",
      "metadata": {
        "deletable": false,
        "editable": false,
        "id": "61c9977e"
      },
      "source": [
        "**Task:**\n",
        "Now, implement the function `get_sc_category_results` that:\n",
        "1. Stacks these two matrices into one design matrix X_with_style, so the model can learn both intrinsic model strengths and style effects simultaneously.\n",
        "2. Uses `get_bootstrapped_score` to get the ranking results.\n",
        "3. Returns the results sorted by rank in ascending order. All style features should be assigned a rank of -1"
      ]
    },
    {
      "cell_type": "code",
      "execution_count": null,
      "id": "283a94ee",
      "metadata": {
        "id": "283a94ee",
        "tags": [
          "otter_answer_cell"
        ],
        "colab": {
          "base_uri": "https://localhost:8080/",
          "height": 657
        },
        "outputId": "20bb488e-8359-4c47-9d4f-e38f1b706842"
      },
      "outputs": [
        {
          "output_type": "display_data",
          "data": {
            "text/html": [
              "<html>\n",
              "<head><meta charset=\"utf-8\" /></head>\n",
              "<body>\n",
              "    <div>            <script src=\"https://cdnjs.cloudflare.com/ajax/libs/mathjax/2.7.5/MathJax.js?config=TeX-AMS-MML_SVG\"></script><script type=\"text/javascript\">if (window.MathJax && window.MathJax.Hub && window.MathJax.Hub.Config) {window.MathJax.Hub.Config({SVG: {font: \"STIX-Web\"}});}</script>                <script type=\"text/javascript\">window.PlotlyConfig = {MathJaxConfig: 'local'};</script>\n",
              "        <script charset=\"utf-8\" src=\"https://cdn.plot.ly/plotly-3.1.1.min.js\" integrity=\"sha256-HUEFyfiTnZJxCxur99FjbKYTvKSzwDaD3/x5TqHpFu4=\" crossorigin=\"anonymous\"></script>                <div id=\"989b0c1c-070e-4e01-b372-86dd6b7f3307\" class=\"plotly-graph-div\" style=\"height:640px; width:100%;\"></div>            <script type=\"text/javascript\">                window.PLOTLYENV=window.PLOTLYENV || {};                                if (document.getElementById(\"989b0c1c-070e-4e01-b372-86dd6b7f3307\")) {                    Plotly.newPlot(                        \"989b0c1c-070e-4e01-b372-86dd6b7f3307\",                        [{\"colorscale\":[[0.0,\"#fde725\"],[0.1111111111111111,\"#b5de2b\"],[0.2222222222222222,\"#6ece58\"],[0.3333333333333333,\"#35b779\"],[0.4444444444444444,\"#1f9e89\"],[0.5555555555555556,\"#26828e\"],[0.6666666666666666,\"#31688e\"],[0.7777777777777778,\"#3e4989\"],[0.8888888888888888,\"#482878\"],[1.0,\"#440154\"]],\"hovertemplate\":\"Model: %{y}\\u003cbr\\u003eCategory: %{x}\\u003cbr\\u003eRank: %{z}\\u003cextra\\u003e\\u003c\\u002fextra\\u003e\",\"showscale\":false,\"text\":{\"dtype\":\"i1\",\"bdata\":\"FBMSFBEQEBAQDw8ODQ0NDAwMCwoIBwgLCAYFBgUDBAIDAgMGAgIBAQ==\",\"shape\":\"20, 2\"},\"textfont\":{\"size\":10},\"texttemplate\":\"%{text}\",\"x\":[\"Overall\",\"Overall w\\u002f Style Control\"],\"y\":[\"llama-3-8b-instruct\",\"llama-3.1-8b-instruct\",\"claude-3-haiku-20240307\",\"qwen2-72b-instruct\",\"gemma-2-9b-it\",\"llama-3-70b-instruct\",\"deepseek-v2-api-0628\",\"gemma-2-27b-it\",\"gemini-1.5-flash-api-0514\",\"claude-3-opus-20240229\",\"gemini-1.5-pro-api-0514\",\"llama-3.1-70b-instruct\",\"gpt-4-turbo-2024-04-09\",\"llama-3.1-405b-instruct\",\"claude-3-5-sonnet-20240620\",\"gpt-4o-2024-08-06\",\"gpt-4o-2024-05-13\",\"gpt-4o-mini-2024-07-18\",\"gemini-1.5-pro-exp-0801\",\"chatgpt-4o-latest\"],\"z\":{\"dtype\":\"i1\",\"bdata\":\"FBMSFBEQEBAQDw8ODQ0NDAwMCwoIBwgLCAYFBgUDBAIDAgMGAgIBAQ==\",\"shape\":\"20, 2\"},\"type\":\"heatmap\"}],                        {\"template\":{\"data\":{\"histogram2dcontour\":[{\"type\":\"histogram2dcontour\",\"colorbar\":{\"outlinewidth\":0,\"ticks\":\"\"},\"colorscale\":[[0.0,\"#0d0887\"],[0.1111111111111111,\"#46039f\"],[0.2222222222222222,\"#7201a8\"],[0.3333333333333333,\"#9c179e\"],[0.4444444444444444,\"#bd3786\"],[0.5555555555555556,\"#d8576b\"],[0.6666666666666666,\"#ed7953\"],[0.7777777777777778,\"#fb9f3a\"],[0.8888888888888888,\"#fdca26\"],[1.0,\"#f0f921\"]]}],\"choropleth\":[{\"type\":\"choropleth\",\"colorbar\":{\"outlinewidth\":0,\"ticks\":\"\"}}],\"histogram2d\":[{\"type\":\"histogram2d\",\"colorbar\":{\"outlinewidth\":0,\"ticks\":\"\"},\"colorscale\":[[0.0,\"#0d0887\"],[0.1111111111111111,\"#46039f\"],[0.2222222222222222,\"#7201a8\"],[0.3333333333333333,\"#9c179e\"],[0.4444444444444444,\"#bd3786\"],[0.5555555555555556,\"#d8576b\"],[0.6666666666666666,\"#ed7953\"],[0.7777777777777778,\"#fb9f3a\"],[0.8888888888888888,\"#fdca26\"],[1.0,\"#f0f921\"]]}],\"heatmap\":[{\"type\":\"heatmap\",\"colorbar\":{\"outlinewidth\":0,\"ticks\":\"\"},\"colorscale\":[[0.0,\"#0d0887\"],[0.1111111111111111,\"#46039f\"],[0.2222222222222222,\"#7201a8\"],[0.3333333333333333,\"#9c179e\"],[0.4444444444444444,\"#bd3786\"],[0.5555555555555556,\"#d8576b\"],[0.6666666666666666,\"#ed7953\"],[0.7777777777777778,\"#fb9f3a\"],[0.8888888888888888,\"#fdca26\"],[1.0,\"#f0f921\"]]}],\"contourcarpet\":[{\"type\":\"contourcarpet\",\"colorbar\":{\"outlinewidth\":0,\"ticks\":\"\"}}],\"contour\":[{\"type\":\"contour\",\"colorbar\":{\"outlinewidth\":0,\"ticks\":\"\"},\"colorscale\":[[0.0,\"#0d0887\"],[0.1111111111111111,\"#46039f\"],[0.2222222222222222,\"#7201a8\"],[0.3333333333333333,\"#9c179e\"],[0.4444444444444444,\"#bd3786\"],[0.5555555555555556,\"#d8576b\"],[0.6666666666666666,\"#ed7953\"],[0.7777777777777778,\"#fb9f3a\"],[0.8888888888888888,\"#fdca26\"],[1.0,\"#f0f921\"]]}],\"surface\":[{\"type\":\"surface\",\"colorbar\":{\"outlinewidth\":0,\"ticks\":\"\"},\"colorscale\":[[0.0,\"#0d0887\"],[0.1111111111111111,\"#46039f\"],[0.2222222222222222,\"#7201a8\"],[0.3333333333333333,\"#9c179e\"],[0.4444444444444444,\"#bd3786\"],[0.5555555555555556,\"#d8576b\"],[0.6666666666666666,\"#ed7953\"],[0.7777777777777778,\"#fb9f3a\"],[0.8888888888888888,\"#fdca26\"],[1.0,\"#f0f921\"]]}],\"mesh3d\":[{\"type\":\"mesh3d\",\"colorbar\":{\"outlinewidth\":0,\"ticks\":\"\"}}],\"scatter\":[{\"fillpattern\":{\"fillmode\":\"overlay\",\"size\":10,\"solidity\":0.2},\"type\":\"scatter\"}],\"parcoords\":[{\"type\":\"parcoords\",\"line\":{\"colorbar\":{\"outlinewidth\":0,\"ticks\":\"\"}}}],\"scatterpolargl\":[{\"type\":\"scatterpolargl\",\"marker\":{\"colorbar\":{\"outlinewidth\":0,\"ticks\":\"\"}}}],\"bar\":[{\"error_x\":{\"color\":\"#2a3f5f\"},\"error_y\":{\"color\":\"#2a3f5f\"},\"marker\":{\"line\":{\"color\":\"#E5ECF6\",\"width\":0.5},\"pattern\":{\"fillmode\":\"overlay\",\"size\":10,\"solidity\":0.2}},\"type\":\"bar\"}],\"scattergeo\":[{\"type\":\"scattergeo\",\"marker\":{\"colorbar\":{\"outlinewidth\":0,\"ticks\":\"\"}}}],\"scatterpolar\":[{\"type\":\"scatterpolar\",\"marker\":{\"colorbar\":{\"outlinewidth\":0,\"ticks\":\"\"}}}],\"histogram\":[{\"marker\":{\"pattern\":{\"fillmode\":\"overlay\",\"size\":10,\"solidity\":0.2}},\"type\":\"histogram\"}],\"scattergl\":[{\"type\":\"scattergl\",\"marker\":{\"colorbar\":{\"outlinewidth\":0,\"ticks\":\"\"}}}],\"scatter3d\":[{\"type\":\"scatter3d\",\"line\":{\"colorbar\":{\"outlinewidth\":0,\"ticks\":\"\"}},\"marker\":{\"colorbar\":{\"outlinewidth\":0,\"ticks\":\"\"}}}],\"scattermap\":[{\"type\":\"scattermap\",\"marker\":{\"colorbar\":{\"outlinewidth\":0,\"ticks\":\"\"}}}],\"scattermapbox\":[{\"type\":\"scattermapbox\",\"marker\":{\"colorbar\":{\"outlinewidth\":0,\"ticks\":\"\"}}}],\"scatterternary\":[{\"type\":\"scatterternary\",\"marker\":{\"colorbar\":{\"outlinewidth\":0,\"ticks\":\"\"}}}],\"scattercarpet\":[{\"type\":\"scattercarpet\",\"marker\":{\"colorbar\":{\"outlinewidth\":0,\"ticks\":\"\"}}}],\"carpet\":[{\"aaxis\":{\"endlinecolor\":\"#2a3f5f\",\"gridcolor\":\"white\",\"linecolor\":\"white\",\"minorgridcolor\":\"white\",\"startlinecolor\":\"#2a3f5f\"},\"baxis\":{\"endlinecolor\":\"#2a3f5f\",\"gridcolor\":\"white\",\"linecolor\":\"white\",\"minorgridcolor\":\"white\",\"startlinecolor\":\"#2a3f5f\"},\"type\":\"carpet\"}],\"table\":[{\"cells\":{\"fill\":{\"color\":\"#EBF0F8\"},\"line\":{\"color\":\"white\"}},\"header\":{\"fill\":{\"color\":\"#C8D4E3\"},\"line\":{\"color\":\"white\"}},\"type\":\"table\"}],\"barpolar\":[{\"marker\":{\"line\":{\"color\":\"#E5ECF6\",\"width\":0.5},\"pattern\":{\"fillmode\":\"overlay\",\"size\":10,\"solidity\":0.2}},\"type\":\"barpolar\"}],\"pie\":[{\"automargin\":true,\"type\":\"pie\"}]},\"layout\":{\"autotypenumbers\":\"strict\",\"colorway\":[\"#636efa\",\"#EF553B\",\"#00cc96\",\"#ab63fa\",\"#FFA15A\",\"#19d3f3\",\"#FF6692\",\"#B6E880\",\"#FF97FF\",\"#FECB52\"],\"font\":{\"color\":\"#2a3f5f\"},\"hovermode\":\"closest\",\"hoverlabel\":{\"align\":\"left\"},\"paper_bgcolor\":\"white\",\"plot_bgcolor\":\"#E5ECF6\",\"polar\":{\"bgcolor\":\"#E5ECF6\",\"angularaxis\":{\"gridcolor\":\"white\",\"linecolor\":\"white\",\"ticks\":\"\"},\"radialaxis\":{\"gridcolor\":\"white\",\"linecolor\":\"white\",\"ticks\":\"\"}},\"ternary\":{\"bgcolor\":\"#E5ECF6\",\"aaxis\":{\"gridcolor\":\"white\",\"linecolor\":\"white\",\"ticks\":\"\"},\"baxis\":{\"gridcolor\":\"white\",\"linecolor\":\"white\",\"ticks\":\"\"},\"caxis\":{\"gridcolor\":\"white\",\"linecolor\":\"white\",\"ticks\":\"\"}},\"coloraxis\":{\"colorbar\":{\"outlinewidth\":0,\"ticks\":\"\"}},\"colorscale\":{\"sequential\":[[0.0,\"#0d0887\"],[0.1111111111111111,\"#46039f\"],[0.2222222222222222,\"#7201a8\"],[0.3333333333333333,\"#9c179e\"],[0.4444444444444444,\"#bd3786\"],[0.5555555555555556,\"#d8576b\"],[0.6666666666666666,\"#ed7953\"],[0.7777777777777778,\"#fb9f3a\"],[0.8888888888888888,\"#fdca26\"],[1.0,\"#f0f921\"]],\"sequentialminus\":[[0.0,\"#0d0887\"],[0.1111111111111111,\"#46039f\"],[0.2222222222222222,\"#7201a8\"],[0.3333333333333333,\"#9c179e\"],[0.4444444444444444,\"#bd3786\"],[0.5555555555555556,\"#d8576b\"],[0.6666666666666666,\"#ed7953\"],[0.7777777777777778,\"#fb9f3a\"],[0.8888888888888888,\"#fdca26\"],[1.0,\"#f0f921\"]],\"diverging\":[[0,\"#8e0152\"],[0.1,\"#c51b7d\"],[0.2,\"#de77ae\"],[0.3,\"#f1b6da\"],[0.4,\"#fde0ef\"],[0.5,\"#f7f7f7\"],[0.6,\"#e6f5d0\"],[0.7,\"#b8e186\"],[0.8,\"#7fbc41\"],[0.9,\"#4d9221\"],[1,\"#276419\"]]},\"xaxis\":{\"gridcolor\":\"white\",\"linecolor\":\"white\",\"ticks\":\"\",\"title\":{\"standoff\":15},\"zerolinecolor\":\"white\",\"automargin\":true,\"zerolinewidth\":2},\"yaxis\":{\"gridcolor\":\"white\",\"linecolor\":\"white\",\"ticks\":\"\",\"title\":{\"standoff\":15},\"zerolinecolor\":\"white\",\"automargin\":true,\"zerolinewidth\":2},\"scene\":{\"xaxis\":{\"backgroundcolor\":\"#E5ECF6\",\"gridcolor\":\"white\",\"linecolor\":\"white\",\"showbackground\":true,\"ticks\":\"\",\"zerolinecolor\":\"white\",\"gridwidth\":2},\"yaxis\":{\"backgroundcolor\":\"#E5ECF6\",\"gridcolor\":\"white\",\"linecolor\":\"white\",\"showbackground\":true,\"ticks\":\"\",\"zerolinecolor\":\"white\",\"gridwidth\":2},\"zaxis\":{\"backgroundcolor\":\"#E5ECF6\",\"gridcolor\":\"white\",\"linecolor\":\"white\",\"showbackground\":true,\"ticks\":\"\",\"zerolinecolor\":\"white\",\"gridwidth\":2}},\"shapedefaults\":{\"line\":{\"color\":\"#2a3f5f\"}},\"annotationdefaults\":{\"arrowcolor\":\"#2a3f5f\",\"arrowhead\":0,\"arrowwidth\":1},\"geo\":{\"bgcolor\":\"white\",\"landcolor\":\"#E5ECF6\",\"subunitcolor\":\"white\",\"showland\":true,\"showlakes\":true,\"lakecolor\":\"white\"},\"title\":{\"x\":0.05},\"mapbox\":{\"style\":\"light\"}}},\"title\":{\"text\":\"Rank Heatmap for Top 20 Models With and Without Style Control\"},\"xaxis\":{\"title\":{\"text\":\"Category\"}},\"yaxis\":{\"title\":{\"text\":\"Model\"}},\"height\":640},                        {\"responsive\": true}                    ).then(function(){\n",
              "                            \n",
              "var gd = document.getElementById('989b0c1c-070e-4e01-b372-86dd6b7f3307');\n",
              "var x = new MutationObserver(function (mutations, observer) {{\n",
              "        var display = window.getComputedStyle(gd).display;\n",
              "        if (!display || display === 'none') {{\n",
              "            console.log([gd, 'removed!']);\n",
              "            Plotly.purge(gd);\n",
              "            observer.disconnect();\n",
              "        }}\n",
              "}});\n",
              "\n",
              "// Listen for the removal of the full notebook cells\n",
              "var notebookContainer = gd.closest('#notebook-container');\n",
              "if (notebookContainer) {{\n",
              "    x.observe(notebookContainer, {childList: true});\n",
              "}}\n",
              "\n",
              "// Listen for the clearing of the current output cell\n",
              "var outputEl = gd.closest('.output');\n",
              "if (outputEl) {{\n",
              "    x.observe(outputEl, {childList: true});\n",
              "}}\n",
              "\n",
              "                        })                };            </script>        </div>\n",
              "</body>\n",
              "</html>"
            ],
            "image/png": "[encoded data removed]"
          },
          "metadata": {}
        }
      ],
      "source": [
        "def get_sc_category_results(df, selected_models, filter_mask = None, category_name=\"Overall w/ Style Control\", n_bootstrap=10, style_features=style_feature_cols):\n",
        "    #TODO\n",
        "    feature_labels = selected_models + style_features\n",
        "    if filter_mask != None:\n",
        "      df = df[filter_mask].copy()\n",
        "\n",
        "    pairwise_df = make_pairwise_feature_df(df, selected_models, style_features)\n",
        "    X_identity = np.array(pairwise_df['X'].tolist())\n",
        "    X_style = pairwise_df[style_features].values\n",
        "    X_with_style = np.hstack([X_identity, X_style])\n",
        "\n",
        "    y = pairwise_df['y'].values\n",
        "\n",
        "    rank_df, mean_scores, confidence_intervals = get_bootstrapped_score(\n",
        "        X_with_style,\n",
        "        y,\n",
        "        feature_labels,\n",
        "        category_name,\n",
        "        n_bootstrap\n",
        "    )\n",
        "    is_model = rank_df['Model'].isin(selected_models)\n",
        "\n",
        "    model_results = rank_df[is_model].copy()\n",
        "    style_results = rank_df[~is_model].copy()\n",
        "\n",
        "    model_results['Rank'] = model_results.apply(lambda r: assign_rank(r, model_results), axis=1)\n",
        "\n",
        "    style_results['Rank'] = -1\n",
        "\n",
        "    rank_df = pd.concat([model_results, style_results], ignore_index=True)\n",
        "    rank_df = rank_df[['Model', 'Category', 'Average Score', 'Lower Bound', 'Upper Bound', 'Rank']]\n",
        "\n",
        "    return rank_df.sort_values(by=\"Rank\", ascending=True)\n",
        "\n",
        "results_df_style_control = get_sc_category_results(selected_battles_no_ties, selected_models, category_name=\"Overall w/ Style Control\", n_bootstrap=10)\n",
        "results_df = results_df[['Model', 'Category', 'Average Score', 'Lower Bound', 'Upper Bound', 'Rank']]\n",
        "combined_results_df = pd.concat([results_df, results_df_style_control])\n",
        "fig = plot_rank_heatmap(combined_results_df, title=\"With and Without Style Control\")\n",
        "fig.show()"
      ]
    },
    {
      "cell_type": "code",
      "execution_count": null,
      "id": "62ba9842",
      "metadata": {
        "deletable": false,
        "editable": false,
        "id": "62ba9842",
        "colab": {
          "base_uri": "https://localhost:8080/",
          "height": 47
        },
        "outputId": "e9ceef43-14cc-4d9e-8a99-6adab36abf31"
      },
      "outputs": [
        {
          "output_type": "execute_result",
          "data": {
            "text/plain": [
              "q8c results: All test cases passed!"
            ],
            "text/html": [
              "<p><strong><pre style='display: inline;'>q8c</pre></strong> passed! 🙌</p>"
            ]
          },
          "metadata": {},
          "execution_count": 30
        }
      ],
      "source": [
        "grader.check(\"q8c\")"
      ]
    },
    {
      "cell_type": "markdown",
      "id": "7e76b413",
      "metadata": {
        "id": "7e76b413"
      },
      "source": [
        "### Look at the impact of style\n",
        "\n",
        "Now let's visualize the style feature scores with confidence intervals using our premade `plot_style_features` in `plotting_utils.py`."
      ]
    },
    {
      "cell_type": "code",
      "execution_count": null,
      "id": "60257612",
      "metadata": {
        "id": "60257612",
        "colab": {
          "base_uri": "https://localhost:8080/",
          "height": 542
        },
        "outputId": "1d898b4a-d657-4a76-a496-cf10dbeefe2a"
      },
      "outputs": [
        {
          "output_type": "display_data",
          "data": {
            "text/html": [
              "<html>\n",
              "<head><meta charset=\"utf-8\" /></head>\n",
              "<body>\n",
              "    <div>            <script src=\"https://cdnjs.cloudflare.com/ajax/libs/mathjax/2.7.5/MathJax.js?config=TeX-AMS-MML_SVG\"></script><script type=\"text/javascript\">if (window.MathJax && window.MathJax.Hub && window.MathJax.Hub.Config) {window.MathJax.Hub.Config({SVG: {font: \"STIX-Web\"}});}</script>                <script type=\"text/javascript\">window.PlotlyConfig = {MathJaxConfig: 'local'};</script>\n",
              "        <script charset=\"utf-8\" src=\"https://cdn.plot.ly/plotly-3.1.1.min.js\" integrity=\"sha256-HUEFyfiTnZJxCxur99FjbKYTvKSzwDaD3/x5TqHpFu4=\" crossorigin=\"anonymous\"></script>                <div id=\"022d34ed-9427-4408-9426-9ba884e5b5b3\" class=\"plotly-graph-div\" style=\"height:525px; width:100%;\"></div>            <script type=\"text/javascript\">                window.PLOTLYENV=window.PLOTLYENV || {};                                if (document.getElementById(\"022d34ed-9427-4408-9426-9ba884e5b5b3\")) {                    Plotly.newPlot(                        \"022d34ed-9427-4408-9426-9ba884e5b5b3\",                        [{\"error_y\":{\"array\":[0.02978025601448137],\"arrayminus\":[0.04555923959095391],\"color\":\"rgba(0,0,0,0.7)\",\"symmetric\":false,\"thickness\":2,\"type\":\"data\",\"width\":8},\"hovertemplate\":\"\\u003cb\\u003estyle_bold_count\\u003c\\u002fb\\u003e\\u003cbr\\u003eScore: -0.047\\u003cbr\\u003e95% CI: [-0.093, -0.018]\\u003cbr\\u003eRank: -1\",\"marker\":{\"size\":12},\"mode\":\"markers\",\"name\":\"style_bold_count\",\"showlegend\":false,\"x\":[\"style_bold_count\"],\"y\":[-0.04748262359785198],\"type\":\"scatter\"},{\"error_y\":{\"array\":[0.022171948315165696],\"arrayminus\":[0.022905906925517763],\"color\":\"rgba(0,0,0,0.7)\",\"symmetric\":false,\"thickness\":2,\"type\":\"data\",\"width\":8},\"hovertemplate\":\"\\u003cb\\u003estyle_header_count\\u003c\\u002fb\\u003e\\u003cbr\\u003eScore: 0.093\\u003cbr\\u003e95% CI: [0.071, 0.116]\\u003cbr\\u003eRank: -1\",\"marker\":{\"size\":12},\"mode\":\"markers\",\"name\":\"style_header_count\",\"showlegend\":false,\"x\":[\"style_header_count\"],\"y\":[0.093430415311611],\"type\":\"scatter\"},{\"error_y\":{\"array\":[0.033850212541987536],\"arrayminus\":[0.03237976563861446],\"color\":\"rgba(0,0,0,0.7)\",\"symmetric\":false,\"thickness\":2,\"type\":\"data\",\"width\":8},\"hovertemplate\":\"\\u003cb\\u003estyle_list_count\\u003c\\u002fb\\u003e\\u003cbr\\u003eScore: -0.046\\u003cbr\\u003e95% CI: [-0.079, -0.012]\\u003cbr\\u003eRank: -1\",\"marker\":{\"size\":12},\"mode\":\"markers\",\"name\":\"style_list_count\",\"showlegend\":false,\"x\":[\"style_list_count\"],\"y\":[-0.04624061549018871],\"type\":\"scatter\"},{\"error_y\":{\"array\":[0.08303972761084855],\"arrayminus\":[0.04715877694681536],\"color\":\"rgba(0,0,0,0.7)\",\"symmetric\":false,\"thickness\":2,\"type\":\"data\",\"width\":8},\"hovertemplate\":\"\\u003cb\\u003estyle_sum_assistant_tokens\\u003c\\u002fb\\u003e\\u003cbr\\u003eScore: 1.600\\u003cbr\\u003e95% CI: [1.553, 1.683]\\u003cbr\\u003eRank: -1\",\"marker\":{\"size\":12},\"mode\":\"markers\",\"name\":\"style_sum_assistant_tokens\",\"showlegend\":false,\"x\":[\"style_sum_assistant_tokens\"],\"y\":[1.6003354937009884],\"type\":\"scatter\"}],                        {\"template\":{\"data\":{\"barpolar\":[{\"marker\":{\"line\":{\"color\":\"white\",\"width\":0.5},\"pattern\":{\"fillmode\":\"overlay\",\"size\":10,\"solidity\":0.2}},\"type\":\"barpolar\"}],\"bar\":[{\"error_x\":{\"color\":\"#2a3f5f\"},\"error_y\":{\"color\":\"#2a3f5f\"},\"marker\":{\"line\":{\"color\":\"white\",\"width\":0.5},\"pattern\":{\"fillmode\":\"overlay\",\"size\":10,\"solidity\":0.2}},\"type\":\"bar\"}],\"carpet\":[{\"aaxis\":{\"endlinecolor\":\"#2a3f5f\",\"gridcolor\":\"#C8D4E3\",\"linecolor\":\"#C8D4E3\",\"minorgridcolor\":\"#C8D4E3\",\"startlinecolor\":\"#2a3f5f\"},\"baxis\":{\"endlinecolor\":\"#2a3f5f\",\"gridcolor\":\"#C8D4E3\",\"linecolor\":\"#C8D4E3\",\"minorgridcolor\":\"#C8D4E3\",\"startlinecolor\":\"#2a3f5f\"},\"type\":\"carpet\"}],\"choropleth\":[{\"colorbar\":{\"outlinewidth\":0,\"ticks\":\"\"},\"type\":\"choropleth\"}],\"contourcarpet\":[{\"colorbar\":{\"outlinewidth\":0,\"ticks\":\"\"},\"type\":\"contourcarpet\"}],\"contour\":[{\"colorbar\":{\"outlinewidth\":0,\"ticks\":\"\"},\"colorscale\":[[0.0,\"#0d0887\"],[0.1111111111111111,\"#46039f\"],[0.2222222222222222,\"#7201a8\"],[0.3333333333333333,\"#9c179e\"],[0.4444444444444444,\"#bd3786\"],[0.5555555555555556,\"#d8576b\"],[0.6666666666666666,\"#ed7953\"],[0.7777777777777778,\"#fb9f3a\"],[0.8888888888888888,\"#fdca26\"],[1.0,\"#f0f921\"]],\"type\":\"contour\"}],\"heatmap\":[{\"colorbar\":{\"outlinewidth\":0,\"ticks\":\"\"},\"colorscale\":[[0.0,\"#0d0887\"],[0.1111111111111111,\"#46039f\"],[0.2222222222222222,\"#7201a8\"],[0.3333333333333333,\"#9c179e\"],[0.4444444444444444,\"#bd3786\"],[0.5555555555555556,\"#d8576b\"],[0.6666666666666666,\"#ed7953\"],[0.7777777777777778,\"#fb9f3a\"],[0.8888888888888888,\"#fdca26\"],[1.0,\"#f0f921\"]],\"type\":\"heatmap\"}],\"histogram2dcontour\":[{\"colorbar\":{\"outlinewidth\":0,\"ticks\":\"\"},\"colorscale\":[[0.0,\"#0d0887\"],[0.1111111111111111,\"#46039f\"],[0.2222222222222222,\"#7201a8\"],[0.3333333333333333,\"#9c179e\"],[0.4444444444444444,\"#bd3786\"],[0.5555555555555556,\"#d8576b\"],[0.6666666666666666,\"#ed7953\"],[0.7777777777777778,\"#fb9f3a\"],[0.8888888888888888,\"#fdca26\"],[1.0,\"#f0f921\"]],\"type\":\"histogram2dcontour\"}],\"histogram2d\":[{\"colorbar\":{\"outlinewidth\":0,\"ticks\":\"\"},\"colorscale\":[[0.0,\"#0d0887\"],[0.1111111111111111,\"#46039f\"],[0.2222222222222222,\"#7201a8\"],[0.3333333333333333,\"#9c179e\"],[0.4444444444444444,\"#bd3786\"],[0.5555555555555556,\"#d8576b\"],[0.6666666666666666,\"#ed7953\"],[0.7777777777777778,\"#fb9f3a\"],[0.8888888888888888,\"#fdca26\"],[1.0,\"#f0f921\"]],\"type\":\"histogram2d\"}],\"histogram\":[{\"marker\":{\"pattern\":{\"fillmode\":\"overlay\",\"size\":10,\"solidity\":0.2}},\"type\":\"histogram\"}],\"mesh3d\":[{\"colorbar\":{\"outlinewidth\":0,\"ticks\":\"\"},\"type\":\"mesh3d\"}],\"parcoords\":[{\"line\":{\"colorbar\":{\"outlinewidth\":0,\"ticks\":\"\"}},\"type\":\"parcoords\"}],\"pie\":[{\"automargin\":true,\"type\":\"pie\"}],\"scatter3d\":[{\"line\":{\"colorbar\":{\"outlinewidth\":0,\"ticks\":\"\"}},\"marker\":{\"colorbar\":{\"outlinewidth\":0,\"ticks\":\"\"}},\"type\":\"scatter3d\"}],\"scattercarpet\":[{\"marker\":{\"colorbar\":{\"outlinewidth\":0,\"ticks\":\"\"}},\"type\":\"scattercarpet\"}],\"scattergeo\":[{\"marker\":{\"colorbar\":{\"outlinewidth\":0,\"ticks\":\"\"}},\"type\":\"scattergeo\"}],\"scattergl\":[{\"marker\":{\"colorbar\":{\"outlinewidth\":0,\"ticks\":\"\"}},\"type\":\"scattergl\"}],\"scattermapbox\":[{\"marker\":{\"colorbar\":{\"outlinewidth\":0,\"ticks\":\"\"}},\"type\":\"scattermapbox\"}],\"scattermap\":[{\"marker\":{\"colorbar\":{\"outlinewidth\":0,\"ticks\":\"\"}},\"type\":\"scattermap\"}],\"scatterpolargl\":[{\"marker\":{\"colorbar\":{\"outlinewidth\":0,\"ticks\":\"\"}},\"type\":\"scatterpolargl\"}],\"scatterpolar\":[{\"marker\":{\"colorbar\":{\"outlinewidth\":0,\"ticks\":\"\"}},\"type\":\"scatterpolar\"}],\"scatter\":[{\"fillpattern\":{\"fillmode\":\"overlay\",\"size\":10,\"solidity\":0.2},\"type\":\"scatter\"}],\"scatterternary\":[{\"marker\":{\"colorbar\":{\"outlinewidth\":0,\"ticks\":\"\"}},\"type\":\"scatterternary\"}],\"surface\":[{\"colorbar\":{\"outlinewidth\":0,\"ticks\":\"\"},\"colorscale\":[[0.0,\"#0d0887\"],[0.1111111111111111,\"#46039f\"],[0.2222222222222222,\"#7201a8\"],[0.3333333333333333,\"#9c179e\"],[0.4444444444444444,\"#bd3786\"],[0.5555555555555556,\"#d8576b\"],[0.6666666666666666,\"#ed7953\"],[0.7777777777777778,\"#fb9f3a\"],[0.8888888888888888,\"#fdca26\"],[1.0,\"#f0f921\"]],\"type\":\"surface\"}],\"table\":[{\"cells\":{\"fill\":{\"color\":\"#EBF0F8\"},\"line\":{\"color\":\"white\"}},\"header\":{\"fill\":{\"color\":\"#C8D4E3\"},\"line\":{\"color\":\"white\"}},\"type\":\"table\"}]},\"layout\":{\"annotationdefaults\":{\"arrowcolor\":\"#2a3f5f\",\"arrowhead\":0,\"arrowwidth\":1},\"autotypenumbers\":\"strict\",\"coloraxis\":{\"colorbar\":{\"outlinewidth\":0,\"ticks\":\"\"}},\"colorscale\":{\"diverging\":[[0,\"#8e0152\"],[0.1,\"#c51b7d\"],[0.2,\"#de77ae\"],[0.3,\"#f1b6da\"],[0.4,\"#fde0ef\"],[0.5,\"#f7f7f7\"],[0.6,\"#e6f5d0\"],[0.7,\"#b8e186\"],[0.8,\"#7fbc41\"],[0.9,\"#4d9221\"],[1,\"#276419\"]],\"sequential\":[[0.0,\"#0d0887\"],[0.1111111111111111,\"#46039f\"],[0.2222222222222222,\"#7201a8\"],[0.3333333333333333,\"#9c179e\"],[0.4444444444444444,\"#bd3786\"],[0.5555555555555556,\"#d8576b\"],[0.6666666666666666,\"#ed7953\"],[0.7777777777777778,\"#fb9f3a\"],[0.8888888888888888,\"#fdca26\"],[1.0,\"#f0f921\"]],\"sequentialminus\":[[0.0,\"#0d0887\"],[0.1111111111111111,\"#46039f\"],[0.2222222222222222,\"#7201a8\"],[0.3333333333333333,\"#9c179e\"],[0.4444444444444444,\"#bd3786\"],[0.5555555555555556,\"#d8576b\"],[0.6666666666666666,\"#ed7953\"],[0.7777777777777778,\"#fb9f3a\"],[0.8888888888888888,\"#fdca26\"],[1.0,\"#f0f921\"]]},\"colorway\":[\"#636efa\",\"#EF553B\",\"#00cc96\",\"#ab63fa\",\"#FFA15A\",\"#19d3f3\",\"#FF6692\",\"#B6E880\",\"#FF97FF\",\"#FECB52\"],\"font\":{\"color\":\"#2a3f5f\"},\"geo\":{\"bgcolor\":\"white\",\"lakecolor\":\"white\",\"landcolor\":\"white\",\"showlakes\":true,\"showland\":true,\"subunitcolor\":\"#C8D4E3\"},\"hoverlabel\":{\"align\":\"left\"},\"hovermode\":\"closest\",\"mapbox\":{\"style\":\"light\"},\"paper_bgcolor\":\"white\",\"plot_bgcolor\":\"white\",\"polar\":{\"angularaxis\":{\"gridcolor\":\"#EBF0F8\",\"linecolor\":\"#EBF0F8\",\"ticks\":\"\"},\"bgcolor\":\"white\",\"radialaxis\":{\"gridcolor\":\"#EBF0F8\",\"linecolor\":\"#EBF0F8\",\"ticks\":\"\"}},\"scene\":{\"xaxis\":{\"backgroundcolor\":\"white\",\"gridcolor\":\"#DFE8F3\",\"gridwidth\":2,\"linecolor\":\"#EBF0F8\",\"showbackground\":true,\"ticks\":\"\",\"zerolinecolor\":\"#EBF0F8\"},\"yaxis\":{\"backgroundcolor\":\"white\",\"gridcolor\":\"#DFE8F3\",\"gridwidth\":2,\"linecolor\":\"#EBF0F8\",\"showbackground\":true,\"ticks\":\"\",\"zerolinecolor\":\"#EBF0F8\"},\"zaxis\":{\"backgroundcolor\":\"white\",\"gridcolor\":\"#DFE8F3\",\"gridwidth\":2,\"linecolor\":\"#EBF0F8\",\"showbackground\":true,\"ticks\":\"\",\"zerolinecolor\":\"#EBF0F8\"}},\"shapedefaults\":{\"line\":{\"color\":\"#2a3f5f\"}},\"ternary\":{\"aaxis\":{\"gridcolor\":\"#DFE8F3\",\"linecolor\":\"#A2B1C6\",\"ticks\":\"\"},\"baxis\":{\"gridcolor\":\"#DFE8F3\",\"linecolor\":\"#A2B1C6\",\"ticks\":\"\"},\"bgcolor\":\"white\",\"caxis\":{\"gridcolor\":\"#DFE8F3\",\"linecolor\":\"#A2B1C6\",\"ticks\":\"\"}},\"title\":{\"x\":0.05},\"xaxis\":{\"automargin\":true,\"gridcolor\":\"#EBF0F8\",\"linecolor\":\"#EBF0F8\",\"ticks\":\"\",\"title\":{\"standoff\":15},\"zerolinecolor\":\"#EBF0F8\",\"zerolinewidth\":2},\"yaxis\":{\"automargin\":true,\"gridcolor\":\"#EBF0F8\",\"linecolor\":\"#EBF0F8\",\"ticks\":\"\",\"title\":{\"standoff\":15},\"zerolinecolor\":\"#EBF0F8\",\"zerolinewidth\":2}}},\"xaxis\":{\"title\":{\"text\":\"Style Feature\"},\"tickmode\":\"array\",\"tickvals\":[\"style_bold_count\",\"style_header_count\",\"style_list_count\",\"style_sum_assistant_tokens\"],\"ticktext\":[\"style_bold_count\",\"style_header_count\",\"style_list_count\",\"style_sum_assistant_tokens\"]},\"yaxis\":{\"title\":{\"text\":\"Average Score\"},\"zeroline\":true,\"zerolinewidth\":1,\"zerolinecolor\":\"gray\"},\"margin\":{\"l\":40,\"r\":20,\"t\":60,\"b\":80},\"title\":{\"text\":\"Style Feature Scores with Confidence Intervals\"}},                        {\"responsive\": true}                    ).then(function(){\n",
              "                            \n",
              "var gd = document.getElementById('022d34ed-9427-4408-9426-9ba884e5b5b3');\n",
              "var x = new MutationObserver(function (mutations, observer) {{\n",
              "        var display = window.getComputedStyle(gd).display;\n",
              "        if (!display || display === 'none') {{\n",
              "            console.log([gd, 'removed!']);\n",
              "            Plotly.purge(gd);\n",
              "            observer.disconnect();\n",
              "        }}\n",
              "}});\n",
              "\n",
              "// Listen for the removal of the full notebook cells\n",
              "var notebookContainer = gd.closest('#notebook-container');\n",
              "if (notebookContainer) {{\n",
              "    x.observe(notebookContainer, {childList: true});\n",
              "}}\n",
              "\n",
              "// Listen for the clearing of the current output cell\n",
              "var outputEl = gd.closest('.output');\n",
              "if (outputEl) {{\n",
              "    x.observe(outputEl, {childList: true});\n",
              "}}\n",
              "\n",
              "                        })                };            </script>        </div>\n",
              "</body>\n",
              "</html>"
            ],
            "image/png": "[encoded data removed]"
          },
          "metadata": {}
        }
      ],
      "source": [
        "# plot style feature coefficients\n",
        "fig = plot_style_features(results_df_style_control, selected_models)\n",
        "fig.show()"
      ]
    },
    {
      "cell_type": "markdown",
      "id": "ae5cf53a",
      "metadata": {
        "id": "ae5cf53a"
      },
      "source": [
        "Here we see that length matters a LOT (in fact this coefficient is higher than the actual model coefficients), while things like bold and lists don't matter as much."
      ]
    },
    {
      "cell_type": "markdown",
      "id": "1e6bca54",
      "metadata": {
        "id": "1e6bca54"
      },
      "source": [
        "Here we can quickly see which models are \"Style hacking\" - formatting their responses nicely but not necessarily being more capable models. It looks like gpt-4o-mini and llama-3.1-70b-instruct see a consistent drop in rankings while models like claude 3.5 sonnet see a consistent rise in rankings."
      ]
    },
    {
      "cell_type": "markdown",
      "id": "2555507f",
      "metadata": {
        "id": "2555507f"
      },
      "source": [
        "# **Question 9: Finding New Style Influences**"
      ]
    },
    {
      "cell_type": "markdown",
      "id": "e12cf387",
      "metadata": {
        "id": "e12cf387"
      },
      "source": [
        "\n",
        "Earlier, we saw how model preference differs by looking at structural style features in model outputs (e.g., bold text count, header count, list count, token length).\n",
        "Now let's see if we can find new style features by inspecting the model responses to understand differences in models.\n",
        "Let's inspect 🔍 the text ourselves for stylistic signals associated with wins. Your goal is to analyze assistant responses and identify phrases that differentiate winning from losing replies. This helps surface style features we might add to our ranking model later."
      ]
    },
    {
      "cell_type": "markdown",
      "id": "a9aa9f98",
      "metadata": {
        "id": "a9aa9f98"
      },
      "source": [
        "### Helper Functions\n",
        "Function to turn a conversations into plain text:\n",
        "*   convert_conversation_to_string\n",
        "*   convert_asst_conversation_to_string\n",
        "\n",
        "Function that compares two text with n-gram TF-IDF:\n",
        "*   tfidf_phrase_diff"
      ]
    },
    {
      "cell_type": "code",
      "execution_count": null,
      "id": "4f9f2d5d",
      "metadata": {
        "id": "4f9f2d5d"
      },
      "outputs": [],
      "source": [
        "def convert_conversation_to_string(conv):\n",
        "  ret = \"\"\n",
        "  for i in conv:\n",
        "    if i['role'] == 'user':\n",
        "      ret += \"User: \" + i['content'] + \"\\n\\n\"\n",
        "    else:\n",
        "      ret += \"Assistant: \" + i['content'] + \"\\n\\n\"\n",
        "  return ret\n",
        "\n",
        "def convert_asst_conversation_to_string(conv):\n",
        "  ret = \"\"\n",
        "  for i in conv:\n",
        "    if i['role'] == 'assistant':\n",
        "      ret += i['content'] + \"\\n\\n\"\n",
        "  return ret"
      ]
    },
    {
      "cell_type": "code",
      "execution_count": null,
      "id": "b8dae933",
      "metadata": {
        "id": "b8dae933"
      },
      "outputs": [],
      "source": [
        "import numpy as np\n",
        "import pandas as pd\n",
        "import re\n",
        "from sklearn.feature_extraction.text import TfidfVectorizer\n",
        "\n",
        "def is_number_phrase(phrase):\n",
        "    # Remove phrases that are only numbers or contain only numbers and spaces/punctuation\n",
        "    # Also remove phrases that are just a number or start/end with a number\n",
        "    return bool(re.fullmatch(r\"[\\d\\s\\W]+\", phrase)) or bool(re.search(r\"\\b\\d+\\b\", phrase))\n",
        "\n",
        "def tfidf_phrase_diff(str_list_a, str_list_b, name_a=\"A\", name_b=\"B\", top_n=30, max_features=1000):\n",
        "    \"\"\"\n",
        "    Compute distinguishing ngram tfidf phrases between two sets of strings.\n",
        "    Returns two DataFrames: one for phrases more common in A, one for B.\n",
        "    \"\"\"\n",
        "    all_texts = str_list_a + str_list_b\n",
        "    labels = [name_a] * len(str_list_a) + [name_b] * len(str_list_b)\n",
        "    vectorizer = TfidfVectorizer(max_features=max_features, stop_words='english', ngram_range=(2,4))\n",
        "    tfidf_matrix = vectorizer.fit_transform(all_texts)\n",
        "    feature_names = vectorizer.get_feature_names_out()\n",
        "    n = len(str_list_a)\n",
        "    tfidf_a = tfidf_matrix[:n]\n",
        "    tfidf_b = tfidf_matrix[n:]\n",
        "    mean_a = np.asarray(tfidf_a.mean(axis=0)).flatten()\n",
        "    mean_b = np.asarray(tfidf_b.mean(axis=0)).flatten()\n",
        "    # Top phrases for A\n",
        "    a_scores = mean_a - mean_b\n",
        "    top_a_indices = np.argsort(a_scores)[::-1]\n",
        "    top_a_phrases = []\n",
        "    for i in top_a_indices:\n",
        "        phrase = feature_names[i]\n",
        "        if not is_number_phrase(phrase):\n",
        "            top_a_phrases.append((phrase, mean_a[i], mean_b[i]))\n",
        "        if len(top_a_phrases) >= top_n:\n",
        "            break\n",
        "    # Top phrases for B\n",
        "    b_scores = mean_b - mean_a\n",
        "    top_b_indices = np.argsort(b_scores)[::-1]\n",
        "    top_b_phrases = []\n",
        "    for i in top_b_indices:\n",
        "        phrase = feature_names[i]\n",
        "        if not is_number_phrase(phrase):\n",
        "            top_b_phrases.append((phrase, mean_b[i], mean_a[i]))\n",
        "        if len(top_b_phrases) >= top_n:\n",
        "            break\n",
        "    df_a = pd.DataFrame(top_a_phrases, columns=[\"phrase\", f\"{name_a}_tfidf\", f\"{name_b}_tfidf\"])\n",
        "    df_b = pd.DataFrame(top_b_phrases, columns=[\"phrase\", f\"{name_b}_tfidf\", f\"{name_a}_tfidf\"])\n",
        "    return df_a, df_b"
      ]
    },
    {
      "cell_type": "code",
      "execution_count": null,
      "id": "4fea8e3c",
      "metadata": {
        "id": "4fea8e3c",
        "colab": {
          "base_uri": "https://localhost:8080/"
        },
        "outputId": "8bd7d2f3-c796-4cdf-fe41-d16ff73cd38c"
      },
      "outputs": [
        {
          "output_type": "stream",
          "name": "stdout",
          "text": [
            "Top llama-3.1-70b-instruct phrases:\n",
            "Top others phrases:\n"
          ]
        }
      ],
      "source": [
        "# Example usage:\n",
        "model = \"llama-3.1-70b-instruct\"\n",
        "llama_battles = selected_battles_no_ties[\n",
        "    ((selected_battles_no_ties['model_a'] == model) | (selected_battles_no_ties['model_b'] == model)) &\n",
        "    (selected_battles_no_ties['language'] == 'English')\n",
        "].copy()\n",
        "\n",
        "llama_battles.loc[:, \"model_a_conversation_string\"] = llama_battles[\"conversation_a\"].apply(convert_asst_conversation_to_string)\n",
        "llama_battles.loc[:, \"model_b_conversation_string\"] = llama_battles[\"conversation_b\"].apply(convert_asst_conversation_to_string)\n",
        "\n",
        "str_list_a = llama_battles.apply(lambda x: x[\"model_a_conversation_string\"] if x[\"model_a\"] == model else x[\"model_b_conversation_string\"], axis=1).tolist()\n",
        "str_list_b = llama_battles.apply(lambda x: x[\"model_b_conversation_string\"] if x[\"model_a\"] == model else x[\"model_a_conversation_string\"], axis=1).tolist()\n",
        "# print(str_list_a)\n",
        "\n",
        "df_a, df_b = tfidf_phrase_diff(str_list_a, str_list_b, model, \"others\")\n",
        "\n",
        "print(f\"Top {model} phrases:\")\n",
        "# display(df_a)\n",
        "print(f\"Top others phrases:\")\n",
        "# display(df_b)"
      ]
    },
    {
      "cell_type": "markdown",
      "id": "15260449",
      "metadata": {
        "deletable": false,
        "editable": false,
        "id": "15260449"
      },
      "source": [
        "# **Question 9a: Key Phrases**"
      ]
    },
    {
      "cell_type": "markdown",
      "id": "79b827ed",
      "metadata": {
        "deletable": false,
        "editable": false,
        "id": "79b827ed"
      },
      "source": [
        "Let's analyze which phrases inherent in the text might be related to the win or lose of the battles. This is a similar idea to VibeCheck except (1) instead of comparing model pairs we are comparing winning vs losing models and (2) instead of using LLMs to propose and validate vibes, we are going to be relying on keyword matching.\n",
        "\n",
        "Using the helper functions provided (`convert_asst_conversation_to_string`, `tfidf_phrase_diff`) and the reference example as guidance, implement a winning-vs-losing phrase analysis for assistant responses.\n",
        "\n",
        "\n",
        "\n",
        "\n",
        "**Task:**\n",
        "\n",
        "1. From selected_battles_no_ties, keep only rows in English.\n",
        "\n",
        "2. For each battle, extract assistant-only text using convert_asst_conversation_to_string.\n",
        "\n",
        "3. Build winning_responses: one assistant-only string for the winning side of each battle.\n",
        "\n",
        "4. Build losing_responses: one assistant-only string for the losing side of each battle.\n",
        "\n",
        "5. Use tfidf_phrase_diff to compare the two lists and construct df_win and df_lose. (we have set this up for you)\n",
        "\n",
        "6. Display the results to see the phrases most associated with winning vs. losing. (we have set this up for you)\n",
        "\n",
        "For your reference, a sample subset of outputs is shown below."
      ]
    },
    {
      "cell_type": "markdown",
      "id": "fb94bc89",
      "metadata": {
        "deletable": false,
        "editable": false,
        "id": "fb94bc89"
      },
      "source": [
        "### Example: Top phrases in *winning* responses\n",
        "| phrase              | winning_tfidf | losing_tfidf |\n",
        "|---------------------|---------------|--------------|\n",
        "| let break           | 0.0127        | 0.0106       |\n",
        "| step step           | 0.0146        | 0.0126       |\\\n",
        "| ... |...       | ...     |\n",
        "\n",
        "### Example: Top phrases in *losing* responses\n",
        "| phrase                 | losing_tfidf | winning_tfidf |\n",
        "|------------------------|--------------|----------------|\n",
        "| let know               | 0.0278       | 0.0190         |\n",
        "| sorry assist           | 0.0054       | 0.0003         |\n",
        "| ...     | ...      | ...  |\n"
      ]
    },
    {
      "cell_type": "code",
      "execution_count": null,
      "id": "6b998c99",
      "metadata": {
        "id": "6b998c99",
        "tags": [
          "otter_answer_cell"
        ],
        "collapsed": true
      },
      "outputs": [],
      "source": [
        "# TFIDF comparing winning responses to losing responses\n",
        "\n",
        "# 1) Restrict to English Only and prepare assistant-only strings for A/B\n",
        "# Use 'convert_asst_conversation_to_string' helper function\n",
        "selected_battles_english = selected_battles_no_ties[selected_battles_no_ties['language'] == 'English']\n",
        "selected_battles_english['model_a_conversation_string'] = selected_battles_english['conversation_a'].apply(convert_asst_conversation_to_string)\n",
        "selected_battles_english['model_b_conversation_string'] = selected_battles_english['conversation_b'].apply(convert_asst_conversation_to_string)\n",
        "\n",
        "\n",
        "# 2) Build lists of assistant-only winning/losing responses\n",
        "winning_responses = selected_battles_english.apply(\n",
        "    lambda row: row['model_a_conversation_string'] if row['winner'] == 'model_a' else row['model_b_conversation_string'],\n",
        "    axis=1\n",
        ").tolist()\n",
        "\n",
        "losing_responses = selected_battles_english.apply(\n",
        "    lambda row: row['model_b_conversation_string'] if row['winner'] == 'model_a' else row['model_a_conversation_string'],\n",
        "    axis=1\n",
        ").tolist()\n",
        "\n",
        "# 3) Compare phrases\n",
        "df_win, df_lose = tfidf_phrase_diff(winning_responses, losing_responses, \"winning\", \"losing\")\n",
        "# 4) Show results\n",
        "print(\"Top winning response phrases:\")\n",
        "display(df_win)\n",
        "print(\"Top losing response phrases:\")\n",
        "display(df_lose)"
      ]
    },
    {
      "cell_type": "code",
      "execution_count": null,
      "id": "23288a07",
      "metadata": {
        "deletable": false,
        "editable": false,
        "id": "23288a07",
        "colab": {
          "base_uri": "https://localhost:8080/",
          "height": 47
        },
        "outputId": "740820e4-e0ca-4640-8d02-f5f2aa63182a"
      },
      "outputs": [
        {
          "output_type": "execute_result",
          "data": {
            "text/plain": [
              "q9a results: All test cases passed!"
            ],
            "text/html": [
              "<p><strong><pre style='display: inline;'>q9a</pre></strong> passed! 🚀</p>"
            ]
          },
          "metadata": {},
          "execution_count": 36
        }
      ],
      "source": [
        "grader.check(\"q9a\")"
      ]
    },
    {
      "cell_type": "markdown",
      "id": "050d061c",
      "metadata": {
        "id": "050d061c"
      },
      "source": [
        "## Feature Exploration"
      ]
    },
    {
      "cell_type": "markdown",
      "id": "df91c861",
      "metadata": {
        "id": "df91c861"
      },
      "source": [
        "\n",
        "New let's look at how we can add in a new style feature. Below we have an example of adding a `refusal_count` feature. Phrases like \"i'm sorry\" or \"i apologize\" appear more often in losing models - when looking through these conversations you will see that these are often instances of **refusal**: where the model refuses to answer the question because it violates ethical guidelines or is out of its domain of knowledge. Now let's turn this into a style feature to measure its impact on accuracy.\n",
        "\n",
        "\n",
        "Let's try capturing whether the assistant on side A which apologizes more than side B in a battle by calculating the normalized sorry_count_diff. Here we will just have a binary 1/0 for each conversation indicating if it contains or does not contain the word \"sorry\" or \"apologize\"."
      ]
    },
    {
      "cell_type": "code",
      "execution_count": null,
      "id": "b99cddcb",
      "metadata": {
        "id": "b99cddcb"
      },
      "outputs": [],
      "source": [
        "def count_phrase_diff(row, phrase=[\"step by step\"]):\n",
        "    step_by_step_a = False\n",
        "    step_by_step_b = False\n",
        "    for i in row[\"conversation_a\"]:\n",
        "        if i[\"role\"] == \"assistant\" and any([p in i[\"content\"].lower().replace(\"-\", \" \") for p in phrase]):\n",
        "            step_by_step_a = True\n",
        "    for i in row[\"conversation_b\"]:\n",
        "        if i[\"role\"] == \"assistant\" and any([p in i[\"content\"].lower().replace(\"-\", \" \") for p in phrase]):\n",
        "            step_by_step_b = True\n",
        "    return int(step_by_step_a) - int(step_by_step_b)\n",
        "\n",
        "\n",
        "selected_battles_no_ties.loc[:, \"refusal_count\"] = selected_battles_no_ties.apply(\n",
        "    lambda row: count_phrase_diff(row, [\"sorry\", \"apologize\"]),\n",
        "    axis=1\n",
        ")"
      ]
    },
    {
      "cell_type": "markdown",
      "id": "202f8ea4",
      "metadata": {
        "deletable": false,
        "editable": false,
        "id": "202f8ea4"
      },
      "source": [
        "<!-- BEGIN QUESTION -->\n",
        "\n",
        "# **Question 9b: Discover Some Immaculate Vibes**"
      ]
    },
    {
      "cell_type": "markdown",
      "id": "74132817",
      "metadata": {
        "deletable": false,
        "editable": false,
        "id": "74132817"
      },
      "source": [
        "**Task:**\n",
        "Now, just like the `refusal_count` feature we created above, implement new functions that can extract any stylistic features from the conversations.  \n",
        "- Define a function that computes the normalized difference for a feature of your choice (e.g., presence of certain phrases, punctuation, formatting). You can check multiple different phrases if you want, they just to have a common \"theme\" - similar to the last problem of the previous part of this homework.   \n",
        "- Apply this function to each row in the dataset.  \n",
        "- Store the results in a new column of `selected_battles_no_ties[\"YOUR_FEATURE\"]`.\n",
        "- Plot the change in ranking and style coefficients and the existing style features along with your custom feature. **To get full points, your feature needs to get a higher magnitude coefficient [abs(Average Score)] than `style_header_count`**. It is okay if the confidence intervals overlap or if your coeffieinct is negative, as long as the absolute value is higher.\n",
        "- You cannot use a feature already explored or anything similar (e.g. you can't have an \"I refuse\" style feature or a word count style feature).\n",
        "\n",
        "This is open ended, you don't need to use the features you found above, get creative with it! Heck, you can even throw response pairs into your LLM of choice and ask it to come up with differences just like VibeCheck!"
      ]
    },
    {
      "cell_type": "code",
      "execution_count": null,
      "id": "124abc8d",
      "metadata": {
        "id": "124abc8d",
        "tags": [
          "otter_answer_cell"
        ],
        "colab": {
          "base_uri": "https://localhost:8080/",
          "height": 1000
        },
        "outputId": "f919a0b7-cea7-4294-97f7-b51eac8dc526"
      },
      "outputs": [
        {
          "output_type": "display_data",
          "data": {
            "text/html": [
              "<html>\n",
              "<head><meta charset=\"utf-8\" /></head>\n",
              "<body>\n",
              "    <div>            <script src=\"https://cdnjs.cloudflare.com/ajax/libs/mathjax/2.7.5/MathJax.js?config=TeX-AMS-MML_SVG\"></script><script type=\"text/javascript\">if (window.MathJax && window.MathJax.Hub && window.MathJax.Hub.Config) {window.MathJax.Hub.Config({SVG: {font: \"STIX-Web\"}});}</script>                <script type=\"text/javascript\">window.PlotlyConfig = {MathJaxConfig: 'local'};</script>\n",
              "        <script charset=\"utf-8\" src=\"https://cdn.plot.ly/plotly-3.1.1.min.js\" integrity=\"sha256-HUEFyfiTnZJxCxur99FjbKYTvKSzwDaD3/x5TqHpFu4=\" crossorigin=\"anonymous\"></script>                <div id=\"f81de017-cfb6-4d9c-b7b0-02097ef06208\" class=\"plotly-graph-div\" style=\"height:640px; width:100%;\"></div>            <script type=\"text/javascript\">                window.PLOTLYENV=window.PLOTLYENV || {};                                if (document.getElementById(\"f81de017-cfb6-4d9c-b7b0-02097ef06208\")) {                    Plotly.newPlot(                        \"f81de017-cfb6-4d9c-b7b0-02097ef06208\",                        [{\"colorscale\":[[0.0,\"#fde725\"],[0.1111111111111111,\"#b5de2b\"],[0.2222222222222222,\"#6ece58\"],[0.3333333333333333,\"#35b779\"],[0.4444444444444444,\"#1f9e89\"],[0.5555555555555556,\"#26828e\"],[0.6666666666666666,\"#31688e\"],[0.7777777777777778,\"#3e4989\"],[0.8888888888888888,\"#482878\"],[1.0,\"#440154\"]],\"hovertemplate\":\"Model: %{y}\\u003cbr\\u003eCategory: %{x}\\u003cbr\\u003eRank: %{z}\\u003cextra\\u003e\\u003c\\u002fextra\\u003e\",\"showscale\":false,\"text\":{\"dtype\":\"i1\",\"bdata\":\"FBMSFBEQEBAQEA8ODQ4NDAwMCwcIBwgLCAcFBgUCBAIDAgMGAgIBAQ==\",\"shape\":\"20, 2\"},\"textfont\":{\"size\":10},\"texttemplate\":\"%{text}\",\"x\":[\"Overall\",\"Overall w\\u002f Style Control\"],\"y\":[\"llama-3-8b-instruct\",\"llama-3.1-8b-instruct\",\"claude-3-haiku-20240307\",\"qwen2-72b-instruct\",\"gemma-2-9b-it\",\"llama-3-70b-instruct\",\"deepseek-v2-api-0628\",\"gemma-2-27b-it\",\"gemini-1.5-flash-api-0514\",\"claude-3-opus-20240229\",\"gemini-1.5-pro-api-0514\",\"llama-3.1-70b-instruct\",\"gpt-4-turbo-2024-04-09\",\"llama-3.1-405b-instruct\",\"claude-3-5-sonnet-20240620\",\"gpt-4o-2024-08-06\",\"gpt-4o-2024-05-13\",\"gpt-4o-mini-2024-07-18\",\"gemini-1.5-pro-exp-0801\",\"chatgpt-4o-latest\"],\"z\":{\"dtype\":\"i1\",\"bdata\":\"FBMSFBEQEBAQEA8ODQ4NDAwMCwcIBwgLCAcFBgUCBAIDAgMGAgIBAQ==\",\"shape\":\"20, 2\"},\"type\":\"heatmap\"}],                        {\"template\":{\"data\":{\"histogram2dcontour\":[{\"type\":\"histogram2dcontour\",\"colorbar\":{\"outlinewidth\":0,\"ticks\":\"\"},\"colorscale\":[[0.0,\"#0d0887\"],[0.1111111111111111,\"#46039f\"],[0.2222222222222222,\"#7201a8\"],[0.3333333333333333,\"#9c179e\"],[0.4444444444444444,\"#bd3786\"],[0.5555555555555556,\"#d8576b\"],[0.6666666666666666,\"#ed7953\"],[0.7777777777777778,\"#fb9f3a\"],[0.8888888888888888,\"#fdca26\"],[1.0,\"#f0f921\"]]}],\"choropleth\":[{\"type\":\"choropleth\",\"colorbar\":{\"outlinewidth\":0,\"ticks\":\"\"}}],\"histogram2d\":[{\"type\":\"histogram2d\",\"colorbar\":{\"outlinewidth\":0,\"ticks\":\"\"},\"colorscale\":[[0.0,\"#0d0887\"],[0.1111111111111111,\"#46039f\"],[0.2222222222222222,\"#7201a8\"],[0.3333333333333333,\"#9c179e\"],[0.4444444444444444,\"#bd3786\"],[0.5555555555555556,\"#d8576b\"],[0.6666666666666666,\"#ed7953\"],[0.7777777777777778,\"#fb9f3a\"],[0.8888888888888888,\"#fdca26\"],[1.0,\"#f0f921\"]]}],\"heatmap\":[{\"type\":\"heatmap\",\"colorbar\":{\"outlinewidth\":0,\"ticks\":\"\"},\"colorscale\":[[0.0,\"#0d0887\"],[0.1111111111111111,\"#46039f\"],[0.2222222222222222,\"#7201a8\"],[0.3333333333333333,\"#9c179e\"],[0.4444444444444444,\"#bd3786\"],[0.5555555555555556,\"#d8576b\"],[0.6666666666666666,\"#ed7953\"],[0.7777777777777778,\"#fb9f3a\"],[0.8888888888888888,\"#fdca26\"],[1.0,\"#f0f921\"]]}],\"contourcarpet\":[{\"type\":\"contourcarpet\",\"colorbar\":{\"outlinewidth\":0,\"ticks\":\"\"}}],\"contour\":[{\"type\":\"contour\",\"colorbar\":{\"outlinewidth\":0,\"ticks\":\"\"},\"colorscale\":[[0.0,\"#0d0887\"],[0.1111111111111111,\"#46039f\"],[0.2222222222222222,\"#7201a8\"],[0.3333333333333333,\"#9c179e\"],[0.4444444444444444,\"#bd3786\"],[0.5555555555555556,\"#d8576b\"],[0.6666666666666666,\"#ed7953\"],[0.7777777777777778,\"#fb9f3a\"],[0.8888888888888888,\"#fdca26\"],[1.0,\"#f0f921\"]]}],\"surface\":[{\"type\":\"surface\",\"colorbar\":{\"outlinewidth\":0,\"ticks\":\"\"},\"colorscale\":[[0.0,\"#0d0887\"],[0.1111111111111111,\"#46039f\"],[0.2222222222222222,\"#7201a8\"],[0.3333333333333333,\"#9c179e\"],[0.4444444444444444,\"#bd3786\"],[0.5555555555555556,\"#d8576b\"],[0.6666666666666666,\"#ed7953\"],[0.7777777777777778,\"#fb9f3a\"],[0.8888888888888888,\"#fdca26\"],[1.0,\"#f0f921\"]]}],\"mesh3d\":[{\"type\":\"mesh3d\",\"colorbar\":{\"outlinewidth\":0,\"ticks\":\"\"}}],\"scatter\":[{\"fillpattern\":{\"fillmode\":\"overlay\",\"size\":10,\"solidity\":0.2},\"type\":\"scatter\"}],\"parcoords\":[{\"type\":\"parcoords\",\"line\":{\"colorbar\":{\"outlinewidth\":0,\"ticks\":\"\"}}}],\"scatterpolargl\":[{\"type\":\"scatterpolargl\",\"marker\":{\"colorbar\":{\"outlinewidth\":0,\"ticks\":\"\"}}}],\"bar\":[{\"error_x\":{\"color\":\"#2a3f5f\"},\"error_y\":{\"color\":\"#2a3f5f\"},\"marker\":{\"line\":{\"color\":\"#E5ECF6\",\"width\":0.5},\"pattern\":{\"fillmode\":\"overlay\",\"size\":10,\"solidity\":0.2}},\"type\":\"bar\"}],\"scattergeo\":[{\"type\":\"scattergeo\",\"marker\":{\"colorbar\":{\"outlinewidth\":0,\"ticks\":\"\"}}}],\"scatterpolar\":[{\"type\":\"scatterpolar\",\"marker\":{\"colorbar\":{\"outlinewidth\":0,\"ticks\":\"\"}}}],\"histogram\":[{\"marker\":{\"pattern\":{\"fillmode\":\"overlay\",\"size\":10,\"solidity\":0.2}},\"type\":\"histogram\"}],\"scattergl\":[{\"type\":\"scattergl\",\"marker\":{\"colorbar\":{\"outlinewidth\":0,\"ticks\":\"\"}}}],\"scatter3d\":[{\"type\":\"scatter3d\",\"line\":{\"colorbar\":{\"outlinewidth\":0,\"ticks\":\"\"}},\"marker\":{\"colorbar\":{\"outlinewidth\":0,\"ticks\":\"\"}}}],\"scattermap\":[{\"type\":\"scattermap\",\"marker\":{\"colorbar\":{\"outlinewidth\":0,\"ticks\":\"\"}}}],\"scattermapbox\":[{\"type\":\"scattermapbox\",\"marker\":{\"colorbar\":{\"outlinewidth\":0,\"ticks\":\"\"}}}],\"scatterternary\":[{\"type\":\"scatterternary\",\"marker\":{\"colorbar\":{\"outlinewidth\":0,\"ticks\":\"\"}}}],\"scattercarpet\":[{\"type\":\"scattercarpet\",\"marker\":{\"colorbar\":{\"outlinewidth\":0,\"ticks\":\"\"}}}],\"carpet\":[{\"aaxis\":{\"endlinecolor\":\"#2a3f5f\",\"gridcolor\":\"white\",\"linecolor\":\"white\",\"minorgridcolor\":\"white\",\"startlinecolor\":\"#2a3f5f\"},\"baxis\":{\"endlinecolor\":\"#2a3f5f\",\"gridcolor\":\"white\",\"linecolor\":\"white\",\"minorgridcolor\":\"white\",\"startlinecolor\":\"#2a3f5f\"},\"type\":\"carpet\"}],\"table\":[{\"cells\":{\"fill\":{\"color\":\"#EBF0F8\"},\"line\":{\"color\":\"white\"}},\"header\":{\"fill\":{\"color\":\"#C8D4E3\"},\"line\":{\"color\":\"white\"}},\"type\":\"table\"}],\"barpolar\":[{\"marker\":{\"line\":{\"color\":\"#E5ECF6\",\"width\":0.5},\"pattern\":{\"fillmode\":\"overlay\",\"size\":10,\"solidity\":0.2}},\"type\":\"barpolar\"}],\"pie\":[{\"automargin\":true,\"type\":\"pie\"}]},\"layout\":{\"autotypenumbers\":\"strict\",\"colorway\":[\"#636efa\",\"#EF553B\",\"#00cc96\",\"#ab63fa\",\"#FFA15A\",\"#19d3f3\",\"#FF6692\",\"#B6E880\",\"#FF97FF\",\"#FECB52\"],\"font\":{\"color\":\"#2a3f5f\"},\"hovermode\":\"closest\",\"hoverlabel\":{\"align\":\"left\"},\"paper_bgcolor\":\"white\",\"plot_bgcolor\":\"#E5ECF6\",\"polar\":{\"bgcolor\":\"#E5ECF6\",\"angularaxis\":{\"gridcolor\":\"white\",\"linecolor\":\"white\",\"ticks\":\"\"},\"radialaxis\":{\"gridcolor\":\"white\",\"linecolor\":\"white\",\"ticks\":\"\"}},\"ternary\":{\"bgcolor\":\"#E5ECF6\",\"aaxis\":{\"gridcolor\":\"white\",\"linecolor\":\"white\",\"ticks\":\"\"},\"baxis\":{\"gridcolor\":\"white\",\"linecolor\":\"white\",\"ticks\":\"\"},\"caxis\":{\"gridcolor\":\"white\",\"linecolor\":\"white\",\"ticks\":\"\"}},\"coloraxis\":{\"colorbar\":{\"outlinewidth\":0,\"ticks\":\"\"}},\"colorscale\":{\"sequential\":[[0.0,\"#0d0887\"],[0.1111111111111111,\"#46039f\"],[0.2222222222222222,\"#7201a8\"],[0.3333333333333333,\"#9c179e\"],[0.4444444444444444,\"#bd3786\"],[0.5555555555555556,\"#d8576b\"],[0.6666666666666666,\"#ed7953\"],[0.7777777777777778,\"#fb9f3a\"],[0.8888888888888888,\"#fdca26\"],[1.0,\"#f0f921\"]],\"sequentialminus\":[[0.0,\"#0d0887\"],[0.1111111111111111,\"#46039f\"],[0.2222222222222222,\"#7201a8\"],[0.3333333333333333,\"#9c179e\"],[0.4444444444444444,\"#bd3786\"],[0.5555555555555556,\"#d8576b\"],[0.6666666666666666,\"#ed7953\"],[0.7777777777777778,\"#fb9f3a\"],[0.8888888888888888,\"#fdca26\"],[1.0,\"#f0f921\"]],\"diverging\":[[0,\"#8e0152\"],[0.1,\"#c51b7d\"],[0.2,\"#de77ae\"],[0.3,\"#f1b6da\"],[0.4,\"#fde0ef\"],[0.5,\"#f7f7f7\"],[0.6,\"#e6f5d0\"],[0.7,\"#b8e186\"],[0.8,\"#7fbc41\"],[0.9,\"#4d9221\"],[1,\"#276419\"]]},\"xaxis\":{\"gridcolor\":\"white\",\"linecolor\":\"white\",\"ticks\":\"\",\"title\":{\"standoff\":15},\"zerolinecolor\":\"white\",\"automargin\":true,\"zerolinewidth\":2},\"yaxis\":{\"gridcolor\":\"white\",\"linecolor\":\"white\",\"ticks\":\"\",\"title\":{\"standoff\":15},\"zerolinecolor\":\"white\",\"automargin\":true,\"zerolinewidth\":2},\"scene\":{\"xaxis\":{\"backgroundcolor\":\"#E5ECF6\",\"gridcolor\":\"white\",\"linecolor\":\"white\",\"showbackground\":true,\"ticks\":\"\",\"zerolinecolor\":\"white\",\"gridwidth\":2},\"yaxis\":{\"backgroundcolor\":\"#E5ECF6\",\"gridcolor\":\"white\",\"linecolor\":\"white\",\"showbackground\":true,\"ticks\":\"\",\"zerolinecolor\":\"white\",\"gridwidth\":2},\"zaxis\":{\"backgroundcolor\":\"#E5ECF6\",\"gridcolor\":\"white\",\"linecolor\":\"white\",\"showbackground\":true,\"ticks\":\"\",\"zerolinecolor\":\"white\",\"gridwidth\":2}},\"shapedefaults\":{\"line\":{\"color\":\"#2a3f5f\"}},\"annotationdefaults\":{\"arrowcolor\":\"#2a3f5f\",\"arrowhead\":0,\"arrowwidth\":1},\"geo\":{\"bgcolor\":\"white\",\"landcolor\":\"#E5ECF6\",\"subunitcolor\":\"white\",\"showland\":true,\"showlakes\":true,\"lakecolor\":\"white\"},\"title\":{\"x\":0.05},\"mapbox\":{\"style\":\"light\"}}},\"title\":{\"text\":\"Rank Heatmap for Top 20 Models With and Without Style Control (New Features)\"},\"xaxis\":{\"title\":{\"text\":\"Category\"}},\"yaxis\":{\"title\":{\"text\":\"Model\"}},\"height\":640},                        {\"responsive\": true}                    ).then(function(){\n",
              "                            \n",
              "var gd = document.getElementById('f81de017-cfb6-4d9c-b7b0-02097ef06208');\n",
              "var x = new MutationObserver(function (mutations, observer) {{\n",
              "        var display = window.getComputedStyle(gd).display;\n",
              "        if (!display || display === 'none') {{\n",
              "            console.log([gd, 'removed!']);\n",
              "            Plotly.purge(gd);\n",
              "            observer.disconnect();\n",
              "        }}\n",
              "}});\n",
              "\n",
              "// Listen for the removal of the full notebook cells\n",
              "var notebookContainer = gd.closest('#notebook-container');\n",
              "if (notebookContainer) {{\n",
              "    x.observe(notebookContainer, {childList: true});\n",
              "}}\n",
              "\n",
              "// Listen for the clearing of the current output cell\n",
              "var outputEl = gd.closest('.output');\n",
              "if (outputEl) {{\n",
              "    x.observe(outputEl, {childList: true});\n",
              "}}\n",
              "\n",
              "                        })                };            </script>        </div>\n",
              "</body>\n",
              "</html>"
            ],
            "image/png": "[encoded data removed]"
          },
          "metadata": {}
        },
        {
          "output_type": "display_data",
          "data": {
            "text/html": [
              "<html>\n",
              "<head><meta charset=\"utf-8\" /></head>\n",
              "<body>\n",
              "    <div>            <script src=\"https://cdnjs.cloudflare.com/ajax/libs/mathjax/2.7.5/MathJax.js?config=TeX-AMS-MML_SVG\"></script><script type=\"text/javascript\">if (window.MathJax && window.MathJax.Hub && window.MathJax.Hub.Config) {window.MathJax.Hub.Config({SVG: {font: \"STIX-Web\"}});}</script>                <script type=\"text/javascript\">window.PlotlyConfig = {MathJaxConfig: 'local'};</script>\n",
              "        <script charset=\"utf-8\" src=\"https://cdn.plot.ly/plotly-3.1.1.min.js\" integrity=\"sha256-HUEFyfiTnZJxCxur99FjbKYTvKSzwDaD3/x5TqHpFu4=\" crossorigin=\"anonymous\"></script>                <div id=\"1924cf54-6036-43c7-be19-9cbcb452ed04\" class=\"plotly-graph-div\" style=\"height:525px; width:100%;\"></div>            <script type=\"text/javascript\">                window.PLOTLYENV=window.PLOTLYENV || {};                                if (document.getElementById(\"1924cf54-6036-43c7-be19-9cbcb452ed04\")) {                    Plotly.newPlot(                        \"1924cf54-6036-43c7-be19-9cbcb452ed04\",                        [{\"error_y\":{\"array\":[0.030737983773147633],\"arrayminus\":[0.046406047758849996],\"color\":\"rgba(0,0,0,0.7)\",\"symmetric\":false,\"thickness\":2,\"type\":\"data\",\"width\":8},\"hovertemplate\":\"\\u003cb\\u003estyle_bold_count\\u003c\\u002fb\\u003e\\u003cbr\\u003eScore: -0.044\\u003cbr\\u003e95% CI: [-0.090, -0.013]\\u003cbr\\u003eRank: -1\",\"marker\":{\"size\":12},\"mode\":\"markers\",\"name\":\"style_bold_count\",\"showlegend\":false,\"x\":[\"style_bold_count\"],\"y\":[-0.04404349170416783],\"type\":\"scatter\"},{\"error_y\":{\"array\":[0.021904185201870707],\"arrayminus\":[0.022360020557886953],\"color\":\"rgba(0,0,0,0.7)\",\"symmetric\":false,\"thickness\":2,\"type\":\"data\",\"width\":8},\"hovertemplate\":\"\\u003cb\\u003estyle_header_count\\u003c\\u002fb\\u003e\\u003cbr\\u003eScore: 0.096\\u003cbr\\u003e95% CI: [0.073, 0.118]\\u003cbr\\u003eRank: -1\",\"marker\":{\"size\":12},\"mode\":\"markers\",\"name\":\"style_header_count\",\"showlegend\":false,\"x\":[\"style_header_count\"],\"y\":[0.09560210761666635],\"type\":\"scatter\"},{\"error_y\":{\"array\":[0.0743411677339772],\"arrayminus\":[0.08152973975842803],\"color\":\"rgba(0,0,0,0.7)\",\"symmetric\":false,\"thickness\":2,\"type\":\"data\",\"width\":8},\"hovertemplate\":\"\\u003cb\\u003erefusal_count\\u003c\\u002fb\\u003e\\u003cbr\\u003eScore: -0.423\\u003cbr\\u003e95% CI: [-0.504, -0.348]\\u003cbr\\u003eRank: -1\",\"marker\":{\"size\":12},\"mode\":\"markers\",\"name\":\"refusal_count\",\"showlegend\":false,\"x\":[\"refusal_count\"],\"y\":[-0.42260797967697583],\"type\":\"scatter\"},{\"error_y\":{\"array\":[0.04024390795194632],\"arrayminus\":[0.04556733716820749],\"color\":\"rgba(0,0,0,0.7)\",\"symmetric\":false,\"thickness\":2,\"type\":\"data\",\"width\":8},\"hovertemplate\":\"\\u003cb\\u003eYOUR_FEATURE\\u003c\\u002fb\\u003e\\u003cbr\\u003eScore: -0.126\\u003cbr\\u003e95% CI: [-0.172, -0.086]\\u003cbr\\u003eRank: -1\",\"marker\":{\"size\":12},\"mode\":\"markers\",\"name\":\"YOUR_FEATURE\",\"showlegend\":false,\"x\":[\"YOUR_FEATURE\"],\"y\":[-0.12604306896255357],\"type\":\"scatter\"},{\"error_y\":{\"array\":[0.032169805512997925],\"arrayminus\":[0.032338954893936275],\"color\":\"rgba(0,0,0,0.7)\",\"symmetric\":false,\"thickness\":2,\"type\":\"data\",\"width\":8},\"hovertemplate\":\"\\u003cb\\u003estyle_list_count\\u003c\\u002fb\\u003e\\u003cbr\\u003eScore: -0.053\\u003cbr\\u003e95% CI: [-0.085, -0.020]\\u003cbr\\u003eRank: -1\",\"marker\":{\"size\":12},\"mode\":\"markers\",\"name\":\"style_list_count\",\"showlegend\":false,\"x\":[\"style_list_count\"],\"y\":[-0.052515714181500694],\"type\":\"scatter\"},{\"error_y\":{\"array\":[0.08467926369915202],\"arrayminus\":[0.04854592648990508],\"color\":\"rgba(0,0,0,0.7)\",\"symmetric\":false,\"thickness\":2,\"type\":\"data\",\"width\":8},\"hovertemplate\":\"\\u003cb\\u003estyle_sum_assistant_tokens\\u003c\\u002fb\\u003e\\u003cbr\\u003eScore: 1.600\\u003cbr\\u003e95% CI: [1.551, 1.684]\\u003cbr\\u003eRank: -1\",\"marker\":{\"size\":12},\"mode\":\"markers\",\"name\":\"style_sum_assistant_tokens\",\"showlegend\":false,\"x\":[\"style_sum_assistant_tokens\"],\"y\":[1.5996347310841483],\"type\":\"scatter\"}],                        {\"template\":{\"data\":{\"barpolar\":[{\"marker\":{\"line\":{\"color\":\"white\",\"width\":0.5},\"pattern\":{\"fillmode\":\"overlay\",\"size\":10,\"solidity\":0.2}},\"type\":\"barpolar\"}],\"bar\":[{\"error_x\":{\"color\":\"#2a3f5f\"},\"error_y\":{\"color\":\"#2a3f5f\"},\"marker\":{\"line\":{\"color\":\"white\",\"width\":0.5},\"pattern\":{\"fillmode\":\"overlay\",\"size\":10,\"solidity\":0.2}},\"type\":\"bar\"}],\"carpet\":[{\"aaxis\":{\"endlinecolor\":\"#2a3f5f\",\"gridcolor\":\"#C8D4E3\",\"linecolor\":\"#C8D4E3\",\"minorgridcolor\":\"#C8D4E3\",\"startlinecolor\":\"#2a3f5f\"},\"baxis\":{\"endlinecolor\":\"#2a3f5f\",\"gridcolor\":\"#C8D4E3\",\"linecolor\":\"#C8D4E3\",\"minorgridcolor\":\"#C8D4E3\",\"startlinecolor\":\"#2a3f5f\"},\"type\":\"carpet\"}],\"choropleth\":[{\"colorbar\":{\"outlinewidth\":0,\"ticks\":\"\"},\"type\":\"choropleth\"}],\"contourcarpet\":[{\"colorbar\":{\"outlinewidth\":0,\"ticks\":\"\"},\"type\":\"contourcarpet\"}],\"contour\":[{\"colorbar\":{\"outlinewidth\":0,\"ticks\":\"\"},\"colorscale\":[[0.0,\"#0d0887\"],[0.1111111111111111,\"#46039f\"],[0.2222222222222222,\"#7201a8\"],[0.3333333333333333,\"#9c179e\"],[0.4444444444444444,\"#bd3786\"],[0.5555555555555556,\"#d8576b\"],[0.6666666666666666,\"#ed7953\"],[0.7777777777777778,\"#fb9f3a\"],[0.8888888888888888,\"#fdca26\"],[1.0,\"#f0f921\"]],\"type\":\"contour\"}],\"heatmap\":[{\"colorbar\":{\"outlinewidth\":0,\"ticks\":\"\"},\"colorscale\":[[0.0,\"#0d0887\"],[0.1111111111111111,\"#46039f\"],[0.2222222222222222,\"#7201a8\"],[0.3333333333333333,\"#9c179e\"],[0.4444444444444444,\"#bd3786\"],[0.5555555555555556,\"#d8576b\"],[0.6666666666666666,\"#ed7953\"],[0.7777777777777778,\"#fb9f3a\"],[0.8888888888888888,\"#fdca26\"],[1.0,\"#f0f921\"]],\"type\":\"heatmap\"}],\"histogram2dcontour\":[{\"colorbar\":{\"outlinewidth\":0,\"ticks\":\"\"},\"colorscale\":[[0.0,\"#0d0887\"],[0.1111111111111111,\"#46039f\"],[0.2222222222222222,\"#7201a8\"],[0.3333333333333333,\"#9c179e\"],[0.4444444444444444,\"#bd3786\"],[0.5555555555555556,\"#d8576b\"],[0.6666666666666666,\"#ed7953\"],[0.7777777777777778,\"#fb9f3a\"],[0.8888888888888888,\"#fdca26\"],[1.0,\"#f0f921\"]],\"type\":\"histogram2dcontour\"}],\"histogram2d\":[{\"colorbar\":{\"outlinewidth\":0,\"ticks\":\"\"},\"colorscale\":[[0.0,\"#0d0887\"],[0.1111111111111111,\"#46039f\"],[0.2222222222222222,\"#7201a8\"],[0.3333333333333333,\"#9c179e\"],[0.4444444444444444,\"#bd3786\"],[0.5555555555555556,\"#d8576b\"],[0.6666666666666666,\"#ed7953\"],[0.7777777777777778,\"#fb9f3a\"],[0.8888888888888888,\"#fdca26\"],[1.0,\"#f0f921\"]],\"type\":\"histogram2d\"}],\"histogram\":[{\"marker\":{\"pattern\":{\"fillmode\":\"overlay\",\"size\":10,\"solidity\":0.2}},\"type\":\"histogram\"}],\"mesh3d\":[{\"colorbar\":{\"outlinewidth\":0,\"ticks\":\"\"},\"type\":\"mesh3d\"}],\"parcoords\":[{\"line\":{\"colorbar\":{\"outlinewidth\":0,\"ticks\":\"\"}},\"type\":\"parcoords\"}],\"pie\":[{\"automargin\":true,\"type\":\"pie\"}],\"scatter3d\":[{\"line\":{\"colorbar\":{\"outlinewidth\":0,\"ticks\":\"\"}},\"marker\":{\"colorbar\":{\"outlinewidth\":0,\"ticks\":\"\"}},\"type\":\"scatter3d\"}],\"scattercarpet\":[{\"marker\":{\"colorbar\":{\"outlinewidth\":0,\"ticks\":\"\"}},\"type\":\"scattercarpet\"}],\"scattergeo\":[{\"marker\":{\"colorbar\":{\"outlinewidth\":0,\"ticks\":\"\"}},\"type\":\"scattergeo\"}],\"scattergl\":[{\"marker\":{\"colorbar\":{\"outlinewidth\":0,\"ticks\":\"\"}},\"type\":\"scattergl\"}],\"scattermapbox\":[{\"marker\":{\"colorbar\":{\"outlinewidth\":0,\"ticks\":\"\"}},\"type\":\"scattermapbox\"}],\"scattermap\":[{\"marker\":{\"colorbar\":{\"outlinewidth\":0,\"ticks\":\"\"}},\"type\":\"scattermap\"}],\"scatterpolargl\":[{\"marker\":{\"colorbar\":{\"outlinewidth\":0,\"ticks\":\"\"}},\"type\":\"scatterpolargl\"}],\"scatterpolar\":[{\"marker\":{\"colorbar\":{\"outlinewidth\":0,\"ticks\":\"\"}},\"type\":\"scatterpolar\"}],\"scatter\":[{\"fillpattern\":{\"fillmode\":\"overlay\",\"size\":10,\"solidity\":0.2},\"type\":\"scatter\"}],\"scatterternary\":[{\"marker\":{\"colorbar\":{\"outlinewidth\":0,\"ticks\":\"\"}},\"type\":\"scatterternary\"}],\"surface\":[{\"colorbar\":{\"outlinewidth\":0,\"ticks\":\"\"},\"colorscale\":[[0.0,\"#0d0887\"],[0.1111111111111111,\"#46039f\"],[0.2222222222222222,\"#7201a8\"],[0.3333333333333333,\"#9c179e\"],[0.4444444444444444,\"#bd3786\"],[0.5555555555555556,\"#d8576b\"],[0.6666666666666666,\"#ed7953\"],[0.7777777777777778,\"#fb9f3a\"],[0.8888888888888888,\"#fdca26\"],[1.0,\"#f0f921\"]],\"type\":\"surface\"}],\"table\":[{\"cells\":{\"fill\":{\"color\":\"#EBF0F8\"},\"line\":{\"color\":\"white\"}},\"header\":{\"fill\":{\"color\":\"#C8D4E3\"},\"line\":{\"color\":\"white\"}},\"type\":\"table\"}]},\"layout\":{\"annotationdefaults\":{\"arrowcolor\":\"#2a3f5f\",\"arrowhead\":0,\"arrowwidth\":1},\"autotypenumbers\":\"strict\",\"coloraxis\":{\"colorbar\":{\"outlinewidth\":0,\"ticks\":\"\"}},\"colorscale\":{\"diverging\":[[0,\"#8e0152\"],[0.1,\"#c51b7d\"],[0.2,\"#de77ae\"],[0.3,\"#f1b6da\"],[0.4,\"#fde0ef\"],[0.5,\"#f7f7f7\"],[0.6,\"#e6f5d0\"],[0.7,\"#b8e186\"],[0.8,\"#7fbc41\"],[0.9,\"#4d9221\"],[1,\"#276419\"]],\"sequential\":[[0.0,\"#0d0887\"],[0.1111111111111111,\"#46039f\"],[0.2222222222222222,\"#7201a8\"],[0.3333333333333333,\"#9c179e\"],[0.4444444444444444,\"#bd3786\"],[0.5555555555555556,\"#d8576b\"],[0.6666666666666666,\"#ed7953\"],[0.7777777777777778,\"#fb9f3a\"],[0.8888888888888888,\"#fdca26\"],[1.0,\"#f0f921\"]],\"sequentialminus\":[[0.0,\"#0d0887\"],[0.1111111111111111,\"#46039f\"],[0.2222222222222222,\"#7201a8\"],[0.3333333333333333,\"#9c179e\"],[0.4444444444444444,\"#bd3786\"],[0.5555555555555556,\"#d8576b\"],[0.6666666666666666,\"#ed7953\"],[0.7777777777777778,\"#fb9f3a\"],[0.8888888888888888,\"#fdca26\"],[1.0,\"#f0f921\"]]},\"colorway\":[\"#636efa\",\"#EF553B\",\"#00cc96\",\"#ab63fa\",\"#FFA15A\",\"#19d3f3\",\"#FF6692\",\"#B6E880\",\"#FF97FF\",\"#FECB52\"],\"font\":{\"color\":\"#2a3f5f\"},\"geo\":{\"bgcolor\":\"white\",\"lakecolor\":\"white\",\"landcolor\":\"white\",\"showlakes\":true,\"showland\":true,\"subunitcolor\":\"#C8D4E3\"},\"hoverlabel\":{\"align\":\"left\"},\"hovermode\":\"closest\",\"mapbox\":{\"style\":\"light\"},\"paper_bgcolor\":\"white\",\"plot_bgcolor\":\"white\",\"polar\":{\"angularaxis\":{\"gridcolor\":\"#EBF0F8\",\"linecolor\":\"#EBF0F8\",\"ticks\":\"\"},\"bgcolor\":\"white\",\"radialaxis\":{\"gridcolor\":\"#EBF0F8\",\"linecolor\":\"#EBF0F8\",\"ticks\":\"\"}},\"scene\":{\"xaxis\":{\"backgroundcolor\":\"white\",\"gridcolor\":\"#DFE8F3\",\"gridwidth\":2,\"linecolor\":\"#EBF0F8\",\"showbackground\":true,\"ticks\":\"\",\"zerolinecolor\":\"#EBF0F8\"},\"yaxis\":{\"backgroundcolor\":\"white\",\"gridcolor\":\"#DFE8F3\",\"gridwidth\":2,\"linecolor\":\"#EBF0F8\",\"showbackground\":true,\"ticks\":\"\",\"zerolinecolor\":\"#EBF0F8\"},\"zaxis\":{\"backgroundcolor\":\"white\",\"gridcolor\":\"#DFE8F3\",\"gridwidth\":2,\"linecolor\":\"#EBF0F8\",\"showbackground\":true,\"ticks\":\"\",\"zerolinecolor\":\"#EBF0F8\"}},\"shapedefaults\":{\"line\":{\"color\":\"#2a3f5f\"}},\"ternary\":{\"aaxis\":{\"gridcolor\":\"#DFE8F3\",\"linecolor\":\"#A2B1C6\",\"ticks\":\"\"},\"baxis\":{\"gridcolor\":\"#DFE8F3\",\"linecolor\":\"#A2B1C6\",\"ticks\":\"\"},\"bgcolor\":\"white\",\"caxis\":{\"gridcolor\":\"#DFE8F3\",\"linecolor\":\"#A2B1C6\",\"ticks\":\"\"}},\"title\":{\"x\":0.05},\"xaxis\":{\"automargin\":true,\"gridcolor\":\"#EBF0F8\",\"linecolor\":\"#EBF0F8\",\"ticks\":\"\",\"title\":{\"standoff\":15},\"zerolinecolor\":\"#EBF0F8\",\"zerolinewidth\":2},\"yaxis\":{\"automargin\":true,\"gridcolor\":\"#EBF0F8\",\"linecolor\":\"#EBF0F8\",\"ticks\":\"\",\"title\":{\"standoff\":15},\"zerolinecolor\":\"#EBF0F8\",\"zerolinewidth\":2}}},\"xaxis\":{\"title\":{\"text\":\"Style Feature\"},\"tickmode\":\"array\",\"tickvals\":[\"style_bold_count\",\"style_header_count\",\"refusal_count\",\"YOUR_FEATURE\",\"style_list_count\",\"style_sum_assistant_tokens\"],\"ticktext\":[\"style_bold_count\",\"style_header_count\",\"refusal_count\",\"YOUR_FEATURE\",\"style_list_count\",\"style_sum_assistant_tokens\"]},\"yaxis\":{\"title\":{\"text\":\"Average Score\"},\"zeroline\":true,\"zerolinewidth\":1,\"zerolinecolor\":\"gray\"},\"margin\":{\"l\":40,\"r\":20,\"t\":60,\"b\":80},\"title\":{\"text\":\"Style Feature Scores with Confidence Intervals\"}},                        {\"responsive\": true}                    ).then(function(){\n",
              "                            \n",
              "var gd = document.getElementById('1924cf54-6036-43c7-be19-9cbcb452ed04');\n",
              "var x = new MutationObserver(function (mutations, observer) {{\n",
              "        var display = window.getComputedStyle(gd).display;\n",
              "        if (!display || display === 'none') {{\n",
              "            console.log([gd, 'removed!']);\n",
              "            Plotly.purge(gd);\n",
              "            observer.disconnect();\n",
              "        }}\n",
              "}});\n",
              "\n",
              "// Listen for the removal of the full notebook cells\n",
              "var notebookContainer = gd.closest('#notebook-container');\n",
              "if (notebookContainer) {{\n",
              "    x.observe(notebookContainer, {childList: true});\n",
              "}}\n",
              "\n",
              "// Listen for the clearing of the current output cell\n",
              "var outputEl = gd.closest('.output');\n",
              "if (outputEl) {{\n",
              "    x.observe(outputEl, {childList: true});\n",
              "}}\n",
              "\n",
              "                        })                };            </script>        </div>\n",
              "</body>\n",
              "</html>"
            ],
            "image/png": "[encoded data removed]"
          },
          "metadata": {}
        }
      ],
      "source": [
        "# Design your own stylistic feature(s) that compare model A vs B on each row.\n",
        "# Keep it simple (boolean presence, counts, or normalized differences) or get creative.\n",
        "\n",
        "# Remember might want to normalize difference, if you compute counts\n",
        "\n",
        "# TODO: Define your feature function\n",
        "def YOUR_FUNC(row):\n",
        "    #Input: a row with 'conversation_a' and 'conversation_b' (each is a list of {role, content} dicts).\n",
        "    #Output: a single numeric feature comparing A vs B (e.g., -1/0/1, count diff, or normalized diff).\n",
        "    #Hint: You probably want to inspect only assistant messages.\n",
        "    # Example (placeholder): return 0\n",
        "    keywords = [\n",
        "        \"i understand\", \"i can understand\", \"i see\", \"i can see\", \"i get\",\n",
        "        \"sorry\", \"glad\", \"feel\", \"felt\", \"upset\", \"happy\", \"sad\",\n",
        "        \"that sounds\", \"makes sense\", \"i can imagine\", \"i know how you feel\"\n",
        "    ]\n",
        "\n",
        "    def normdiff(a, b):\n",
        "      denom = a + b\n",
        "      return 0 if denom == 0 else (a - b) / denom\n",
        "\n",
        "    def count_style_empathy(row):\n",
        "        count_a = 0\n",
        "        count_b = 0\n",
        "        for i in row[\"conversation_a\"]:\n",
        "            if i[\"role\"] == \"assistant\":\n",
        "              text = i.get(\"content\", \"\")\n",
        "              for pattern in keywords:\n",
        "                count_a += len(re.findall(pattern, text, flags=re.MULTILINE))\n",
        "\n",
        "        for i in row[\"conversation_b\"]:\n",
        "            if i[\"role\"] == \"assistant\":\n",
        "              text = i.get(\"content\", \"\")\n",
        "              for pattern in keywords:\n",
        "                count_b += len(re.findall(pattern, text, flags=re.MULTILINE))\n",
        "\n",
        "        return count_a, count_b\n",
        "\n",
        "\n",
        "    # Count empathy cue occurrences for both models\n",
        "    count_a, count_b = count_style_empathy(row)\n",
        "\n",
        "    # Normalize the difference\n",
        "    return normdiff(count_a, count_b)\n",
        "\n",
        "# TODO: Apply your function to create a new column\n",
        "selected_battles_no_ties.loc[:, \"YOUR_FEATURE\"] = selected_battles_no_ties.apply(YOUR_FUNC, axis=1)\n",
        "\n",
        "# Choose which style features to control for in ranking.\n",
        "# Start from this list and add yours below.\n",
        "style_feature_cols = [\n",
        "    \"style_bold_count\",\n",
        "    \"style_header_count\",\n",
        "    \"style_list_count\",\n",
        "    \"style_sum_assistant_tokens\",\n",
        "    \"refusal_count\",\n",
        "    \"YOUR_FEATURE\"\n",
        "]\n",
        "\n",
        "combined_results_df_new = get_sc_category_results(selected_battles_no_ties,\n",
        "                                 selected_models,\n",
        "                                 category_name=\"Overall w/ Style Control\",\n",
        "                                 n_bootstrap=10,\n",
        "                                 style_features=style_feature_cols)\n",
        "\n",
        "fig = plot_rank_heatmap(pd.concat([results_df, combined_results_df_new]), title=\"With and Without Style Control (New Features)\", selected_models=selected_models)\n",
        "fig.show()\n",
        "\n",
        "# Create and display the plot\n",
        "fig = plot_style_features(combined_results_df_new, selected_models)\n",
        "fig.show()"
      ]
    },
    {
      "cell_type": "markdown",
      "id": "f2d3977a",
      "metadata": {
        "deletable": false,
        "editable": false,
        "id": "f2d3977a"
      },
      "source": [
        "<!-- END QUESTION -->\n",
        "\n",
        "<!-- BEGIN QUESTION -->\n",
        "\n",
        "# **Question 9c: Reflection**\n",
        "\n",
        "**Answer the following questions**"
      ]
    },
    {
      "cell_type": "markdown",
      "id": "48bd172c",
      "metadata": {
        "deletable": false,
        "editable": false,
        "id": "48bd172c"
      },
      "source": [
        "```otter\n",
        "9c-1. Why did you decide to use the stylistic feature that you have implemented for Q9b? What ranking changes across models did you see when looking at the new style features you created? Why do you think that is the case?\n",
        "\n",
        "9c-2. Why might some models overuse or underuse stylistic markers (e.g., exclamation points, apologies, or explicit reasoning phrases), and how could that influence rankings?\n",
        "\n",
        "9c-3. How does including these stylistic features help control for length or formatting effects when building leaderboards?\n",
        "```"
      ]
    },
    {
      "cell_type": "markdown",
      "id": "fa6cb66b",
      "metadata": {
        "tags": [
          "otter_answer_cell"
        ],
        "vscode": {
          "languageId": "raw"
        },
        "id": "fa6cb66b"
      },
      "source": [
        "\n",
        "YOUR ANSWER 9c-1:\n",
        "\n",
        "I chose the empathy feature because some models (such as GPT-4o) tend to produce more empathetic responses compared to others. After controlling for this feature, I observed that the rankings of models like GPT-4o-mini and LLaMA-based models slightly decreased, while interestingly, the Claude-3-Opus model performed better.\n",
        "\n",
        "YOUR ANSWER 9c-2:\n",
        "\n",
        "Similar to what is discussed in the VibeCheck paper, regardless of how accurate a model is, certain styles or “vibes” in responses are often preferred by users. Many models are fine-tuned to align with these preferences to increase user satisfaction. As a result, leaderboard rankings can be influenced by stylistic traits rather than true accuracy or reasoning ability, which may inflate a model’s apparent performance.\n",
        "\n",
        "YOUR ANSWER 9c-3:\n",
        "\n",
        "By including stylistic features such as formatting, empathy, or punctuation usage in the regression model, we can statistically control for the effect of style on win rates. This adjustment ensures that models are ranked for their content quality rather than superficial traits like longer answers, excessive markdown, or friendlier tone. In other words, it creates a length and style controlled leaderboard, where scores reflect substantive performance rather than presentation bias.\n"
      ]
    },
    {
      "cell_type": "markdown",
      "id": "3c9c64f4",
      "metadata": {
        "deletable": false,
        "editable": false,
        "id": "3c9c64f4"
      },
      "source": [
        "<!-- END QUESTION -->\n",
        "\n"
      ]
    },
    {
      "cell_type": "markdown",
      "id": "7ece2186",
      "metadata": {
        "deletable": false,
        "editable": false,
        "id": "7ece2186"
      },
      "source": [
        "## Submission\n",
        "\n",
        "Make sure you have run all cells in your notebook in order before running the cell below, so that all images/graphs appear in the output. The cell below will generate a zip file for you to submit. **Please save before exporting!**"
      ]
    },
    {
      "cell_type": "code",
      "execution_count": null,
      "id": "549a791d",
      "metadata": {
        "id": "549a791d"
      },
      "outputs": [],
      "source": [
        "## Use this cell if you are running the notebook in Google Colab to install the necessary dependencies, this may take a few minutes\n",
        "if IS_COLAB:\n",
        "    !apt-get install -y texlive texlive-xetex pandoc\n"
      ]
    },
    {
      "cell_type": "code",
      "source": [
        "from google.colab import drive\n",
        "drive.mount('/content/drive')"
      ],
      "metadata": {
        "colab": {
          "base_uri": "https://localhost:8080/"
        },
        "id": "j4gFpqi1OZ4T",
        "outputId": "03d97e53-299a-4f45-d0aa-2533cbcdf02e"
      },
      "id": "j4gFpqi1OZ4T",
      "execution_count": null,
      "outputs": [
        {
          "output_type": "stream",
          "name": "stdout",
          "text": [
            "Drive already mounted at /content/drive; to attempt to forcibly remount, call drive.mount(\"/content/drive\", force_remount=True).\n"
          ]
        }
      ]
    },
    {
      "cell_type": "code",
      "execution_count": null,
      "id": "f75d7aca",
      "metadata": {
        "deletable": false,
        "editable": false,
        "id": "f75d7aca",
        "colab": {
          "base_uri": "https://localhost:8080/",
          "height": 475
        },
        "outputId": "60a7e3a8-cba6-45f8-ca0c-33aec2505784"
      },
      "outputs": [
        {
          "output_type": "stream",
          "name": "stdout",
          "text": [
            "Running your submission against local test cases...\n",
            "\n",
            "\n",
            "Your submission received the following results when run against available test cases:\n",
            "\n",
            "    q4a results: All test cases passed!\n",
            "\n",
            "    q4b results: All test cases passed!\n",
            "\n",
            "    q5a results: All test cases passed!\n",
            "\n",
            "    q5b results: All test cases passed!\n",
            "\n",
            "    q7a results: All test cases passed!\n",
            "\n",
            "    q7b results: All test cases passed!\n",
            "\n",
            "    q8a results: All test cases passed!\n",
            "\n",
            "    q8b results: All test cases passed!\n",
            "\n",
            "    q8c results: All test cases passed!\n",
            "\n",
            "    q9a results: All test cases passed!\n"
          ]
        },
        {
          "output_type": "display_data",
          "data": {
            "text/plain": [
              "<IPython.core.display.HTML object>"
            ],
            "text/html": [
              "\n",
              "                    <p>\n",
              "                        Your submission has been exported. Click\n",
              "                        <a href=\"arena_style_control_2025_10_17T22_49_18_351187.zip\" download=\"arena_style_control_2025_10_17T22_49_18_351187.zip\" target=\"_blank\">here</a> to download\n",
              "                        the zip file.\n",
              "                    </p>\n",
              "                "
            ]
          },
          "metadata": {}
        }
      ],
      "source": [
        "# Save your notebook first, then run this cell to export your submission.\n",
        "grader.export(pdf=False, run_tests=True)"
      ]
    },
    {
      "cell_type": "markdown",
      "id": "45bea8b6",
      "metadata": {
        "id": "45bea8b6"
      },
      "source": []
    }
  ],
  "metadata": {
    "jupytext": {
      "formats": "ipynb,py:percent"
    },
    "kernelspec": {
      "display_name": "Python 3",
      "name": "python3"
    },
    "language_info": {
      "codemirror_mode": {
        "name": "ipython",
        "version": 3
      },
      "file_extension": ".py",
      "mimetype": "text/x-python",
      "name": "python",
      "nbconvert_exporter": "python",
      "pygments_lexer": "ipython3",
      "version": "3.11.13"
    },
    "otter": {
      "OK_FORMAT": true,
      "tests": {
        "q4a": {
          "name": "q4a",
          "points": 2,
          "suites": [
            {
              "cases": [
                {
                  "code": ">>> X_test, y_test = turn_into_features(selected_battles_no_ties, selected_models)\n>>> expected_rows = 2 * len(selected_battles_no_ties)\n>>> expected_cols = len(selected_models)\n>>> assert X_test.shape == (expected_rows, expected_cols), f'shape of X does not match ({expected_rows}, {expected_cols})'\n>>> assert y_test.shape == (expected_rows,), f'shape of y does not match ({expected_rows},)'\n>>> assert len(X) == 2 * len(selected_battles_no_ties), 'Each battle should generate exactly 2 examples'\n",
                  "hidden": false,
                  "locked": false,
                  "points": 0
                }
              ],
              "scored": true,
              "setup": "",
              "teardown": "",
              "type": "doctest"
            }
          ]
        },
        "q4b": {
          "name": "q4b",
          "points": 2,
          "suites": [
            {
              "cases": [
                {
                  "code": ">>> assert results_df.shape == (20, 2), 'result_df shape does not match (20,2)'\n>>> assert list(results_df.columns) == ['Model', 'Score'], 'results_df does not match column: [Model, Score]'\n>>> scores = results_df['Score'].to_numpy()\n>>> assert np.all(np.diff(scores) <= 1e-12), 'Scores must be sorted in descending order.'\n",
                  "hidden": false,
                  "locked": false,
                  "points": 0
                }
              ],
              "scored": true,
              "setup": "",
              "teardown": "",
              "type": "doctest"
            }
          ]
        },
        "q5a": {
          "name": "q5a",
          "points": 2,
          "suites": [
            {
              "cases": [
                {
                  "code": ">>> def test_get_bootstrapped_score_outputs(X, y, selected_models):\n...     \"\"\"\n...       - Run get_bootstrapped_score on provided (X, y, selected_models).\n...       - Check shapes of outputs.\n...       - Check that results_df has expected columns and type.\n...       - Check that confidence intervals are valid (LB <= UB).\n...     \"\"\"\n...     np.random.seed(189)\n...     results_df, mean_scores, confidence_intervals = get_bootstrapped_score(X, y, selected_models, n_bootstrap=10)\n...     assert isinstance(results_df, pd.DataFrame), 'results_df should be a DataFrame.'\n...     for c in ['Model', 'Average Score', 'Lower Bound', 'Upper Bound', 'Category']:\n...         assert c in results_df.columns, f'Missing column: {c}'\n...     n_models = len(selected_models)\n...     assert results_df.shape[0] == n_models, f'Expected {n_models} rows in results_df, got {results_df.shape[0]}'\n...     assert mean_scores.shape == (n_models,), f'mean_scores must be shape ({n_models},)'\n...     assert confidence_intervals.shape == (2, n_models), f'confidence_intervals must be (2, {n_models})'\n...     lb, ub = confidence_intervals\n...     assert (lb <= ub).all(), 'Every lower bound must be <= upper bound.'\n...     assert ((lb <= mean_scores) & (mean_scores <= ub)).all(), 'Each mean score should lie within its CI.'\n>>> test_get_bootstrapped_score_outputs(X, y, selected_models)\n",
                  "hidden": false,
                  "locked": false
                }
              ],
              "scored": true,
              "setup": "",
              "teardown": "",
              "type": "doctest"
            }
          ]
        },
        "q5b": {
          "name": "q5b",
          "points": 2,
          "suites": [
            {
              "cases": [
                {
                  "code": ">>> assert 'results_df' in globals(), 'Expected a DataFrame named `results_df`.'\n>>> required_cols = {'Model', 'Lower Bound', 'Upper Bound', 'Rank', 'Category'}\n>>> assert required_cols.issubset(results_df.columns), f'Missing columns: {required_cols - set(results_df.columns)}'\n",
                  "hidden": false,
                  "locked": false,
                  "points": 0
                }
              ],
              "scored": true,
              "setup": "",
              "teardown": "",
              "type": "doctest"
            }
          ]
        },
        "q7a": {
          "name": "q7a",
          "points": 2,
          "suites": [
            {
              "cases": [
                {
                  "code": ">>> conv_one_assistant = {'conversation': [{'role': 'user', 'content': 'Hello'}, {'role': 'assistant', 'content': 'Hi there!'}]}\n>>> assert calculate_response_length(conv_one_assistant) == 3, 'error1: the joining did not work properly for one assistant'\n>>> conv_special = {'conversation': [{'role': 'assistant', 'content': 'Here is <|endoftext|> special'}]}\n>>> assert calculate_response_length(conv_special) == 10, 'the special token raises an error'\n",
                  "hidden": false,
                  "locked": false,
                  "points": 1
                }
              ],
              "scored": true,
              "setup": "",
              "teardown": "",
              "type": "doctest"
            }
          ]
        },
        "q7b": {
          "name": "q7b",
          "points": 2,
          "suites": [
            {
              "cases": [
                {
                  "code": ">>> assert list(per_model_battles.columns) == ['conversation', 'model', 'response_length'], 'does not have expected columns: [conversation, model, response_length]'\n>>> assert per_model_battles.shape[0] == 2 * len(selected_battles_no_ties), 'per_model_battles.shape[0] does not match expected (twice of original)'\n>>> assert (per_model_battles['response_length'] >= 0).all(), 'negative or undefined response_length'\n>>> assert np.issubdtype(per_model_battles['response_length'].dtype, np.integer), 'dtype or response_length has to be np.integer'\n",
                  "hidden": false,
                  "locked": false,
                  "points": 1
                },
                {
                  "code": ">>> def test_per_model_battles_expected_solution():\n...     expected_df = pd.DataFrame({'conversation': pd.concat([selected_battles_no_ties['conversation_a'], selected_battles_no_ties['conversation_b']], ignore_index=True), 'model': pd.concat([selected_battles_no_ties['model_a'], selected_battles_no_ties['model_b']], ignore_index=True)})\n...     expected_df['response_length'] = expected_df['conversation'].map(calculate_response_length).astype(int)\n...     expected_df = expected_df[['conversation', 'model', 'response_length']].reset_index(drop=True)\n...     student_df = per_model_battles[['conversation', 'model', 'response_length']].reset_index(drop=True)\n...     def make_sortable_key(row):\n...         conv_str = str(row['conversation']) if hasattr(row['conversation'], '__iter__') else str(row['conversation'])\n...         return (conv_str, row['model'], row['response_length'])\n...     expected_keys = [make_sortable_key(row) for _, row in expected_df.iterrows()]\n...     student_keys = [make_sortable_key(row) for _, row in student_df.iterrows()]\n...     expected_keys.sort()\n...     student_keys.sort()\n...     assert len(student_keys) == len(expected_keys), f'Length mismatch: expected {len(expected_keys)}, got {len(student_keys)}'\n...     for i, (student_key, expected_key) in enumerate(zip(student_keys, expected_keys)):\n...         assert student_key == expected_key, f'Row {i} mismatch after sorting'\n",
                  "hidden": false,
                  "locked": false
                }
              ],
              "scored": true,
              "setup": "",
              "teardown": "",
              "type": "doctest"
            }
          ]
        },
        "q8a": {
          "name": "q8a",
          "points": 2,
          "suites": [
            {
              "cases": [
                {
                  "code": ">>> expected_cols = {'style_bold_count', 'style_header_count', 'style_list_count', 'style_sum_assistant_tokens'}\n>>> missing = expected_cols - set(selected_battles_no_ties.columns)\n>>> assert not missing, f'Missing expected style feature columns: {missing}'\n",
                  "hidden": false,
                  "locked": false,
                  "points": 0
                }
              ],
              "scored": true,
              "setup": "",
              "teardown": "",
              "type": "doctest"
            }
          ]
        },
        "q8b": {
          "name": "q8b",
          "points": 2,
          "suites": [
            {
              "cases": [
                {
                  "code": ">>> expected_rows = 2 * len(selected_battles_no_ties)\n>>> expected_num_cols = 4 + len(style_feature_cols)\n>>> assert pairwise_feature_df.shape == (expected_rows, expected_num_cols), f'Expected ({expected_rows}, {expected_num_cols}), got {pairwise_feature_df.shape}'\n>>> expected_cols = {'question_id', 'X', 'y', 'direction', *style_feature_cols}\n>>> assert set(pairwise_feature_df.columns) == expected_cols, 'Unexpected columns in output.'\n>>> for d in pairwise_feature_df['direction'].unique():\n...     assert d in ('A->B', 'B->A'), f'Unexpected direction: {d}'\n",
                  "hidden": false,
                  "locked": false,
                  "points": 0
                }
              ],
              "scored": true,
              "setup": "",
              "teardown": "",
              "type": "doctest"
            }
          ]
        },
        "q8c": {
          "name": "q8c",
          "points": 2,
          "suites": [
            {
              "cases": [
                {
                  "code": ">>> assert list(results_df_style_control.columns) == ['Model', 'Category', 'Average Score', 'Lower Bound', 'Upper Bound', 'Rank'], 'results_df_style_control columns incorrect.'\n>>> assert list(combined_results_df.columns) == ['Model', 'Category', 'Average Score', 'Lower Bound', 'Upper Bound', 'Rank'], 'combined_results_df columns incorrect.'\n>>> n_models = 20\n>>> feature_labels = list(results_df['Model'].unique()) + ['style_sum_assistant_tokens', 'style_bold_count', 'style_header_count', 'style_list_count']\n>>> assert len(combined_results_df['Model'].unique()) == n_models + 4, f\"combined_results_df should contain exactly the models from results_df. ({n_models} models expected, got {len(combined_results_df['Model'].unique())})\"\n>>> assert len(combined_results_df) == n_models * 2 + 4, f'combined_results_df should contain {n_models * 2 + 4} rows, got {len(combined_results_df)}'\n>>> style_features = ['style_sum_assistant_tokens', 'style_bold_count', 'style_header_count', 'style_list_count']\n>>> assert np.all(combined_results_df.loc[combined_results_df['Model'].isin(style_features), 'Rank'].values.astype(int) == -1), 'Rank should be -1 for style features'\n",
                  "hidden": false,
                  "locked": false,
                  "points": 0.5
                }
              ],
              "scored": true,
              "setup": "",
              "teardown": "",
              "type": "doctest"
            }
          ]
        },
        "q9a": {
          "name": "q9a",
          "points": 2,
          "suites": [
            {
              "cases": [
                {
                  "code": ">>> def test_winning_losing_phrase_tfidf(english_count, winning_responses, losing_responses, df_win, df_lose):\n...     assert len(winning_responses) == english_count, 'winning_responses length should match number of English battles.'\n...     assert len(losing_responses) == english_count, 'losing_responses length should match number of English battles.'\n...     assert all((isinstance(s, str) for s in winning_responses)), 'winning_responses must be strings.'\n...     assert all((isinstance(s, str) for s in losing_responses)), 'losing_responses must be strings.'\n...     if len(winning_responses) > 0:\n...         assert any((len(s.strip()) > 0 for s in winning_responses)), 'winning_responses seem empty.'\n...         assert any((len(s.strip()) > 0 for s in losing_responses)), 'losing_responses seem empty.'\n...     assert list(df_win.columns) == ['phrase', 'winning_tfidf', 'losing_tfidf'], \"df_win must have columns ['phrase','winning_tfidf','losing_tfidf'].\"\n...     assert list(df_lose.columns) == ['phrase', 'losing_tfidf', 'winning_tfidf'], \"df_lose must have columns ['phrase','losing_tfidf','winning_tfidf'].\"\n...     assert df_win['phrase'].map(lambda x: isinstance(x, str)).all(), 'df_win phrases must be strings.'\n...     assert df_lose['phrase'].map(lambda x: isinstance(x, str)).all(), 'df_lose phrases must be strings.'\n...     for col in ['winning_tfidf', 'losing_tfidf']:\n...         assert pd.to_numeric(df_win[col], errors='coerce').notna().all(), f'df_win.{col} must be numeric.'\n...         assert (df_win[col] >= 0).all(), f'df_win.{col} must be non-negative.'\n...     for col in ['losing_tfidf', 'winning_tfidf']:\n...         assert pd.to_numeric(df_lose[col], errors='coerce').notna().all(), f'df_lose.{col} must be numeric.'\n...         assert (df_lose[col] >= 0).all(), f'df_lose.{col} must be non-negative.'\n...     a, b = tfidf_phrase_diff(winning_responses, losing_responses, 'winning', 'losing', top_n=10, max_features=500)\n...     assert list(a.columns) == list(df_win.columns), 'Re-run df_win columns mismatch.'\n...     assert list(b.columns) == list(df_lose.columns), 'Re-run df_lose columns mismatch.'\n>>> test_winning_losing_phrase_tfidf(len(selected_battles_no_ties[selected_battles_no_ties['language'] == 'English']), winning_responses, losing_responses, df_win, df_lose)\n",
                  "hidden": false,
                  "locked": false,
                  "points": 2
                }
              ],
              "scored": true,
              "setup": "",
              "teardown": "",
              "type": "doctest"
            }
          ]
        }
      }
    },
    "colab": {
      "provenance": []
    },
    "widgets": {
      "application/vnd.jupyter.widget-state+json": {
        "ed1e4f32d470475a860a5e328a412c96": {
          "model_module": "@jupyter-widgets/controls",
          "model_name": "VBoxModel",
          "model_module_version": "2.0.0",
          "state": {
            "_dom_classes": [],
            "_model_module": "@jupyter-widgets/controls",
            "_model_module_version": "2.0.0",
            "_model_name": "VBoxModel",
            "_view_count": null,
            "_view_module": "@jupyter-widgets/controls",
            "_view_module_version": "2.0.0",
            "_view_name": "VBoxView",
            "box_style": "",
            "children": [
              "IPY_MODEL_2bdc0448c9ee4b19a03354c470fa68e5",
              "IPY_MODEL_353889d853374d91b3c17033b72e59cb",
              "IPY_MODEL_6e986d7b70df48c0bdf9d2cb34b9b545",
              "IPY_MODEL_847151797b32475eb22590cd6667f71a",
              "IPY_MODEL_659e86ce04764ca49d2432d7857dcdb4"
            ],
            "layout": "IPY_MODEL_4ffeaea82965452a9714bb3f0abeed89",
            "tabbable": null,
            "tooltip": null
          }
        },
        "2bdc0448c9ee4b19a03354c470fa68e5": {
          "model_module": "@jupyter-widgets/controls",
          "model_name": "HTMLModel",
          "model_module_version": "2.0.0",
          "state": {
            "_dom_classes": [],
            "_model_module": "@jupyter-widgets/controls",
            "_model_module_version": "2.0.0",
            "_model_name": "HTMLModel",
            "_view_count": null,
            "_view_module": "@jupyter-widgets/controls",
            "_view_module_version": "2.0.0",
            "_view_name": "HTMLView",
            "description": "",
            "description_allow_html": false,
            "layout": "IPY_MODEL_b779db6f610a46bf9d8bac5ae5255990",
            "placeholder": "​",
            "style": "IPY_MODEL_0147996c54b941c4a6d49f796cd182eb",
            "tabbable": null,
            "tooltip": null,
            "value": "<center> <img\nsrc=https://huggingface.co/front/assets/huggingface_logo-noborder.svg\nalt='Hugging Face'> <br> Copy a token from <a\nhref=\"https://huggingface.co/settings/tokens\" target=\"_blank\">your Hugging Face\ntokens page</a> and paste it below. <br> Immediately click login after copying\nyour token or it might be stored in plain text in this notebook file. </center>"
          }
        },
        "353889d853374d91b3c17033b72e59cb": {
          "model_module": "@jupyter-widgets/controls",
          "model_name": "PasswordModel",
          "model_module_version": "2.0.0",
          "state": {
            "_dom_classes": [],
            "_model_module": "@jupyter-widgets/controls",
            "_model_module_version": "2.0.0",
            "_model_name": "PasswordModel",
            "_view_count": null,
            "_view_module": "@jupyter-widgets/controls",
            "_view_module_version": "2.0.0",
            "_view_name": "PasswordView",
            "continuous_update": true,
            "description": "Token:",
            "description_allow_html": false,
            "disabled": false,
            "layout": "IPY_MODEL_3a837fcb721944f1a5ba4cba66eb859d",
            "placeholder": "​",
            "style": "IPY_MODEL_469f6aba5dac4dd390cf750bf82f906a",
            "tabbable": null,
            "tooltip": null,
            "value": ""
          }
        },
        "6e986d7b70df48c0bdf9d2cb34b9b545": {
          "model_module": "@jupyter-widgets/controls",
          "model_name": "CheckboxModel",
          "model_module_version": "2.0.0",
          "state": {
            "_dom_classes": [],
            "_model_module": "@jupyter-widgets/controls",
            "_model_module_version": "2.0.0",
            "_model_name": "CheckboxModel",
            "_view_count": null,
            "_view_module": "@jupyter-widgets/controls",
            "_view_module_version": "2.0.0",
            "_view_name": "CheckboxView",
            "description": "Add token as git credential?",
            "description_allow_html": false,
            "disabled": false,
            "indent": true,
            "layout": "IPY_MODEL_3bb060826f04483baa75ce4e4785a963",
            "style": "IPY_MODEL_e972de679ae74de59631f4fddef50352",
            "tabbable": null,
            "tooltip": null,
            "value": true
          }
        },
        "847151797b32475eb22590cd6667f71a": {
          "model_module": "@jupyter-widgets/controls",
          "model_name": "ButtonModel",
          "model_module_version": "2.0.0",
          "state": {
            "_dom_classes": [],
            "_model_module": "@jupyter-widgets/controls",
            "_model_module_version": "2.0.0",
            "_model_name": "ButtonModel",
            "_view_count": null,
            "_view_module": "@jupyter-widgets/controls",
            "_view_module_version": "2.0.0",
            "_view_name": "ButtonView",
            "button_style": "",
            "description": "Login",
            "disabled": false,
            "icon": "",
            "layout": "IPY_MODEL_201b733ca4984efa8bc01c7a7dac10fc",
            "style": "IPY_MODEL_7f99d64ca3f74895a8dd0690fd88a90a",
            "tabbable": null,
            "tooltip": null
          }
        },
        "659e86ce04764ca49d2432d7857dcdb4": {
          "model_module": "@jupyter-widgets/controls",
          "model_name": "HTMLModel",
          "model_module_version": "2.0.0",
          "state": {
            "_dom_classes": [],
            "_model_module": "@jupyter-widgets/controls",
            "_model_module_version": "2.0.0",
            "_model_name": "HTMLModel",
            "_view_count": null,
            "_view_module": "@jupyter-widgets/controls",
            "_view_module_version": "2.0.0",
            "_view_name": "HTMLView",
            "description": "",
            "description_allow_html": false,
            "layout": "IPY_MODEL_7e875575cf674c7b98a22f329c8e6e01",
            "placeholder": "​",
            "style": "IPY_MODEL_1bf2a99ed5a04c199758a3ee2ea57051",
            "tabbable": null,
            "tooltip": null,
            "value": "\n<b>Pro Tip:</b> If you don't already have one, you can create a dedicated\n'notebooks' token with 'write' access, that you can then easily reuse for all\nnotebooks. </center>"
          }
        },
        "4ffeaea82965452a9714bb3f0abeed89": {
          "model_module": "@jupyter-widgets/base",
          "model_name": "LayoutModel",
          "model_module_version": "2.0.0",
          "state": {
            "_model_module": "@jupyter-widgets/base",
            "_model_module_version": "2.0.0",
            "_model_name": "LayoutModel",
            "_view_count": null,
            "_view_module": "@jupyter-widgets/base",
            "_view_module_version": "2.0.0",
            "_view_name": "LayoutView",
            "align_content": null,
            "align_items": "center",
            "align_self": null,
            "border_bottom": null,
            "border_left": null,
            "border_right": null,
            "border_top": null,
            "bottom": null,
            "display": "flex",
            "flex": null,
            "flex_flow": "column",
            "grid_area": null,
            "grid_auto_columns": null,
            "grid_auto_flow": null,
            "grid_auto_rows": null,
            "grid_column": null,
            "grid_gap": null,
            "grid_row": null,
            "grid_template_areas": null,
            "grid_template_columns": null,
            "grid_template_rows": null,
            "height": null,
            "justify_content": null,
            "justify_items": null,
            "left": null,
            "margin": null,
            "max_height": null,
            "max_width": null,
            "min_height": null,
            "min_width": null,
            "object_fit": null,
            "object_position": null,
            "order": null,
            "overflow": null,
            "padding": null,
            "right": null,
            "top": null,
            "visibility": null,
            "width": "50%"
          }
        },
        "b779db6f610a46bf9d8bac5ae5255990": {
          "model_module": "@jupyter-widgets/base",
          "model_name": "LayoutModel",
          "model_module_version": "2.0.0",
          "state": {
            "_model_module": "@jupyter-widgets/base",
            "_model_module_version": "2.0.0",
            "_model_name": "LayoutModel",
            "_view_count": null,
            "_view_module": "@jupyter-widgets/base",
            "_view_module_version": "2.0.0",
            "_view_name": "LayoutView",
            "align_content": null,
            "align_items": null,
            "align_self": null,
            "border_bottom": null,
            "border_left": null,
            "border_right": null,
            "border_top": null,
            "bottom": null,
            "display": null,
            "flex": null,
            "flex_flow": null,
            "grid_area": null,
            "grid_auto_columns": null,
            "grid_auto_flow": null,
            "grid_auto_rows": null,
            "grid_column": null,
            "grid_gap": null,
            "grid_row": null,
            "grid_template_areas": null,
            "grid_template_columns": null,
            "grid_template_rows": null,
            "height": null,
            "justify_content": null,
            "justify_items": null,
            "left": null,
            "margin": null,
            "max_height": null,
            "max_width": null,
            "min_height": null,
            "min_width": null,
            "object_fit": null,
            "object_position": null,
            "order": null,
            "overflow": null,
            "padding": null,
            "right": null,
            "top": null,
            "visibility": null,
            "width": null
          }
        },
        "0147996c54b941c4a6d49f796cd182eb": {
          "model_module": "@jupyter-widgets/controls",
          "model_name": "HTMLStyleModel",
          "model_module_version": "2.0.0",
          "state": {
            "_model_module": "@jupyter-widgets/controls",
            "_model_module_version": "2.0.0",
            "_model_name": "HTMLStyleModel",
            "_view_count": null,
            "_view_module": "@jupyter-widgets/base",
            "_view_module_version": "2.0.0",
            "_view_name": "StyleView",
            "background": null,
            "description_width": "",
            "font_size": null,
            "text_color": null
          }
        },
        "3a837fcb721944f1a5ba4cba66eb859d": {
          "model_module": "@jupyter-widgets/base",
          "model_name": "LayoutModel",
          "model_module_version": "2.0.0",
          "state": {
            "_model_module": "@jupyter-widgets/base",
            "_model_module_version": "2.0.0",
            "_model_name": "LayoutModel",
            "_view_count": null,
            "_view_module": "@jupyter-widgets/base",
            "_view_module_version": "2.0.0",
            "_view_name": "LayoutView",
            "align_content": null,
            "align_items": null,
            "align_self": null,
            "border_bottom": null,
            "border_left": null,
            "border_right": null,
            "border_top": null,
            "bottom": null,
            "display": null,
            "flex": null,
            "flex_flow": null,
            "grid_area": null,
            "grid_auto_columns": null,
            "grid_auto_flow": null,
            "grid_auto_rows": null,
            "grid_column": null,
            "grid_gap": null,
            "grid_row": null,
            "grid_template_areas": null,
            "grid_template_columns": null,
            "grid_template_rows": null,
            "height": null,
            "justify_content": null,
            "justify_items": null,
            "left": null,
            "margin": null,
            "max_height": null,
            "max_width": null,
            "min_height": null,
            "min_width": null,
            "object_fit": null,
            "object_position": null,
            "order": null,
            "overflow": null,
            "padding": null,
            "right": null,
            "top": null,
            "visibility": null,
            "width": null
          }
        },
        "469f6aba5dac4dd390cf750bf82f906a": {
          "model_module": "@jupyter-widgets/controls",
          "model_name": "TextStyleModel",
          "model_module_version": "2.0.0",
          "state": {
            "_model_module": "@jupyter-widgets/controls",
            "_model_module_version": "2.0.0",
            "_model_name": "TextStyleModel",
            "_view_count": null,
            "_view_module": "@jupyter-widgets/base",
            "_view_module_version": "2.0.0",
            "_view_name": "StyleView",
            "background": null,
            "description_width": "",
            "font_size": null,
            "text_color": null
          }
        },
        "3bb060826f04483baa75ce4e4785a963": {
          "model_module": "@jupyter-widgets/base",
          "model_name": "LayoutModel",
          "model_module_version": "2.0.0",
          "state": {
            "_model_module": "@jupyter-widgets/base",
            "_model_module_version": "2.0.0",
            "_model_name": "LayoutModel",
            "_view_count": null,
            "_view_module": "@jupyter-widgets/base",
            "_view_module_version": "2.0.0",
            "_view_name": "LayoutView",
            "align_content": null,
            "align_items": null,
            "align_self": null,
            "border_bottom": null,
            "border_left": null,
            "border_right": null,
            "border_top": null,
            "bottom": null,
            "display": null,
            "flex": null,
            "flex_flow": null,
            "grid_area": null,
            "grid_auto_columns": null,
            "grid_auto_flow": null,
            "grid_auto_rows": null,
            "grid_column": null,
            "grid_gap": null,
            "grid_row": null,
            "grid_template_areas": null,
            "grid_template_columns": null,
            "grid_template_rows": null,
            "height": null,
            "justify_content": null,
            "justify_items": null,
            "left": null,
            "margin": null,
            "max_height": null,
            "max_width": null,
            "min_height": null,
            "min_width": null,
            "object_fit": null,
            "object_position": null,
            "order": null,
            "overflow": null,
            "padding": null,
            "right": null,
            "top": null,
            "visibility": null,
            "width": null
          }
        },
        "e972de679ae74de59631f4fddef50352": {
          "model_module": "@jupyter-widgets/controls",
          "model_name": "CheckboxStyleModel",
          "model_module_version": "2.0.0",
          "state": {
            "_model_module": "@jupyter-widgets/controls",
            "_model_module_version": "2.0.0",
            "_model_name": "CheckboxStyleModel",
            "_view_count": null,
            "_view_module": "@jupyter-widgets/base",
            "_view_module_version": "2.0.0",
            "_view_name": "StyleView",
            "background": null,
            "description_width": ""
          }
        },
        "201b733ca4984efa8bc01c7a7dac10fc": {
          "model_module": "@jupyter-widgets/base",
          "model_name": "LayoutModel",
          "model_module_version": "2.0.0",
          "state": {
            "_model_module": "@jupyter-widgets/base",
            "_model_module_version": "2.0.0",
            "_model_name": "LayoutModel",
            "_view_count": null,
            "_view_module": "@jupyter-widgets/base",
            "_view_module_version": "2.0.0",
            "_view_name": "LayoutView",
            "align_content": null,
            "align_items": null,
            "align_self": null,
            "border_bottom": null,
            "border_left": null,
            "border_right": null,
            "border_top": null,
            "bottom": null,
            "display": null,
            "flex": null,
            "flex_flow": null,
            "grid_area": null,
            "grid_auto_columns": null,
            "grid_auto_flow": null,
            "grid_auto_rows": null,
            "grid_column": null,
            "grid_gap": null,
            "grid_row": null,
            "grid_template_areas": null,
            "grid_template_columns": null,
            "grid_template_rows": null,
            "height": null,
            "justify_content": null,
            "justify_items": null,
            "left": null,
            "margin": null,
            "max_height": null,
            "max_width": null,
            "min_height": null,
            "min_width": null,
            "object_fit": null,
            "object_position": null,
            "order": null,
            "overflow": null,
            "padding": null,
            "right": null,
            "top": null,
            "visibility": null,
            "width": null
          }
        },
        "7f99d64ca3f74895a8dd0690fd88a90a": {
          "model_module": "@jupyter-widgets/controls",
          "model_name": "ButtonStyleModel",
          "model_module_version": "2.0.0",
          "state": {
            "_model_module": "@jupyter-widgets/controls",
            "_model_module_version": "2.0.0",
            "_model_name": "ButtonStyleModel",
            "_view_count": null,
            "_view_module": "@jupyter-widgets/base",
            "_view_module_version": "2.0.0",
            "_view_name": "StyleView",
            "button_color": null,
            "font_family": null,
            "font_size": null,
            "font_style": null,
            "font_variant": null,
            "font_weight": null,
            "text_color": null,
            "text_decoration": null
          }
        },
        "7e875575cf674c7b98a22f329c8e6e01": {
          "model_module": "@jupyter-widgets/base",
          "model_name": "LayoutModel",
          "model_module_version": "2.0.0",
          "state": {
            "_model_module": "@jupyter-widgets/base",
            "_model_module_version": "2.0.0",
            "_model_name": "LayoutModel",
            "_view_count": null,
            "_view_module": "@jupyter-widgets/base",
            "_view_module_version": "2.0.0",
            "_view_name": "LayoutView",
            "align_content": null,
            "align_items": null,
            "align_self": null,
            "border_bottom": null,
            "border_left": null,
            "border_right": null,
            "border_top": null,
            "bottom": null,
            "display": null,
            "flex": null,
            "flex_flow": null,
            "grid_area": null,
            "grid_auto_columns": null,
            "grid_auto_flow": null,
            "grid_auto_rows": null,
            "grid_column": null,
            "grid_gap": null,
            "grid_row": null,
            "grid_template_areas": null,
            "grid_template_columns": null,
            "grid_template_rows": null,
            "height": null,
            "justify_content": null,
            "justify_items": null,
            "left": null,
            "margin": null,
            "max_height": null,
            "max_width": null,
            "min_height": null,
            "min_width": null,
            "object_fit": null,
            "object_position": null,
            "order": null,
            "overflow": null,
            "padding": null,
            "right": null,
            "top": null,
            "visibility": null,
            "width": null
          }
        },
        "1bf2a99ed5a04c199758a3ee2ea57051": {
          "model_module": "@jupyter-widgets/controls",
          "model_name": "HTMLStyleModel",
          "model_module_version": "2.0.0",
          "state": {
            "_model_module": "@jupyter-widgets/controls",
            "_model_module_version": "2.0.0",
            "_model_name": "HTMLStyleModel",
            "_view_count": null,
            "_view_module": "@jupyter-widgets/base",
            "_view_module_version": "2.0.0",
            "_view_name": "StyleView",
            "background": null,
            "description_width": "",
            "font_size": null,
            "text_color": null
          }
        },
        "1e56e526f43049e6afb61d97fd1c1ba3": {
          "model_module": "@jupyter-widgets/controls",
          "model_name": "HBoxModel",
          "model_module_version": "2.0.0",
          "state": {
            "_dom_classes": [],
            "_model_module": "@jupyter-widgets/controls",
            "_model_module_version": "2.0.0",
            "_model_name": "HBoxModel",
            "_view_count": null,
            "_view_module": "@jupyter-widgets/controls",
            "_view_module_version": "2.0.0",
            "_view_name": "HBoxView",
            "box_style": "",
            "children": [
              "IPY_MODEL_27d8a89f2b47482f9c216f0066079ef7",
              "IPY_MODEL_502f092854424f2187fb848af3124416",
              "IPY_MODEL_b8d9fb829da743458b9b26173e2bdc9e"
            ],
            "layout": "IPY_MODEL_3b9edfb936ff46d1ae0adf96f24ec6e8",
            "tabbable": null,
            "tooltip": null
          }
        },
        "27d8a89f2b47482f9c216f0066079ef7": {
          "model_module": "@jupyter-widgets/controls",
          "model_name": "HTMLModel",
          "model_module_version": "2.0.0",
          "state": {
            "_dom_classes": [],
            "_model_module": "@jupyter-widgets/controls",
            "_model_module_version": "2.0.0",
            "_model_name": "HTMLModel",
            "_view_count": null,
            "_view_module": "@jupyter-widgets/controls",
            "_view_module_version": "2.0.0",
            "_view_name": "HTMLView",
            "description": "",
            "description_allow_html": false,
            "layout": "IPY_MODEL_7486f1d73a6541ea9c02bf574c1a0abe",
            "placeholder": "​",
            "style": "IPY_MODEL_b048641a57f941239b3d2c53d15d71fc",
            "tabbable": null,
            "tooltip": null,
            "value": "README.md: "
          }
        },
        "502f092854424f2187fb848af3124416": {
          "model_module": "@jupyter-widgets/controls",
          "model_name": "FloatProgressModel",
          "model_module_version": "2.0.0",
          "state": {
            "_dom_classes": [],
            "_model_module": "@jupyter-widgets/controls",
            "_model_module_version": "2.0.0",
            "_model_name": "FloatProgressModel",
            "_view_count": null,
            "_view_module": "@jupyter-widgets/controls",
            "_view_module_version": "2.0.0",
            "_view_name": "ProgressView",
            "bar_style": "success",
            "description": "",
            "description_allow_html": false,
            "layout": "IPY_MODEL_b798c72d403640a1baaf87ab0bc7e54a",
            "max": 1,
            "min": 0,
            "orientation": "horizontal",
            "style": "IPY_MODEL_53096429a66841489ae9dff9894b3682",
            "tabbable": null,
            "tooltip": null,
            "value": 1
          }
        },
        "b8d9fb829da743458b9b26173e2bdc9e": {
          "model_module": "@jupyter-widgets/controls",
          "model_name": "HTMLModel",
          "model_module_version": "2.0.0",
          "state": {
            "_dom_classes": [],
            "_model_module": "@jupyter-widgets/controls",
            "_model_module_version": "2.0.0",
            "_model_name": "HTMLModel",
            "_view_count": null,
            "_view_module": "@jupyter-widgets/controls",
            "_view_module_version": "2.0.0",
            "_view_name": "HTMLView",
            "description": "",
            "description_allow_html": false,
            "layout": "IPY_MODEL_4351a26be5024ab3aaa4ab3866ef8a46",
            "placeholder": "​",
            "style": "IPY_MODEL_d6640ca71c2448e6b8f453fc96f53982",
            "tabbable": null,
            "tooltip": null,
            "value": " 1.69k/? [00:00&lt;00:00, 21.2kB/s]"
          }
        },
        "3b9edfb936ff46d1ae0adf96f24ec6e8": {
          "model_module": "@jupyter-widgets/base",
          "model_name": "LayoutModel",
          "model_module_version": "2.0.0",
          "state": {
            "_model_module": "@jupyter-widgets/base",
            "_model_module_version": "2.0.0",
            "_model_name": "LayoutModel",
            "_view_count": null,
            "_view_module": "@jupyter-widgets/base",
            "_view_module_version": "2.0.0",
            "_view_name": "LayoutView",
            "align_content": null,
            "align_items": null,
            "align_self": null,
            "border_bottom": null,
            "border_left": null,
            "border_right": null,
            "border_top": null,
            "bottom": null,
            "display": null,
            "flex": null,
            "flex_flow": null,
            "grid_area": null,
            "grid_auto_columns": null,
            "grid_auto_flow": null,
            "grid_auto_rows": null,
            "grid_column": null,
            "grid_gap": null,
            "grid_row": null,
            "grid_template_areas": null,
            "grid_template_columns": null,
            "grid_template_rows": null,
            "height": null,
            "justify_content": null,
            "justify_items": null,
            "left": null,
            "margin": null,
            "max_height": null,
            "max_width": null,
            "min_height": null,
            "min_width": null,
            "object_fit": null,
            "object_position": null,
            "order": null,
            "overflow": null,
            "padding": null,
            "right": null,
            "top": null,
            "visibility": null,
            "width": null
          }
        },
        "7486f1d73a6541ea9c02bf574c1a0abe": {
          "model_module": "@jupyter-widgets/base",
          "model_name": "LayoutModel",
          "model_module_version": "2.0.0",
          "state": {
            "_model_module": "@jupyter-widgets/base",
            "_model_module_version": "2.0.0",
            "_model_name": "LayoutModel",
            "_view_count": null,
            "_view_module": "@jupyter-widgets/base",
            "_view_module_version": "2.0.0",
            "_view_name": "LayoutView",
            "align_content": null,
            "align_items": null,
            "align_self": null,
            "border_bottom": null,
            "border_left": null,
            "border_right": null,
            "border_top": null,
            "bottom": null,
            "display": null,
            "flex": null,
            "flex_flow": null,
            "grid_area": null,
            "grid_auto_columns": null,
            "grid_auto_flow": null,
            "grid_auto_rows": null,
            "grid_column": null,
            "grid_gap": null,
            "grid_row": null,
            "grid_template_areas": null,
            "grid_template_columns": null,
            "grid_template_rows": null,
            "height": null,
            "justify_content": null,
            "justify_items": null,
            "left": null,
            "margin": null,
            "max_height": null,
            "max_width": null,
            "min_height": null,
            "min_width": null,
            "object_fit": null,
            "object_position": null,
            "order": null,
            "overflow": null,
            "padding": null,
            "right": null,
            "top": null,
            "visibility": null,
            "width": null
          }
        },
        "b048641a57f941239b3d2c53d15d71fc": {
          "model_module": "@jupyter-widgets/controls",
          "model_name": "HTMLStyleModel",
          "model_module_version": "2.0.0",
          "state": {
            "_model_module": "@jupyter-widgets/controls",
            "_model_module_version": "2.0.0",
            "_model_name": "HTMLStyleModel",
            "_view_count": null,
            "_view_module": "@jupyter-widgets/base",
            "_view_module_version": "2.0.0",
            "_view_name": "StyleView",
            "background": null,
            "description_width": "",
            "font_size": null,
            "text_color": null
          }
        },
        "b798c72d403640a1baaf87ab0bc7e54a": {
          "model_module": "@jupyter-widgets/base",
          "model_name": "LayoutModel",
          "model_module_version": "2.0.0",
          "state": {
            "_model_module": "@jupyter-widgets/base",
            "_model_module_version": "2.0.0",
            "_model_name": "LayoutModel",
            "_view_count": null,
            "_view_module": "@jupyter-widgets/base",
            "_view_module_version": "2.0.0",
            "_view_name": "LayoutView",
            "align_content": null,
            "align_items": null,
            "align_self": null,
            "border_bottom": null,
            "border_left": null,
            "border_right": null,
            "border_top": null,
            "bottom": null,
            "display": null,
            "flex": null,
            "flex_flow": null,
            "grid_area": null,
            "grid_auto_columns": null,
            "grid_auto_flow": null,
            "grid_auto_rows": null,
            "grid_column": null,
            "grid_gap": null,
            "grid_row": null,
            "grid_template_areas": null,
            "grid_template_columns": null,
            "grid_template_rows": null,
            "height": null,
            "justify_content": null,
            "justify_items": null,
            "left": null,
            "margin": null,
            "max_height": null,
            "max_width": null,
            "min_height": null,
            "min_width": null,
            "object_fit": null,
            "object_position": null,
            "order": null,
            "overflow": null,
            "padding": null,
            "right": null,
            "top": null,
            "visibility": null,
            "width": "20px"
          }
        },
        "53096429a66841489ae9dff9894b3682": {
          "model_module": "@jupyter-widgets/controls",
          "model_name": "ProgressStyleModel",
          "model_module_version": "2.0.0",
          "state": {
            "_model_module": "@jupyter-widgets/controls",
            "_model_module_version": "2.0.0",
            "_model_name": "ProgressStyleModel",
            "_view_count": null,
            "_view_module": "@jupyter-widgets/base",
            "_view_module_version": "2.0.0",
            "_view_name": "StyleView",
            "bar_color": null,
            "description_width": ""
          }
        },
        "4351a26be5024ab3aaa4ab3866ef8a46": {
          "model_module": "@jupyter-widgets/base",
          "model_name": "LayoutModel",
          "model_module_version": "2.0.0",
          "state": {
            "_model_module": "@jupyter-widgets/base",
            "_model_module_version": "2.0.0",
            "_model_name": "LayoutModel",
            "_view_count": null,
            "_view_module": "@jupyter-widgets/base",
            "_view_module_version": "2.0.0",
            "_view_name": "LayoutView",
            "align_content": null,
            "align_items": null,
            "align_self": null,
            "border_bottom": null,
            "border_left": null,
            "border_right": null,
            "border_top": null,
            "bottom": null,
            "display": null,
            "flex": null,
            "flex_flow": null,
            "grid_area": null,
            "grid_auto_columns": null,
            "grid_auto_flow": null,
            "grid_auto_rows": null,
            "grid_column": null,
            "grid_gap": null,
            "grid_row": null,
            "grid_template_areas": null,
            "grid_template_columns": null,
            "grid_template_rows": null,
            "height": null,
            "justify_content": null,
            "justify_items": null,
            "left": null,
            "margin": null,
            "max_height": null,
            "max_width": null,
            "min_height": null,
            "min_width": null,
            "object_fit": null,
            "object_position": null,
            "order": null,
            "overflow": null,
            "padding": null,
            "right": null,
            "top": null,
            "visibility": null,
            "width": null
          }
        },
        "d6640ca71c2448e6b8f453fc96f53982": {
          "model_module": "@jupyter-widgets/controls",
          "model_name": "HTMLStyleModel",
          "model_module_version": "2.0.0",
          "state": {
            "_model_module": "@jupyter-widgets/controls",
            "_model_module_version": "2.0.0",
            "_model_name": "HTMLStyleModel",
            "_view_count": null,
            "_view_module": "@jupyter-widgets/base",
            "_view_module_version": "2.0.0",
            "_view_name": "StyleView",
            "background": null,
            "description_width": "",
            "font_size": null,
            "text_color": null
          }
        },
        "14febdd44ce040bc8244c0b53b7f8148": {
          "model_module": "@jupyter-widgets/controls",
          "model_name": "HBoxModel",
          "model_module_version": "2.0.0",
          "state": {
            "_dom_classes": [],
            "_model_module": "@jupyter-widgets/controls",
            "_model_module_version": "2.0.0",
            "_model_name": "HBoxModel",
            "_view_count": null,
            "_view_module": "@jupyter-widgets/controls",
            "_view_module_version": "2.0.0",
            "_view_name": "HBoxView",
            "box_style": "",
            "children": [
              "IPY_MODEL_c4503992582e414aabee01eb0b860438",
              "IPY_MODEL_efc925c9bb354950bc210ebd35d8f2fe",
              "IPY_MODEL_fe683b04c86645b088acb10790af9276"
            ],
            "layout": "IPY_MODEL_eda92fb8d5344cbbbbc313a618b9e421",
            "tabbable": null,
            "tooltip": null
          }
        },
        "c4503992582e414aabee01eb0b860438": {
          "model_module": "@jupyter-widgets/controls",
          "model_name": "HTMLModel",
          "model_module_version": "2.0.0",
          "state": {
            "_dom_classes": [],
            "_model_module": "@jupyter-widgets/controls",
            "_model_module_version": "2.0.0",
            "_model_name": "HTMLModel",
            "_view_count": null,
            "_view_module": "@jupyter-widgets/controls",
            "_view_module_version": "2.0.0",
            "_view_name": "HTMLView",
            "description": "",
            "description_allow_html": false,
            "layout": "IPY_MODEL_448457a5279840e4b0dc136e30cf38bb",
            "placeholder": "​",
            "style": "IPY_MODEL_1bb9ec618d714904b5e235e2d5096387",
            "tabbable": null,
            "tooltip": null,
            "value": "data/arena-explorer-preference-100k.parq(…): 100%"
          }
        },
        "efc925c9bb354950bc210ebd35d8f2fe": {
          "model_module": "@jupyter-widgets/controls",
          "model_name": "FloatProgressModel",
          "model_module_version": "2.0.0",
          "state": {
            "_dom_classes": [],
            "_model_module": "@jupyter-widgets/controls",
            "_model_module_version": "2.0.0",
            "_model_name": "FloatProgressModel",
            "_view_count": null,
            "_view_module": "@jupyter-widgets/controls",
            "_view_module_version": "2.0.0",
            "_view_name": "ProgressView",
            "bar_style": "success",
            "description": "",
            "description_allow_html": false,
            "layout": "IPY_MODEL_d774e7355f0547b3a29cf363ec0180b8",
            "max": 380088205,
            "min": 0,
            "orientation": "horizontal",
            "style": "IPY_MODEL_6ad6d335c0144579919111838f917efa",
            "tabbable": null,
            "tooltip": null,
            "value": 380088205
          }
        },
        "fe683b04c86645b088acb10790af9276": {
          "model_module": "@jupyter-widgets/controls",
          "model_name": "HTMLModel",
          "model_module_version": "2.0.0",
          "state": {
            "_dom_classes": [],
            "_model_module": "@jupyter-widgets/controls",
            "_model_module_version": "2.0.0",
            "_model_name": "HTMLModel",
            "_view_count": null,
            "_view_module": "@jupyter-widgets/controls",
            "_view_module_version": "2.0.0",
            "_view_name": "HTMLView",
            "description": "",
            "description_allow_html": false,
            "layout": "IPY_MODEL_6f7cd63d5bc34269b322e4ce3a0c789a",
            "placeholder": "​",
            "style": "IPY_MODEL_f9e4da55df1740a2b6bc30874a87b3a6",
            "tabbable": null,
            "tooltip": null,
            "value": " 380M/380M [00:16&lt;00:00, 30.1MB/s]"
          }
        },
        "eda92fb8d5344cbbbbc313a618b9e421": {
          "model_module": "@jupyter-widgets/base",
          "model_name": "LayoutModel",
          "model_module_version": "2.0.0",
          "state": {
            "_model_module": "@jupyter-widgets/base",
            "_model_module_version": "2.0.0",
            "_model_name": "LayoutModel",
            "_view_count": null,
            "_view_module": "@jupyter-widgets/base",
            "_view_module_version": "2.0.0",
            "_view_name": "LayoutView",
            "align_content": null,
            "align_items": null,
            "align_self": null,
            "border_bottom": null,
            "border_left": null,
            "border_right": null,
            "border_top": null,
            "bottom": null,
            "display": null,
            "flex": null,
            "flex_flow": null,
            "grid_area": null,
            "grid_auto_columns": null,
            "grid_auto_flow": null,
            "grid_auto_rows": null,
            "grid_column": null,
            "grid_gap": null,
            "grid_row": null,
            "grid_template_areas": null,
            "grid_template_columns": null,
            "grid_template_rows": null,
            "height": null,
            "justify_content": null,
            "justify_items": null,
            "left": null,
            "margin": null,
            "max_height": null,
            "max_width": null,
            "min_height": null,
            "min_width": null,
            "object_fit": null,
            "object_position": null,
            "order": null,
            "overflow": null,
            "padding": null,
            "right": null,
            "top": null,
            "visibility": null,
            "width": null
          }
        },
        "448457a5279840e4b0dc136e30cf38bb": {
          "model_module": "@jupyter-widgets/base",
          "model_name": "LayoutModel",
          "model_module_version": "2.0.0",
          "state": {
            "_model_module": "@jupyter-widgets/base",
            "_model_module_version": "2.0.0",
            "_model_name": "LayoutModel",
            "_view_count": null,
            "_view_module": "@jupyter-widgets/base",
            "_view_module_version": "2.0.0",
            "_view_name": "LayoutView",
            "align_content": null,
            "align_items": null,
            "align_self": null,
            "border_bottom": null,
            "border_left": null,
            "border_right": null,
            "border_top": null,
            "bottom": null,
            "display": null,
            "flex": null,
            "flex_flow": null,
            "grid_area": null,
            "grid_auto_columns": null,
            "grid_auto_flow": null,
            "grid_auto_rows": null,
            "grid_column": null,
            "grid_gap": null,
            "grid_row": null,
            "grid_template_areas": null,
            "grid_template_columns": null,
            "grid_template_rows": null,
            "height": null,
            "justify_content": null,
            "justify_items": null,
            "left": null,
            "margin": null,
            "max_height": null,
            "max_width": null,
            "min_height": null,
            "min_width": null,
            "object_fit": null,
            "object_position": null,
            "order": null,
            "overflow": null,
            "padding": null,
            "right": null,
            "top": null,
            "visibility": null,
            "width": null
          }
        },
        "1bb9ec618d714904b5e235e2d5096387": {
          "model_module": "@jupyter-widgets/controls",
          "model_name": "HTMLStyleModel",
          "model_module_version": "2.0.0",
          "state": {
            "_model_module": "@jupyter-widgets/controls",
            "_model_module_version": "2.0.0",
            "_model_name": "HTMLStyleModel",
            "_view_count": null,
            "_view_module": "@jupyter-widgets/base",
            "_view_module_version": "2.0.0",
            "_view_name": "StyleView",
            "background": null,
            "description_width": "",
            "font_size": null,
            "text_color": null
          }
        },
        "d774e7355f0547b3a29cf363ec0180b8": {
          "model_module": "@jupyter-widgets/base",
          "model_name": "LayoutModel",
          "model_module_version": "2.0.0",
          "state": {
            "_model_module": "@jupyter-widgets/base",
            "_model_module_version": "2.0.0",
            "_model_name": "LayoutModel",
            "_view_count": null,
            "_view_module": "@jupyter-widgets/base",
            "_view_module_version": "2.0.0",
            "_view_name": "LayoutView",
            "align_content": null,
            "align_items": null,
            "align_self": null,
            "border_bottom": null,
            "border_left": null,
            "border_right": null,
            "border_top": null,
            "bottom": null,
            "display": null,
            "flex": null,
            "flex_flow": null,
            "grid_area": null,
            "grid_auto_columns": null,
            "grid_auto_flow": null,
            "grid_auto_rows": null,
            "grid_column": null,
            "grid_gap": null,
            "grid_row": null,
            "grid_template_areas": null,
            "grid_template_columns": null,
            "grid_template_rows": null,
            "height": null,
            "justify_content": null,
            "justify_items": null,
            "left": null,
            "margin": null,
            "max_height": null,
            "max_width": null,
            "min_height": null,
            "min_width": null,
            "object_fit": null,
            "object_position": null,
            "order": null,
            "overflow": null,
            "padding": null,
            "right": null,
            "top": null,
            "visibility": null,
            "width": null
          }
        },
        "6ad6d335c0144579919111838f917efa": {
          "model_module": "@jupyter-widgets/controls",
          "model_name": "ProgressStyleModel",
          "model_module_version": "2.0.0",
          "state": {
            "_model_module": "@jupyter-widgets/controls",
            "_model_module_version": "2.0.0",
            "_model_name": "ProgressStyleModel",
            "_view_count": null,
            "_view_module": "@jupyter-widgets/base",
            "_view_module_version": "2.0.0",
            "_view_name": "StyleView",
            "bar_color": null,
            "description_width": ""
          }
        },
        "6f7cd63d5bc34269b322e4ce3a0c789a": {
          "model_module": "@jupyter-widgets/base",
          "model_name": "LayoutModel",
          "model_module_version": "2.0.0",
          "state": {
            "_model_module": "@jupyter-widgets/base",
            "_model_module_version": "2.0.0",
            "_model_name": "LayoutModel",
            "_view_count": null,
            "_view_module": "@jupyter-widgets/base",
            "_view_module_version": "2.0.0",
            "_view_name": "LayoutView",
            "align_content": null,
            "align_items": null,
            "align_self": null,
            "border_bottom": null,
            "border_left": null,
            "border_right": null,
            "border_top": null,
            "bottom": null,
            "display": null,
            "flex": null,
            "flex_flow": null,
            "grid_area": null,
            "grid_auto_columns": null,
            "grid_auto_flow": null,
            "grid_auto_rows": null,
            "grid_column": null,
            "grid_gap": null,
            "grid_row": null,
            "grid_template_areas": null,
            "grid_template_columns": null,
            "grid_template_rows": null,
            "height": null,
            "justify_content": null,
            "justify_items": null,
            "left": null,
            "margin": null,
            "max_height": null,
            "max_width": null,
            "min_height": null,
            "min_width": null,
            "object_fit": null,
            "object_position": null,
            "order": null,
            "overflow": null,
            "padding": null,
            "right": null,
            "top": null,
            "visibility": null,
            "width": null
          }
        },
        "f9e4da55df1740a2b6bc30874a87b3a6": {
          "model_module": "@jupyter-widgets/controls",
          "model_name": "HTMLStyleModel",
          "model_module_version": "2.0.0",
          "state": {
            "_model_module": "@jupyter-widgets/controls",
            "_model_module_version": "2.0.0",
            "_model_name": "HTMLStyleModel",
            "_view_count": null,
            "_view_module": "@jupyter-widgets/base",
            "_view_module_version": "2.0.0",
            "_view_name": "StyleView",
            "background": null,
            "description_width": "",
            "font_size": null,
            "text_color": null
          }
        },
        "e617edd27d0641579e6fa9c8ad611a71": {
          "model_module": "@jupyter-widgets/controls",
          "model_name": "HBoxModel",
          "model_module_version": "2.0.0",
          "state": {
            "_dom_classes": [],
            "_model_module": "@jupyter-widgets/controls",
            "_model_module_version": "2.0.0",
            "_model_name": "HBoxModel",
            "_view_count": null,
            "_view_module": "@jupyter-widgets/controls",
            "_view_module_version": "2.0.0",
            "_view_name": "HBoxView",
            "box_style": "",
            "children": [
              "IPY_MODEL_c9afd0675c6d4cf3a5155f9d78405f8d",
              "IPY_MODEL_dec17b5a999a4d6abcb2f57494823728",
              "IPY_MODEL_eb3d01c109a54d59a5f701cd4eda9227"
            ],
            "layout": "IPY_MODEL_ecc8e20ec42144238d8c07442289c732",
            "tabbable": null,
            "tooltip": null
          }
        },
        "c9afd0675c6d4cf3a5155f9d78405f8d": {
          "model_module": "@jupyter-widgets/controls",
          "model_name": "HTMLModel",
          "model_module_version": "2.0.0",
          "state": {
            "_dom_classes": [],
            "_model_module": "@jupyter-widgets/controls",
            "_model_module_version": "2.0.0",
            "_model_name": "HTMLModel",
            "_view_count": null,
            "_view_module": "@jupyter-widgets/controls",
            "_view_module_version": "2.0.0",
            "_view_name": "HTMLView",
            "description": "",
            "description_allow_html": false,
            "layout": "IPY_MODEL_a1e0086910514b2d9bff74b125792d44",
            "placeholder": "​",
            "style": "IPY_MODEL_9608ba10d7c74993a53abb1467328a44",
            "tabbable": null,
            "tooltip": null,
            "value": "Generating train split: 100%"
          }
        },
        "dec17b5a999a4d6abcb2f57494823728": {
          "model_module": "@jupyter-widgets/controls",
          "model_name": "FloatProgressModel",
          "model_module_version": "2.0.0",
          "state": {
            "_dom_classes": [],
            "_model_module": "@jupyter-widgets/controls",
            "_model_module_version": "2.0.0",
            "_model_name": "FloatProgressModel",
            "_view_count": null,
            "_view_module": "@jupyter-widgets/controls",
            "_view_module_version": "2.0.0",
            "_view_name": "ProgressView",
            "bar_style": "success",
            "description": "",
            "description_allow_html": false,
            "layout": "IPY_MODEL_24d0a641832e4e97a2338a137f3a5776",
            "max": 106134,
            "min": 0,
            "orientation": "horizontal",
            "style": "IPY_MODEL_ecba8344cfd94cbe9f02df4803733757",
            "tabbable": null,
            "tooltip": null,
            "value": 106134
          }
        },
        "eb3d01c109a54d59a5f701cd4eda9227": {
          "model_module": "@jupyter-widgets/controls",
          "model_name": "HTMLModel",
          "model_module_version": "2.0.0",
          "state": {
            "_dom_classes": [],
            "_model_module": "@jupyter-widgets/controls",
            "_model_module_version": "2.0.0",
            "_model_name": "HTMLModel",
            "_view_count": null,
            "_view_module": "@jupyter-widgets/controls",
            "_view_module_version": "2.0.0",
            "_view_name": "HTMLView",
            "description": "",
            "description_allow_html": false,
            "layout": "IPY_MODEL_9db4089e990e4be5b36be384097eb847",
            "placeholder": "​",
            "style": "IPY_MODEL_4b3f6beb2315424280e3b7a1f571d05c",
            "tabbable": null,
            "tooltip": null,
            "value": " 106134/106134 [00:14&lt;00:00, 7131.90 examples/s]"
          }
        },
        "ecc8e20ec42144238d8c07442289c732": {
          "model_module": "@jupyter-widgets/base",
          "model_name": "LayoutModel",
          "model_module_version": "2.0.0",
          "state": {
            "_model_module": "@jupyter-widgets/base",
            "_model_module_version": "2.0.0",
            "_model_name": "LayoutModel",
            "_view_count": null,
            "_view_module": "@jupyter-widgets/base",
            "_view_module_version": "2.0.0",
            "_view_name": "LayoutView",
            "align_content": null,
            "align_items": null,
            "align_self": null,
            "border_bottom": null,
            "border_left": null,
            "border_right": null,
            "border_top": null,
            "bottom": null,
            "display": null,
            "flex": null,
            "flex_flow": null,
            "grid_area": null,
            "grid_auto_columns": null,
            "grid_auto_flow": null,
            "grid_auto_rows": null,
            "grid_column": null,
            "grid_gap": null,
            "grid_row": null,
            "grid_template_areas": null,
            "grid_template_columns": null,
            "grid_template_rows": null,
            "height": null,
            "justify_content": null,
            "justify_items": null,
            "left": null,
            "margin": null,
            "max_height": null,
            "max_width": null,
            "min_height": null,
            "min_width": null,
            "object_fit": null,
            "object_position": null,
            "order": null,
            "overflow": null,
            "padding": null,
            "right": null,
            "top": null,
            "visibility": null,
            "width": null
          }
        },
        "a1e0086910514b2d9bff74b125792d44": {
          "model_module": "@jupyter-widgets/base",
          "model_name": "LayoutModel",
          "model_module_version": "2.0.0",
          "state": {
            "_model_module": "@jupyter-widgets/base",
            "_model_module_version": "2.0.0",
            "_model_name": "LayoutModel",
            "_view_count": null,
            "_view_module": "@jupyter-widgets/base",
            "_view_module_version": "2.0.0",
            "_view_name": "LayoutView",
            "align_content": null,
            "align_items": null,
            "align_self": null,
            "border_bottom": null,
            "border_left": null,
            "border_right": null,
            "border_top": null,
            "bottom": null,
            "display": null,
            "flex": null,
            "flex_flow": null,
            "grid_area": null,
            "grid_auto_columns": null,
            "grid_auto_flow": null,
            "grid_auto_rows": null,
            "grid_column": null,
            "grid_gap": null,
            "grid_row": null,
            "grid_template_areas": null,
            "grid_template_columns": null,
            "grid_template_rows": null,
            "height": null,
            "justify_content": null,
            "justify_items": null,
            "left": null,
            "margin": null,
            "max_height": null,
            "max_width": null,
            "min_height": null,
            "min_width": null,
            "object_fit": null,
            "object_position": null,
            "order": null,
            "overflow": null,
            "padding": null,
            "right": null,
            "top": null,
            "visibility": null,
            "width": null
          }
        },
        "9608ba10d7c74993a53abb1467328a44": {
          "model_module": "@jupyter-widgets/controls",
          "model_name": "HTMLStyleModel",
          "model_module_version": "2.0.0",
          "state": {
            "_model_module": "@jupyter-widgets/controls",
            "_model_module_version": "2.0.0",
            "_model_name": "HTMLStyleModel",
            "_view_count": null,
            "_view_module": "@jupyter-widgets/base",
            "_view_module_version": "2.0.0",
            "_view_name": "StyleView",
            "background": null,
            "description_width": "",
            "font_size": null,
            "text_color": null
          }
        },
        "24d0a641832e4e97a2338a137f3a5776": {
          "model_module": "@jupyter-widgets/base",
          "model_name": "LayoutModel",
          "model_module_version": "2.0.0",
          "state": {
            "_model_module": "@jupyter-widgets/base",
            "_model_module_version": "2.0.0",
            "_model_name": "LayoutModel",
            "_view_count": null,
            "_view_module": "@jupyter-widgets/base",
            "_view_module_version": "2.0.0",
            "_view_name": "LayoutView",
            "align_content": null,
            "align_items": null,
            "align_self": null,
            "border_bottom": null,
            "border_left": null,
            "border_right": null,
            "border_top": null,
            "bottom": null,
            "display": null,
            "flex": null,
            "flex_flow": null,
            "grid_area": null,
            "grid_auto_columns": null,
            "grid_auto_flow": null,
            "grid_auto_rows": null,
            "grid_column": null,
            "grid_gap": null,
            "grid_row": null,
            "grid_template_areas": null,
            "grid_template_columns": null,
            "grid_template_rows": null,
            "height": null,
            "justify_content": null,
            "justify_items": null,
            "left": null,
            "margin": null,
            "max_height": null,
            "max_width": null,
            "min_height": null,
            "min_width": null,
            "object_fit": null,
            "object_position": null,
            "order": null,
            "overflow": null,
            "padding": null,
            "right": null,
            "top": null,
            "visibility": null,
            "width": null
          }
        },
        "ecba8344cfd94cbe9f02df4803733757": {
          "model_module": "@jupyter-widgets/controls",
          "model_name": "ProgressStyleModel",
          "model_module_version": "2.0.0",
          "state": {
            "_model_module": "@jupyter-widgets/controls",
            "_model_module_version": "2.0.0",
            "_model_name": "ProgressStyleModel",
            "_view_count": null,
            "_view_module": "@jupyter-widgets/base",
            "_view_module_version": "2.0.0",
            "_view_name": "StyleView",
            "bar_color": null,
            "description_width": ""
          }
        },
        "9db4089e990e4be5b36be384097eb847": {
          "model_module": "@jupyter-widgets/base",
          "model_name": "LayoutModel",
          "model_module_version": "2.0.0",
          "state": {
            "_model_module": "@jupyter-widgets/base",
            "_model_module_version": "2.0.0",
            "_model_name": "LayoutModel",
            "_view_count": null,
            "_view_module": "@jupyter-widgets/base",
            "_view_module_version": "2.0.0",
            "_view_name": "LayoutView",
            "align_content": null,
            "align_items": null,
            "align_self": null,
            "border_bottom": null,
            "border_left": null,
            "border_right": null,
            "border_top": null,
            "bottom": null,
            "display": null,
            "flex": null,
            "flex_flow": null,
            "grid_area": null,
            "grid_auto_columns": null,
            "grid_auto_flow": null,
            "grid_auto_rows": null,
            "grid_column": null,
            "grid_gap": null,
            "grid_row": null,
            "grid_template_areas": null,
            "grid_template_columns": null,
            "grid_template_rows": null,
            "height": null,
            "justify_content": null,
            "justify_items": null,
            "left": null,
            "margin": null,
            "max_height": null,
            "max_width": null,
            "min_height": null,
            "min_width": null,
            "object_fit": null,
            "object_position": null,
            "order": null,
            "overflow": null,
            "padding": null,
            "right": null,
            "top": null,
            "visibility": null,
            "width": null
          }
        },
        "4b3f6beb2315424280e3b7a1f571d05c": {
          "model_module": "@jupyter-widgets/controls",
          "model_name": "HTMLStyleModel",
          "model_module_version": "2.0.0",
          "state": {
            "_model_module": "@jupyter-widgets/controls",
            "_model_module_version": "2.0.0",
            "_model_name": "HTMLStyleModel",
            "_view_count": null,
            "_view_module": "@jupyter-widgets/base",
            "_view_module_version": "2.0.0",
            "_view_name": "StyleView",
            "background": null,
            "description_width": "",
            "font_size": null,
            "text_color": null
          }
        }
      }
    }
  },
  "nbformat": 4,
  "nbformat_minor": 5
}